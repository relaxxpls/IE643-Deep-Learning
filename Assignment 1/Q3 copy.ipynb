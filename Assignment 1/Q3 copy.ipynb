{
  "nbformat": 4,
  "nbformat_minor": 2,
  "metadata": {
    "colab": {
      "name": "FeedForwardNet(Assignment 1).ipynb",
      "provenance": [],
      "collapsed_sections": []
    },
    "interpreter": {
      "hash": "63fd5069d213b44bf678585dea6b12cceca9941eaf7f819626cde1f2670de90d"
    },
    "kernelspec": {
      "name": "python3",
      "display_name": "Python 3.9.6 64-bit"
    },
    "language_info": {
      "codemirror_mode": {
        "name": "ipython",
        "version": 3
      },
      "file_extension": ".py",
      "mimetype": "text/x-python",
      "name": "python",
      "nbconvert_exporter": "python",
      "pygments_lexer": "ipython3",
      "version": "3.9.6"
    }
  },
  "cells": [
    {
      "cell_type": "markdown",
      "source": [
        "# IE 643: Feed Forward Net (Multi-Layered Perceptron) Demo"
      ],
      "metadata": {
        "id": "meRnMrRlZTH3"
      }
    },
    {
      "cell_type": "markdown",
      "source": [
        "In this demo, we will learn how to build a Multi-layered Perceptron (Feed Forward Nerual Network) model from scratch. There are a lot of libraries available like Pytorch, Keras, Tensorflow etc. which can help you build much complex models in much fewer lines. However before using them, it is important to understand how to build your own neural network from scratch. "
      ],
      "metadata": {
        "id": "lJ13GRM5Hu57"
      }
    },
    {
      "cell_type": "code",
      "execution_count": 1,
      "source": [
        "import numpy as np\r\n",
        "import matplotlib.pyplot as plt\r\n",
        "np.random.seed(0)"
      ],
      "outputs": [],
      "metadata": {
        "id": "QT3Suc9U_yq8",
        "scrolled": false
      }
    },
    {
      "cell_type": "markdown",
      "source": [
        "## **Data loading and pre-processing**\n",
        "\n",
        "We will be using the MNIST dataset for classification. It contains grayscale images of handwritten digits(0-9) in 28x28 size. Our task is to build a neural network to classify these images. \n",
        "\n",
        "> The MNIST database of handwritten digits has a training set of 60,000 examples, and a test set of 10,000 examples. It is a subset of a larger set available from NIST. The digits have been size-normalized and centered in a fixed-size image.\n",
        "It is a good database for people who want to try learning techniques and pattern recognition methods on real-world data while spending minimal efforts on preprocessing and formatting.\n",
        "\n",
        "Source: http://yann.lecun.com/exdb/mnist/\n",
        "\n",
        "## Loading the dataset:"
      ],
      "metadata": {
        "id": "F1A1MYFw_yrG"
      }
    },
    {
      "cell_type": "code",
      "execution_count": 2,
      "source": [
        "from keras.datasets import mnist\r\n",
        "\r\n",
        "(X_train, Y_train), (X_test, Y_test) = mnist.load_data()\r\n",
        "print(f'Train: X - {X_train.shape}, y - {Y_train.shape}')\r\n",
        "print(f'Test: X - {X_test.shape}, y - {Y_test.shape}')"
      ],
      "outputs": [
        {
          "output_type": "stream",
          "name": "stdout",
          "text": [
            "Train: X - (60000, 28, 28), y - (60000,)\n",
            "Test: X - (10000, 28, 28), y - (10000,)\n"
          ]
        }
      ],
      "metadata": {
        "colab": {
          "base_uri": "https://localhost:8080/"
        },
        "id": "suoT0icEE-U5",
        "outputId": "5513c6cd-fcdd-4c43-c03f-2fc0b3c1bcce"
      }
    },
    {
      "cell_type": "code",
      "execution_count": 3,
      "source": [
        "unique, counts = np.unique(Y_train, return_counts=True)\r\n",
        "print(np.asarray((unique, counts)).T)"
      ],
      "outputs": [
        {
          "output_type": "stream",
          "name": "stdout",
          "text": [
            "[[   0 5923]\n",
            " [   1 6742]\n",
            " [   2 5958]\n",
            " [   3 6131]\n",
            " [   4 5842]\n",
            " [   5 5421]\n",
            " [   6 5918]\n",
            " [   7 6265]\n",
            " [   8 5851]\n",
            " [   9 5949]]\n"
          ]
        }
      ],
      "metadata": {
        "colab": {
          "base_uri": "https://localhost:8080/"
        },
        "id": "zwkEglRBMsbr",
        "outputId": "073e7293-2a4c-4670-b37f-1fe0ac6ce911"
      }
    },
    {
      "cell_type": "markdown",
      "source": [
        "#### Displaying an image from the dataset"
      ],
      "metadata": {
        "id": "hitiUqp3AfPm"
      }
    },
    {
      "cell_type": "code",
      "execution_count": 4,
      "source": [
        "plt.imshow(X_train[31],cmap='gray')\r\n",
        "plt.show()\r\n",
        "print(f\"\\n\\nLabel in dataset: {Y_train[31]}\")"
      ],
      "outputs": [
        {
          "output_type": "display_data",
          "data": {
            "image/png": "[encoded data removed]",
            "text/plain": [
              "<Figure size 432x288 with 1 Axes>"
            ]
          },
          "metadata": {
            "needs_background": "light"
          }
        },
        {
          "output_type": "stream",
          "name": "stdout",
          "text": [
            "\n",
            "\n",
            "Label in dataset: 8\n"
          ]
        }
      ],
      "metadata": {
        "colab": {
          "base_uri": "https://localhost:8080/",
          "height": 318
        },
        "id": "zIUooIG--_4f",
        "outputId": "3c8c5e4a-3022-49a4-b452-961e0bb08a80"
      }
    },
    {
      "cell_type": "code",
      "execution_count": 5,
      "source": [
        "# Sample images for all digits\r\n",
        "\r\n",
        "digits = np.unique(Y_train)\r\n",
        "M = 30\r\n",
        "dim = 28\r\n",
        "fig, axs = plt.subplots(len(digits), M, figsize=(18,6))\r\n",
        "\r\n",
        "for i,d in enumerate(digits):\r\n",
        "    for j in range(M):\r\n",
        "        axs[i,j].imshow(X_train[Y_train==d][j].reshape((dim,dim)), cmap='gray')\r\n",
        "        axs[i,j].axis('off')"
      ],
      "outputs": [
        {
          "output_type": "display_data",
          "data": {
            "image/png": "[encoded data removed]",
            "text/plain": [
              "<Figure size 1296x432 with 300 Axes>"
            ]
          },
          "metadata": {
            "needs_background": "light"
          }
        }
      ],
      "metadata": {
        "colab": {
          "base_uri": "https://localhost:8080/",
          "height": 357
        },
        "id": "U4iknbGdONNR",
        "outputId": "dfd0e0a5-30e2-4d4a-9472-d7999f890c7d"
      }
    },
    {
      "cell_type": "code",
      "execution_count": 6,
      "source": [
        "X_train[31]"
      ],
      "outputs": [
        {
          "output_type": "execute_result",
          "data": {
            "text/plain": [
              "array([[  0,   0,   0,   0,   0,   0,   0,   0,   0,   0,   0,   0,   0,\n",
              "          0,   0,   0,   0,   0,   0,   0,   0,   0,   0,   0,   0,   0,\n",
              "          0,   0],\n",
              "       [  0,   0,   0,   0,   0,   0,   0,   0,   0,   0,   0,   0,   0,\n",
              "          0,   0,   0,   0,   0,   0,   0,   0,   0,   0,   0,   0,   0,\n",
              "          0,   0],\n",
              "       [  0,   0,   0,   0,   0,   0,   0,   0,   0,   0,   0,   0,   0,\n",
              "          0,   0,   0,   0,   0,   0,   0,   0,   0,   0,   0,   0,   0,\n",
              "          0,   0],\n",
              "       [  0,   0,   0,   0,   0,   0,   0,   0,   0,   0,   0,   0,   0,\n",
              "          0,   0,   0,   0,   0,   0,   0,   0,   0,   0,   0,   0,   0,\n",
              "          0,   0],\n",
              "       [  0,   0,   0,   0,   0,   0,   0,   0,   0,   0,   0,   0,   0,\n",
              "          0,   0,   0,   0,   0,   0,   0,   0,   0,   0,   0,   0,   0,\n",
              "          0,   0],\n",
              "       [  0,   0,   0,   0,   0,   0,   0,   0,   0,   0,   0,   0,   0,\n",
              "         42, 154, 180, 255, 176, 118, 118,  16,   0,   0,   0,   0,   0,\n",
              "          0,   0],\n",
              "       [  0,   0,   0,   0,   0,   0,   0,   0,   0,   0,   0,   0,   0,\n",
              "        142, 253, 253, 253, 253, 253, 253, 236, 103,   0,   0,   0,   0,\n",
              "          0,   0],\n",
              "       [  0,   0,   0,   0,   0,   0,   0,   0,   0,   0,   0,   0,   0,\n",
              "        227, 253, 253, 204, 177, 177, 177, 243, 191,   0,   0,   0,   0,\n",
              "          0,   0],\n",
              "       [  0,   0,   0,   0,   0,   0,   0,   0,   0,   0,   0,   0,   0,\n",
              "        227, 253, 216,  22,   0,   0,  23, 227, 238,  96,  21,   0,   0,\n",
              "          0,   0],\n",
              "       [  0,   0,   0,   0,   0,   0,   0,   0,   0,   0,   0,   0,   0,\n",
              "        227, 253, 205,   0,   0,  17, 124, 253, 253, 253, 170,   0,   0,\n",
              "          0,   0],\n",
              "       [  0,   0,   0,   0,   0,   0,   0,   0,   0,   0,   0,   0,   0,\n",
              "        227, 253, 234,  62,  18, 201, 253, 253, 253, 251,  90,   0,   0,\n",
              "          0,   0],\n",
              "       [  0,   0,   0,   0,   0,   0,   0,   0,   0,   0,   0,   0,   0,\n",
              "        227, 253, 253, 253, 253, 253, 253, 253, 221, 103,   0,   0,   0,\n",
              "          0,   0],\n",
              "       [  0,   0,   0,   0,   0,   0,   0,   0,   0,   0,   0,   0,   0,\n",
              "        227, 253, 253, 253, 253, 253, 208,  24,   5,   0,   0,   0,   0,\n",
              "          0,   0],\n",
              "       [  0,   0,   0,   0,   0,   0,   0,   0,   0,   0,   0,   0,  39,\n",
              "        236, 253, 253, 253, 251,  97,  16,   0,   0,   0,   0,   0,   0,\n",
              "          0,   0],\n",
              "       [  0,   0,   0,   0,   0,   0,   0,   0,   0,   0,   4,  69, 224,\n",
              "        253, 253, 240, 169,  46,   0,   0,   0,   0,   0,   0,   0,   0,\n",
              "          0,   0],\n",
              "       [  0,   0,   0,   0,   0,   0,   0,   0,   0,  33, 134, 253, 253,\n",
              "        253, 253, 105,   0,   0,   0,   0,   0,   0,   0,   0,   0,   0,\n",
              "          0,   0],\n",
              "       [  0,   0,   0,   0,   0,   0,   0,   0,  51, 225, 253, 253, 253,\n",
              "        253, 253,  68,   0,   0,   0,   0,   0,   0,   0,   0,   0,   0,\n",
              "          0,   0],\n",
              "       [  0,   0,   0,   0,   0,   0,   0,  48, 227, 253, 253, 250, 174,\n",
              "        253, 253,  68,   0,   0,   0,   0,   0,   0,   0,   0,   0,   0,\n",
              "          0,   0],\n",
              "       [  0,   0,   0,   0,   0,   0,   0, 213, 253, 253, 179,  63, 111,\n",
              "        253, 253,  68,   0,   0,   0,   0,   0,   0,   0,   0,   0,   0,\n",
              "          0,   0],\n",
              "       [  0,   0,   0,   0,   0,   0,  92, 251, 201,  13,   5,   0, 166,\n",
              "        253, 253,  68,   0,   0,   0,   0,   0,   0,   0,   0,   0,   0,\n",
              "          0,   0],\n",
              "       [  0,   0,   0,   0,   0,  39, 222, 253, 198,   0,   0,   0, 248,\n",
              "        253, 231,  46,   0,   0,   0,   0,   0,   0,   0,   0,   0,   0,\n",
              "          0,   0],\n",
              "       [  0,   0,   0,   0,   0,  54, 243, 253, 124,   0,  38, 133, 252,\n",
              "        253, 150,   0,   0,   0,   0,   0,   0,   0,   0,   0,   0,   0,\n",
              "          0,   0],\n",
              "       [  0,   0,   0,   0,   0, 118, 253, 253, 237, 179, 223, 253, 253,\n",
              "        190,  14,   0,   0,   0,   0,   0,   0,   0,   0,   0,   0,   0,\n",
              "          0,   0],\n",
              "       [  0,   0,   0,   0,   0,  44, 230, 253, 253, 253, 253, 253, 244,\n",
              "         76,   0,   0,   0,   0,   0,   0,   0,   0,   0,   0,   0,   0,\n",
              "          0,   0],\n",
              "       [  0,   0,   0,   0,   0,   0,  45, 231, 253, 253, 253, 182,  66,\n",
              "          0,   0,   0,   0,   0,   0,   0,   0,   0,   0,   0,   0,   0,\n",
              "          0,   0],\n",
              "       [  0,   0,   0,   0,   0,   0,   0,   0,   0,   0,   0,   0,   0,\n",
              "          0,   0,   0,   0,   0,   0,   0,   0,   0,   0,   0,   0,   0,\n",
              "          0,   0],\n",
              "       [  0,   0,   0,   0,   0,   0,   0,   0,   0,   0,   0,   0,   0,\n",
              "          0,   0,   0,   0,   0,   0,   0,   0,   0,   0,   0,   0,   0,\n",
              "          0,   0],\n",
              "       [  0,   0,   0,   0,   0,   0,   0,   0,   0,   0,   0,   0,   0,\n",
              "          0,   0,   0,   0,   0,   0,   0,   0,   0,   0,   0,   0,   0,\n",
              "          0,   0]], dtype=uint8)"
            ]
          },
          "metadata": {},
          "execution_count": 6
        }
      ],
      "metadata": {
        "colab": {
          "base_uri": "https://localhost:8080/"
        },
        "id": "wpB1-j-MBFyp",
        "outputId": "262d24a8-9392-4525-b14b-0c805212fcc3"
      }
    },
    {
      "cell_type": "markdown",
      "source": [
        "As you can see here, each image is a (28x28) 2d numpy array and hence contains 784 individual pixel values (in grayscale)."
      ],
      "metadata": {
        "id": "IHJuvR7aJdR7"
      }
    },
    {
      "cell_type": "code",
      "execution_count": 7,
      "source": [
        "# flattening single example \r\n",
        "example = X_train[31].reshape((-1))\r\n",
        "print(type(example))\r\n",
        "print(\"Shape:\", example.shape)"
      ],
      "outputs": [
        {
          "output_type": "stream",
          "name": "stdout",
          "text": [
            "<class 'numpy.ndarray'>\n",
            "Shape: (784,)\n"
          ]
        }
      ],
      "metadata": {
        "colab": {
          "base_uri": "https://localhost:8080/"
        },
        "id": "kI8TlS3XG0tT",
        "outputId": "45261992-2f84-4040-9a2c-cdc15bdf18d0"
      }
    },
    {
      "cell_type": "markdown",
      "source": [
        "##Pre-processing:\n",
        "\n",
        "**Flattening the input values:**\n",
        "Since we are using a simple Feed-forward Nerual Network, it's better to convert each input from a 2D array to a 1D array. This process is called flattening. "
      ],
      "metadata": {
        "id": "UcJGFAPB_yrQ"
      }
    },
    {
      "cell_type": "code",
      "execution_count": 8,
      "source": [
        "# flattening the input\r\n",
        "\r\n",
        "X_train_flattened = X_train.reshape((X_train.shape[0], -1))\r\n",
        "X_test_flattened = X_test.reshape((X_test.shape[0], -1))\r\n",
        "\r\n",
        "print(f\"Shapes - Train: {X_train_flattened.shape}, Test: {X_test_flattened.shape}\")"
      ],
      "outputs": [
        {
          "output_type": "stream",
          "name": "stdout",
          "text": [
            "Shapes - Train: (60000, 784), Test: (10000, 784)\n"
          ]
        }
      ],
      "metadata": {
        "colab": {
          "base_uri": "https://localhost:8080/"
        },
        "id": "0N84EzhtH__R",
        "outputId": "d80fe86c-452a-4a4a-f63c-2a823ee5ddf3"
      }
    },
    {
      "cell_type": "markdown",
      "source": [
        "**Normalizing input values:**\n",
        "\n",
        "We often need to normalize the input values into a convinient range. Let us see what is the current range of pixel values:"
      ],
      "metadata": {
        "id": "rTqzd3CfJ-Pb"
      }
    },
    {
      "cell_type": "code",
      "execution_count": 9,
      "source": [
        "print(\"Minimum pixel value =\", X_train_flattened.min())\r\n",
        "print(\"Maximum pixel value =\", X_train_flattened.max())"
      ],
      "outputs": [
        {
          "output_type": "stream",
          "name": "stdout",
          "text": [
            "Minimum pixel value = 0\n",
            "Maximum pixel value = 255\n"
          ]
        }
      ],
      "metadata": {
        "colab": {
          "base_uri": "https://localhost:8080/"
        },
        "id": "nXobob1BIiyK",
        "outputId": "98a6cebe-c8bb-41e4-bbe8-1e1a271782ce"
      }
    },
    {
      "cell_type": "markdown",
      "source": [
        "So it turns out that the pixel values are in the standard grayscale range **0-255** (in some datasets it can differ. For e.g., in the 'digits' dataset, the range is 0-16)\n",
        "\n",
        "We want to normalize the input such that each value lies in the (0,1) range. Hence we will divide each of the input values by 255. This will not affect the nature of input."
      ],
      "metadata": {
        "id": "d8-YU_AvKUnr"
      }
    },
    {
      "cell_type": "markdown",
      "source": [
        "**Normalizing the dataset:** "
      ],
      "metadata": {
        "id": "1J2Z_A8cSYFl"
      }
    },
    {
      "cell_type": "code",
      "execution_count": 10,
      "source": [
        "X_normalized_train = np.round(X_train_flattened/255, 3)\r\n",
        "X_normalized_test = np.round(X_test_flattened/255, 3)\r\n",
        "\r\n",
        "print(\"Minimum pixel value =\", X_normalized_train.min())\r\n",
        "print(\"Maximum pixel value =\", X_normalized_train.max())"
      ],
      "outputs": [
        {
          "output_type": "stream",
          "name": "stdout",
          "text": [
            "Minimum pixel value = 0.0\n",
            "Maximum pixel value = 1.0\n"
          ]
        }
      ],
      "metadata": {
        "colab": {
          "base_uri": "https://localhost:8080/"
        },
        "id": "Eav9JO6PREKz",
        "outputId": "957050f0-320e-40af-ca49-d5f22bd379ca"
      }
    },
    {
      "cell_type": "code",
      "execution_count": 11,
      "source": [
        "# normalized and flattened data can still be visualized as original data\r\n",
        "plt.imshow(X_normalized_train[31].reshape(28,28), cmap='gray')\r\n",
        "plt.show()"
      ],
      "outputs": [
        {
          "output_type": "display_data",
          "data": {
            "image/png": "[encoded data removed]",
            "text/plain": [
              "<Figure size 432x288 with 1 Axes>"
            ]
          },
          "metadata": {
            "needs_background": "light"
          }
        }
      ],
      "metadata": {
        "colab": {
          "base_uri": "https://localhost:8080/",
          "height": 265
        },
        "id": "M1BjaZDWDqpQ",
        "outputId": "30381650-26ed-46d4-8233-22375a6daa52"
      }
    },
    {
      "cell_type": "markdown",
      "source": [
        "As you can see, normalizing doesn't affect the nature of image. It all depends on the relative values. So now we will use this flattened input layer and proceed for the next step."
      ],
      "metadata": {
        "id": "faIzHnDYVOgn"
      }
    },
    {
      "cell_type": "markdown",
      "source": [
        "## Creating datasets for binary and multi-class Classification:\r\n",
        "\r\n",
        "We will have a look at two problems. First one is binary classification, whereas second one is a multiclass classification problem."
      ],
      "metadata": {
        "id": "pMvyqMAi_yrl"
      }
    },
    {
      "cell_type": "markdown",
      "source": [
        "### **Binary Classification problem:**\r\n",
        "\r\n",
        "MNIST has 10 different target classes, each representing one of the digits from 0-9. Let's consider digit '**0**' and digit '**6**'. Let's extract these inputs from the original dataset."
      ],
      "metadata": {
        "id": "YIxeICYNVqpc"
      }
    },
    {
      "cell_type": "markdown",
      "source": [
        "**Creating the subsets:**"
      ],
      "metadata": {
        "id": "jffSkJI_g1Ey"
      }
    },
    {
      "cell_type": "code",
      "execution_count": 12,
      "source": [
        "train_idx = np.where((Y_train==0) | (Y_train==6))\r\n",
        "X_train_bin = X_normalized_train[train_idx]\r\n",
        "Y_train_bin = Y_train[train_idx]\r\n",
        "\r\n",
        "test_idx = np.where((Y_test==0) | (Y_test==6))\r\n",
        "X_test_bin = X_normalized_test[test_idx]\r\n",
        "Y_test_bin = Y_test[test_idx]\r\n",
        "\r\n",
        "print(f'Trainset shapes - X: {X_train_bin.shape}, Y: {Y_train_bin.shape}')\r\n",
        "print(f'Testset shapes - X: {X_test_bin.shape}, Y: {Y_test_bin.shape}')\r\n",
        "\r\n",
        "print(f'\\nTrain statistics - 0: {(Y_train_bin==0).sum()}, 6: {(Y_train_bin==6).sum()}')\r\n",
        "print(f'Test statistics - 0: {(Y_test_bin==0).sum()}, 6: {(Y_test_bin==6).sum()}')"
      ],
      "outputs": [
        {
          "output_type": "stream",
          "name": "stdout",
          "text": [
            "Trainset shapes - X: (11841, 784), Y: (11841,)\n",
            "Testset shapes - X: (1938, 784), Y: (1938,)\n",
            "\n",
            "Train statistics - 0: 5923, 6: 5918\n",
            "Test statistics - 0: 980, 6: 958\n"
          ]
        }
      ],
      "metadata": {
        "colab": {
          "base_uri": "https://localhost:8080/"
        },
        "id": "7111D1S4VpGG",
        "outputId": "36c5ae63-55f3-4de6-bd9e-1bd98402f82d"
      }
    },
    {
      "cell_type": "code",
      "execution_count": 13,
      "source": [
        "# Setting label of class 6 to 1 for binary classification problem\r\n",
        "\r\n",
        "Y_train_bin[Y_train_bin==6] = 1 \r\n",
        "Y_test_bin[Y_test_bin==6] = 1 "
      ],
      "outputs": [],
      "metadata": {
        "id": "ng61OK6hHZla"
      }
    },
    {
      "cell_type": "markdown",
      "source": [
        "We now have only 0s and 6s in the newly created subsets. Also number of 0s and 6s is quite even. So we can say that the dataset is quite evenly balanced. In practical situations, often it's the opposite and we need to implement different techniques to balance it. "
      ],
      "metadata": {
        "id": "-CI4qkMSYsTO"
      }
    },
    {
      "cell_type": "markdown",
      "source": [
        "**Splitting the training dataset:**\n",
        "\n",
        "Often it is observed that training the model for a large number of epochs leads to overfitting. To avoid this problem, we need a validation dataset to keep track of the 'validation accuracy'. Hence now we will split the current training dataset (of 11841 instances) into a training set and a validation set."
      ],
      "metadata": {
        "id": "kMWxxCpnZLfH"
      }
    },
    {
      "cell_type": "code",
      "execution_count": 14,
      "source": [
        "from sklearn.model_selection import train_test_split"
      ],
      "outputs": [],
      "metadata": {
        "id": "hvoYIMvKX6sd"
      }
    },
    {
      "cell_type": "markdown",
      "source": [
        "(Even though the function name says train_test_split, you can use it for validation dataset or any kind of split in general)"
      ],
      "metadata": {
        "id": "rTtGk-4sbSxW"
      }
    },
    {
      "cell_type": "markdown",
      "source": [
        "We are splitting the old training dataset here. In practice, people consider splits like 90-10, 80-20, 67-33 etc. You can chose your own value. It's always a tradeoff. If validation dataset is too small, it may not reflect the best results in terms of validation accuracy. On the other hand, taking a large chunk for validation part may result in loss of some info while training.\n",
        "\n",
        "We will go with 80-20 spllit for now."
      ],
      "metadata": {
        "id": "0Ju8BK8PdcCG"
      }
    },
    {
      "cell_type": "code",
      "execution_count": 15,
      "source": [
        "X_train_bin, X_val_bin, Y_train_bin, Y_val_bin = train_test_split(X_train_bin, Y_train_bin, test_size=0.2, random_state = 1)"
      ],
      "outputs": [],
      "metadata": {
        "id": "V9slDYMrbh53"
      }
    },
    {
      "cell_type": "code",
      "execution_count": 16,
      "source": [
        "print(\"Instances in new train-set:\", len(Y_train_bin))\r\n",
        "print(\"Instances in val-set:\", len(Y_val_bin))\r\n",
        "print(\"\\nCount of 0s and 6s in train-set:\", (Y_train_bin==0).sum(), (Y_train_bin==1).sum())\r\n",
        "print(\"Count of 0s and 6s in val-set:\", (Y_val_bin==0).sum(), (Y_val_bin==1).sum())"
      ],
      "outputs": [
        {
          "output_type": "stream",
          "name": "stdout",
          "text": [
            "Instances in new train-set: 9472\n",
            "Instances in val-set: 2369\n",
            "\n",
            "Count of 0s and 6s in train-set: 4724 4748\n",
            "Count of 0s and 6s in val-set: 1199 1170\n"
          ]
        }
      ],
      "metadata": {
        "colab": {
          "base_uri": "https://localhost:8080/"
        },
        "id": "y0mWgtbYcmug",
        "outputId": "5f225120-bbfd-4957-c355-9627056d40e8"
      }
    },
    {
      "cell_type": "code",
      "execution_count": 17,
      "source": [
        "# Traspose feature matrices as per our model requirement\r\n",
        "\r\n",
        "X_train_bin, X_val_bin, X_test_bin = X_train_bin.T, X_val_bin.T, X_test_bin.T\r\n",
        "print(f'Shapes - {X_train_bin.shape, X_val_bin.shape, X_test_bin.shape}')"
      ],
      "outputs": [
        {
          "output_type": "stream",
          "name": "stdout",
          "text": [
            "Shapes - ((784, 9472), (784, 2369), (784, 1938))\n"
          ]
        }
      ],
      "metadata": {
        "colab": {
          "base_uri": "https://localhost:8080/"
        },
        "id": "PlFCGFISpDmD",
        "outputId": "6263ea64-f66c-46f3-d3bb-bd1fb9dfef03"
      }
    },
    {
      "cell_type": "markdown",
      "source": [
        "It's important to know that the split function has an argument **shuffle** which is **True** by default. It means that your data is shuffled before splitting. If you are using a custom method to split, keep this in mind!\n",
        "\n",
        "Also we are using a **random_state** parameter to ensure the same split at each run. It's not necessary to use in practice unless you want to do experiments with the same split.\n",
        "\n",
        "Let's get to our model:\n"
      ],
      "metadata": {
        "id": "JMDaMVykdwuv"
      }
    },
    {
      "cell_type": "markdown",
      "source": [
        "## Building the Neural Net class: "
      ],
      "metadata": {
        "id": "b6Ag1ws0Im_N"
      }
    },
    {
      "cell_type": "code",
      "execution_count": 18,
      "source": [
        "def get_lr(lr):\r\n",
        "    if isinstance(lr, (float, int)): # constant lr arg is passed to train\r\n",
        "        return lambda x: lr # we return a function object which returns the same lr at every epoch\r\n",
        "    elif callable(lr): # function lr arg is passed to train\r\n",
        "        return lr # the function is then used to get lr for a particular epoch\r\n",
        "    else:\r\n",
        "        raise ValueError('param lr can only be a number or a scheduler function')\r\n",
        "    \r\n",
        "print(get_lr(1e-3)(5))"
      ],
      "outputs": [
        {
          "output_type": "stream",
          "name": "stdout",
          "text": [
            "0.001\n"
          ]
        }
      ],
      "metadata": {}
    },
    {
      "cell_type": "code",
      "execution_count": 19,
      "source": [
        "class Neural_Network():\r\n",
        "    def __init__(self, neurons, Activations, initialization='randn'):\r\n",
        "        \"\"\"Define the NN design parameters\r\n",
        "        Args:\r\n",
        "            neurons (int array): list of numbers listing neurons for each layer\r\n",
        "            Activations (str array): list of activations to be used for hidden and output layers\r\n",
        "            initialization (str, optional): Choose weight initialization from\r\n",
        "            uniform or normal distribution. Defaults to 'randn'.\r\n",
        "        \"\"\"\r\n",
        "        \r\n",
        "        self.inputSize = neurons[0] # Number of neurons in input layer\r\n",
        "        self.outputSize = neurons[-1] # Number of neurons in output layer\r\n",
        "        self.layers = len(neurons)\r\n",
        "        self.weights = [] # weights for each layer\r\n",
        "        self.biases = [] # biases in each layer \r\n",
        "        self.layer_activations = [] # activations in each layer\r\n",
        "        # self.loss = self.lossSE\r\n",
        "        if initialization == 'rand':\r\n",
        "            self.initializer = np.random.rand\r\n",
        "        elif initialization == 'randn':\r\n",
        "            self.initializer = np.random.randn\r\n",
        "        else:\r\n",
        "            raise ValueError(\"initialization must be 'rand' or 'randn'\")\r\n",
        "        for i in range(len(neurons)-1):\r\n",
        "            self.weights.append(self.initializer(neurons[i+1],neurons[i])) # weight matrix between layer i and layer i+1\r\n",
        "            self.biases.append(self.initializer(neurons[i+1],1))\r\n",
        "            self.layer_activations.append(Activations[i]) # activations for each layer\r\n",
        "        \r\n",
        "            \r\n",
        "    def sigmoid(self, z):\r\n",
        "        \"\"\"returns result of the sigmoid activation function on input z.\"\"\"                 \r\n",
        "        return 1.0/(1.0+np.exp(-z))\r\n",
        "    \r\n",
        "    def sigmoidPrime(self,z):\r\n",
        "        \"\"\"returns derivative of sigmoid activation function applied on input z.\"\"\"\r\n",
        "        return self.sigmoid(z)*(1-self.sigmoid(z))\r\n",
        "\r\n",
        "    def tanh(self, z):\r\n",
        "        \"\"\"returns result of the hyperbolic tan activation function on input z.\"\"\"\r\n",
        "        return (np.exp(z) - np.exp(-z)) / (np.exp(z) + np.exp(-z))\r\n",
        "\r\n",
        "    def tanhPrime(self, z):\r\n",
        "        \"\"\"returns derivative of hyperbolic tan activation function applied on input z.\"\"\"\r\n",
        "        return 1 - self.tanh(z)**2\r\n",
        "\r\n",
        "    def linear(self, z):\r\n",
        "        \"\"\"returns result of the linear activation function on input z.\"\"\"\r\n",
        "        return z\r\n",
        "\r\n",
        "    def linearPrime(self, z):\r\n",
        "        \"\"\"returns derivative of linear activation function applied on input z.\"\"\"\r\n",
        "        return 1\r\n",
        "\r\n",
        "    def ReLU(self, z):\r\n",
        "        \"\"\"returns result of the ReLU activation function on input z.\"\"\"\r\n",
        "        return np.maximum(0, z)\r\n",
        "\r\n",
        "    def ReLUPrime(self, z):\r\n",
        "        \"\"\"returns derivative of ReLU activation function applied on input z.\"\"\"\r\n",
        "        return z > 0\r\n",
        "    \r\n",
        "    def softmax(self, z):\r\n",
        "        \"\"\"returns result of the softmax activation function on input z.\"\"\"\r\n",
        "        return np.exp(z) / np.sum(np.exp(z), axis=0)\r\n",
        "    \r\n",
        "    def lossSE(self, predicted, actual):\r\n",
        "        \"\"\"Implementation of Squared-error loss function.\"\"\"\r\n",
        "        return np.mean(0.5*(predicted-actual)**2)\r\n",
        "    \r\n",
        "    def lossCE(self, predicted, actual):\r\n",
        "        \"\"\"Implementation of Cross-Entropy loss function.\"\"\"\r\n",
        "        return (-1 / actual.shape[1]) * np.sum(np.multiply(actual, np.log(predicted)))\r\n",
        "    \r\n",
        "    def forward(self, a):\r\n",
        "        \"\"\"Defines forward pass of the NN\r\n",
        "\r\n",
        "        Args:\r\n",
        "            a (array): input of size self.inputSize\r\n",
        "\r\n",
        "        Returns:\r\n",
        "            a (array): output of the forward pass\r\n",
        "            layer_dot_prod_z (list): layerwise intermediate outputs\r\n",
        "            layer_activations_a (list): layerwise activations\r\n",
        "        \"\"\"\r\n",
        "\r\n",
        "        layer_activations_a = [a] # store the input as the input layer activations\r\n",
        "        layer_dot_prod_z = []\r\n",
        "        for i, param in enumerate(zip(self.biases, self.weights)):\r\n",
        "            b, w = param[0], param[1]\r\n",
        "            z = np.dot(w, a)+b\r\n",
        "            if self.layer_activations[i].lower()=='sigmoid':\r\n",
        "                a = self.sigmoid(z)\r\n",
        "            elif self.layer_activations[i].lower()=='relu':\r\n",
        "                a = self.ReLU(z)\r\n",
        "            elif self.layer_activations[i].lower()=='tanh':   \r\n",
        "                a = self.tanh(z)\r\n",
        "            elif self.layer_activations[i].lower()=='linear':\r\n",
        "                a = self.linear(z)\r\n",
        "            elif self.layer_activations[i].lower()=='softmax':\r\n",
        "                a = self.softmax(z)\r\n",
        "            else:\r\n",
        "                raise ValueError(\"Activation function not supported\")\r\n",
        "            layer_dot_prod_z.append(z)\r\n",
        "            layer_activations_a.append(a)\r\n",
        "        return a, layer_dot_prod_z, layer_activations_a\r\n",
        "\r\n",
        "    def backward(self, x, y, zs, activations):\r\n",
        "        \"\"\"backward pass to calculate gradient of loss w.r.t. NN parameters\r\n",
        "\r\n",
        "        Args:\r\n",
        "            x (array): input\r\n",
        "            y (array): ouputs from forward pass\r\n",
        "            zs (list): layerwise intermediate outputs from forward pass\r\n",
        "            activations (list): layerwise activations from forward pass\r\n",
        "\r\n",
        "        Returns:\r\n",
        "            gradients (tuple): gradients with respect to bias and weight parameters respectively\r\n",
        "        \"\"\"\r\n",
        "        \r\n",
        "        grad_b = [np.zeros(b.shape) for b in self.biases]\r\n",
        "        grad_w = [np.zeros(w.shape) for w in self.weights]\r\n",
        "        \r\n",
        "        n = zs[-1].shape[1]\r\n",
        "        \r\n",
        "        for t in range(1, len(activations)):\r\n",
        "            if t == 1:\r\n",
        "                delta = (activations[-t] - y)\r\n",
        "            else:\r\n",
        "                delta = np.dot(self.weights[-t+1].transpose(), delta)\r\n",
        "\r\n",
        "            if self.layer_activations[-t].lower()=='sigmoid':\r\n",
        "                delta *= self.sigmoidPrime(zs[-t])\r\n",
        "            elif self.layer_activations[-t].lower()=='relu':\r\n",
        "                delta *= self.ReLUPrime(zs[-t])\r\n",
        "            elif self.layer_activations[-t].lower()=='tanh':   \r\n",
        "                delta *= self.tanhPrime(zs[-t])\r\n",
        "            elif self.layer_activations[-t].lower()=='linear':\r\n",
        "                delta *= self.linearPrime(zs[-t])\r\n",
        "            # elif self.layer_activations[t].lower()=='softmax':\r\n",
        "            #     delta *= self.softmaxPrime(zs[-t])\r\n",
        "            else:\r\n",
        "                raise ValueError(\"Activation function not supported\")\r\n",
        "\r\n",
        "            grad_b[-t] = np.sum(delta, axis=1, keepdims=True) / n\r\n",
        "            grad_w[-t] = np.dot(delta, activations[-t-1].transpose()) / n\r\n",
        "\r\n",
        "        return (grad_b, grad_w)                 \r\n",
        "\r\n",
        "\r\n",
        "    def update_parameters(self, grads, lr):\r\n",
        "        \"\"\"update the NN parameters using the gradients\r\n",
        "\r\n",
        "        Args:\r\n",
        "            grads (list): gradients obtained from backward pass\r\n",
        "            lr (float): learning rate of NN\r\n",
        "        \"\"\"\r\n",
        "        \r\n",
        "        grad_b, grad_w = grads[0], grads[1]\r\n",
        "\r\n",
        "        for i in range(len(self.weights)):\r\n",
        "            self.weights[i] -= lr * grad_w[i]\r\n",
        "            self.biases[i] -= lr * grad_b[i]\r\n",
        "\r\n",
        "\r\n",
        "    def error(self, X, Y, errors):  \r\n",
        "        \"\"\"Appends loss to error list\"\"\"\r\n",
        "        y = np.squeeze(self.forward(X)[0])\r\n",
        "        errors.append(self.loss(y, Y))\r\n",
        "\r\n",
        "    def copy_params(self):\r\n",
        "        \"\"\"Returns a copy of current NN parameters\"\"\"\r\n",
        "        weights = [w.copy() for w in self.weights]\r\n",
        "        biases = [b.copy() for b in self.biases]\r\n",
        "        return (weights, biases)\r\n",
        "\r\n",
        "    def train(self, X, Y, lr = 1e-3, max_epochs = 1000, patience=5, batch_size = None,\r\n",
        "            n_classes=10, onehotencoded=False, loss_func='SE', Xval=None, Yval=None, verbose=True):\r\n",
        "        \"\"\"Function for training our Neural Network\r\n",
        "\r\n",
        "        Args:\r\n",
        "            X (ndarray): feature matrix of training data,\r\n",
        "            Shape: (n,m) where n is no. of features and m is no. of samples.\r\n",
        "            Y (ndarray): ground truth of training data, NOT one-hot-encoded. Shape: (1,m).\r\n",
        "            lr (float or function, optional): constant learning rate or scheduler function.\r\n",
        "            Defaults to 1e-3 constant lr.\r\n",
        "            max_epochs (int, optional): epoch cap for training. Defaults to 1000.\r\n",
        "            patience (int, optional): patience parameter for early stopping. Defaults to 5.\r\n",
        "            batch_size (int, optional): mini-batch size. Defaults to full-batch GD if not provided.\r\n",
        "            n_classes (int, optional): no. of classes for multi-class classification required if\r\n",
        "            one-hot encoding is set to True. Defaults to 10.\r\n",
        "            onehotencoded (bool, optional): Defaults to False.\r\n",
        "            loss_func (str, optional): Choose from 'SE' and 'CE' loss functions. Defaults to 'SE'.\r\n",
        "            Xval (ndarray, optional): Validation data feature matrix. Defaults to None.\r\n",
        "            Yval (ndarray, optional): Validation data ground truth. Defaults to None.\r\n",
        "            verbose (bool, optional): If True, displays logs and progress of training. Defaults to True.\r\n",
        "\r\n",
        "        Returns:\r\n",
        "            [list/tuple]: lists of train-set and validation-set losses seen over the traning process.\r\n",
        "        \"\"\"\r\n",
        "        \r\n",
        "        if onehotencoded:\r\n",
        "            # a method for creating one hot encoded labels \r\n",
        "            def onehotencoding(Y, n):\r\n",
        "                # one-hot encoding of class i is just the ith column of the identity \r\n",
        "                # matrix of size n where n is the total number of classes. so below \r\n",
        "                # code uses Y (a 1d array) for indexing into the identity matrix.\r\n",
        "                raise NotImplementedError \r\n",
        "\r\n",
        "            Y = onehotencoding(Y, n_classes)\r\n",
        "            if Yval is not None:\r\n",
        "                Yval = onehotencoding(Yval, n_classes)\r\n",
        "\r\n",
        "        # Below code ensures that Y is 2-dimensional even when one-hot encoding is not\r\n",
        "        # performed, so our same code works for training NN for both tasks.  \r\n",
        "        Y = np.expand_dims(Y,0) if len(Y.shape) == 1 else Y\r\n",
        "        Yval = np.expand_dims(Yval,0) if (Yval is not None and len(Yval.shape) == 1) else Yval\r\n",
        "        \r\n",
        "        if loss_func == 'SE':\r\n",
        "            self.loss = self.lossSE\r\n",
        "        elif loss_func == 'CE':\r\n",
        "            self.loss = self.lossCE\r\n",
        "            \r\n",
        "        train_errors=[]\r\n",
        "        if Xval is not None:\r\n",
        "            val_errors=[]\r\n",
        "        i, j, v = 0, 0, np.inf\r\n",
        "        best_params = self.copy_params()\r\n",
        "        \r\n",
        "        if batch_size is not None:\r\n",
        "            if batch_size > len(X[0]):\r\n",
        "                raise ValueError(\"invalid mini-batch size. Must be smaller than dataset length\")\r\n",
        "        else:\r\n",
        "            batch_size = len(X[0])\r\n",
        "            \r\n",
        "        \r\n",
        "        while j < patience:\r\n",
        "\r\n",
        "            # Shuffle Dataset\r\n",
        "            idx = np.arange(len(X[0]))\r\n",
        "            np.random.shuffle(idx)\r\n",
        "            X1 = np.take(X,idx,axis=-1) \r\n",
        "            Y1 = np.take(Y,idx,axis=-1)\r\n",
        "\r\n",
        "            for q in range(0,len(X1[0]),batch_size):\r\n",
        "                start, end = q, min(len(X1[0]), q+batch_size)\r\n",
        "                train_x = X1[:, start:end] \r\n",
        "                train_y = Y1[:,start:end]\r\n",
        "                out, dot_prod_z, activations_a = self.forward(train_x)\r\n",
        "                grads = self.backward(train_x, train_y, dot_prod_z, activations_a) # find the gradients using backward pass\r\n",
        "                # print(grads)\r\n",
        "                break\r\n",
        "            break\r\n",
        "            #     self.update_parameters(grads, lr)\r\n",
        "            #     # self.update_parameters(grads, i)\r\n",
        "            # i += 1 # increment epoch count\r\n",
        "\r\n",
        "            # self.error(X, Y, train_errors)\r\n",
        "            # if Xval is not None:\r\n",
        "            #     self.error(Xval, Yval, val_errors)\r\n",
        "\r\n",
        "            #     if val_errors[-1] < v:\r\n",
        "            #         j = 0 # reset patience counter\r\n",
        "            #         v = val_errors[-1] # update best loss\r\n",
        "            #         best_params = self.copy_params() # save params\r\n",
        "            #     else:\r\n",
        "            #         j += 1 # increment patience counter\r\n",
        "\r\n",
        "            # if verbose and i%5 == 0:\r\n",
        "            #     log = f\"Epoch {i}..............Loss on train = {train_errors[-1]}\"\r\n",
        "            #     if Xval is not None:\r\n",
        "            #         log += f\", Loss on val = {val_errors[-1]}\"\r\n",
        "            #     print(log)\r\n",
        "                \r\n",
        "            # if i >= max_epochs:\r\n",
        "            #     break # stop if epoch threshold crossed\r\n",
        "\r\n",
        "        if Xval is not None:\r\n",
        "            if i >= max_epochs and verbose:\r\n",
        "                print(\"Reached Epoch Cap without convergence....Terminating\")\r\n",
        "            elif verbose:\r\n",
        "                print(\"Early Stopping .............. Returning best weights\")\r\n",
        "\r\n",
        "            self.weights, self.biases = best_params # reset to best params\r\n",
        "                    \r\n",
        "        if verbose:\r\n",
        "            x = np.arange(1, len(train_errors)+1)\r\n",
        "            plt.plot(x, train_errors, label=\"Loss on Train\")\r\n",
        "            if Xval is not None:\r\n",
        "                plt.plot(x, val_errors, label=\"Loss on Val\")\r\n",
        "            plt.legend()\r\n",
        "            plt.title(f\"{loss_func} - Learning Rate = {lr}\")\r\n",
        "            plt.xlabel(\"Epoch\")\r\n",
        "            plt.ylabel(\"Loss\")\r\n",
        "            plt.show()\r\n",
        "        if Xval is not None:           \r\n",
        "            return (train_errors, val_errors)\r\n",
        "        return train_errors\r\n",
        "        \r\n",
        "    def predict(self, x):\r\n",
        "        #Implement the code for prediction\r\n",
        "        out, dot_prod_z, activations_a = self.forward(x)\r\n",
        "        return out > 0.5\r\n"
      ],
      "outputs": [],
      "metadata": {
        "id": "aNupsKfm_yq-",
        "scrolled": false
      }
    },
    {
      "cell_type": "markdown",
      "source": [
        "**Creating a MLP (Feed forward NN) model instance for our Binary classification task :**\n",
        "\n",
        "Let's now create a simple feed-forward neural network. \n",
        "\n",
        "* Number of input neurons = 784.\n",
        "* Number of output layer neurons = 1.\n",
        "\n",
        "The number of hidden layers and number of neurons in each hidden layer can be decided by the user."
      ],
      "metadata": {
        "id": "6m9qBqPrifRp"
      }
    },
    {
      "cell_type": "code",
      "execution_count": 20,
      "source": [
        "#D_in is input dimension\r\n",
        "#H1 is dimension of first hidden layer \r\n",
        "#H2 is dimension of second hidden layer\r\n",
        "#D_out is output dimension.\r\n",
        "\r\n",
        "D_in, H1, H2, D_out = 784, 200, 100, 1 #You can add more layers or more outputs if you wish. \r\n",
        "\r\n",
        "neurons = [D_in, H1, H2, D_out] # list of number of neurons in the layers sequentially.\r\n",
        "\r\n",
        "activation_functions_d = ['sigmoid','sigmoid','sigmoid'] # activations in each layer (Note: the input layer does not have any activation)\r\n",
        "nn_bin_d = Neural_Network(neurons, activation_functions_d) # There we go, creating our neural network.\r\n",
        "\r\n",
        "activation_functions_e = ['tanh','tanh','tanh'] # activations in each layer (Note: the input layer does not have any activation)\r\n",
        "nn_bin_e = Neural_Network(neurons, activation_functions_e) # There we go, creating our neural network.\r\n",
        "\r\n",
        "activation_functions_f = ['relu','relu','relu'] # activations in each layer (Note: the input layer does not have any activation)\r\n",
        "nn_bin_f = Neural_Network(neurons, activation_functions_f) # There we go, creating our neural network."
      ],
      "outputs": [],
      "metadata": {
        "id": "5v8Fxtw0-Ca5"
      }
    },
    {
      "cell_type": "code",
      "execution_count": 33,
      "source": [
        "losses = nn_bin_d.train(X_train_bin, Y_train_bin, batch_size=10, lr=1e-2, max_epochs=200, Xval = X_val_bin, Yval = Y_val_bin)\r\n"
      ],
      "outputs": [
        {
          "output_type": "error",
          "ename": "AttributeError",
          "evalue": "'tuple' object has no attribute 'shape'",
          "traceback": [
            "\u001b[1;31m---------------------------------------------------------------------------\u001b[0m",
            "\u001b[1;31mAttributeError\u001b[0m                            Traceback (most recent call last)",
            "\u001b[1;32m<ipython-input-33-e426942e2241>\u001b[0m in \u001b[0;36m<module>\u001b[1;34m\u001b[0m\n\u001b[1;32m----> 1\u001b[1;33m \u001b[0mlosses\u001b[0m \u001b[1;33m=\u001b[0m \u001b[0mnn_bin_d\u001b[0m\u001b[1;33m.\u001b[0m\u001b[0mtrain\u001b[0m\u001b[1;33m(\u001b[0m\u001b[0mX_train_bin\u001b[0m\u001b[1;33m,\u001b[0m \u001b[0mY_train_bin\u001b[0m\u001b[1;33m,\u001b[0m \u001b[0mbatch_size\u001b[0m\u001b[1;33m=\u001b[0m\u001b[1;36m10\u001b[0m\u001b[1;33m,\u001b[0m \u001b[0mlr\u001b[0m\u001b[1;33m=\u001b[0m\u001b[1;36m1e-2\u001b[0m\u001b[1;33m,\u001b[0m \u001b[0mmax_epochs\u001b[0m\u001b[1;33m=\u001b[0m\u001b[1;36m200\u001b[0m\u001b[1;33m,\u001b[0m \u001b[0mXval\u001b[0m \u001b[1;33m=\u001b[0m \u001b[0mX_val_bin\u001b[0m\u001b[1;33m,\u001b[0m \u001b[0mYval\u001b[0m \u001b[1;33m=\u001b[0m \u001b[0mY_val_bin\u001b[0m\u001b[1;33m)\u001b[0m\u001b[1;33m\u001b[0m\u001b[1;33m\u001b[0m\u001b[0m\n\u001b[0m",
            "\u001b[1;32m<ipython-input-19-eb3eb43ccce1>\u001b[0m in \u001b[0;36mtrain\u001b[1;34m(self, X, Y, lr, max_epochs, patience, batch_size, n_classes, onehotencoded, loss_func, Xval, Yval, verbose)\u001b[0m\n\u001b[0;32m    248\u001b[0m                 \u001b[0mout\u001b[0m\u001b[1;33m,\u001b[0m \u001b[0mdot_prod_z\u001b[0m\u001b[1;33m,\u001b[0m \u001b[0mactivations_a\u001b[0m \u001b[1;33m=\u001b[0m \u001b[0mself\u001b[0m\u001b[1;33m.\u001b[0m\u001b[0mforward\u001b[0m\u001b[1;33m(\u001b[0m\u001b[0mtrain_x\u001b[0m\u001b[1;33m)\u001b[0m\u001b[1;33m\u001b[0m\u001b[1;33m\u001b[0m\u001b[0m\n\u001b[0;32m    249\u001b[0m                 \u001b[0mgrads\u001b[0m \u001b[1;33m=\u001b[0m \u001b[0mself\u001b[0m\u001b[1;33m.\u001b[0m\u001b[0mbackward\u001b[0m\u001b[1;33m(\u001b[0m\u001b[0mtrain_x\u001b[0m\u001b[1;33m,\u001b[0m \u001b[0mtrain_y\u001b[0m\u001b[1;33m,\u001b[0m \u001b[0mdot_prod_z\u001b[0m\u001b[1;33m,\u001b[0m \u001b[0mactivations_a\u001b[0m\u001b[1;33m)\u001b[0m \u001b[1;31m# find the gradients using backward pass\u001b[0m\u001b[1;33m\u001b[0m\u001b[1;33m\u001b[0m\u001b[0m\n\u001b[1;32m--> 250\u001b[1;33m                 \u001b[0mprint\u001b[0m\u001b[1;33m(\u001b[0m\u001b[0mgrads\u001b[0m\u001b[1;33m.\u001b[0m\u001b[0mshape\u001b[0m\u001b[1;33m)\u001b[0m\u001b[1;33m\u001b[0m\u001b[1;33m\u001b[0m\u001b[0m\n\u001b[0m\u001b[0;32m    251\u001b[0m                 \u001b[1;32mbreak\u001b[0m\u001b[1;33m\u001b[0m\u001b[1;33m\u001b[0m\u001b[0m\n\u001b[0;32m    252\u001b[0m             \u001b[1;32mbreak\u001b[0m\u001b[1;33m\u001b[0m\u001b[1;33m\u001b[0m\u001b[0m\n",
            "\u001b[1;31mAttributeError\u001b[0m: 'tuple' object has no attribute 'shape'"
          ]
        }
      ],
      "metadata": {}
    },
    {
      "cell_type": "code",
      "execution_count": 32,
      "source": [
        "# ajd"
      ],
      "outputs": [
        {
          "output_type": "error",
          "ename": "AttributeError",
          "evalue": "'tuple' object has no attribute 'shape'",
          "traceback": [
            "\u001b[1;31m---------------------------------------------------------------------------\u001b[0m",
            "\u001b[1;31mAttributeError\u001b[0m                            Traceback (most recent call last)",
            "\u001b[1;32m<ipython-input-32-fc06da54ad26>\u001b[0m in \u001b[0;36m<module>\u001b[1;34m\u001b[0m\n\u001b[1;32m----> 1\u001b[1;33m \u001b[0mlosses\u001b[0m \u001b[1;33m=\u001b[0m \u001b[0mnn_bin_d\u001b[0m\u001b[1;33m.\u001b[0m\u001b[0mtrain\u001b[0m\u001b[1;33m(\u001b[0m\u001b[0mX_train_bin\u001b[0m\u001b[1;33m,\u001b[0m \u001b[0mY_train_bin\u001b[0m\u001b[1;33m,\u001b[0m \u001b[0mbatch_size\u001b[0m\u001b[1;33m=\u001b[0m\u001b[1;36m10\u001b[0m\u001b[1;33m,\u001b[0m \u001b[0mlr\u001b[0m\u001b[1;33m=\u001b[0m\u001b[1;36m1e-2\u001b[0m\u001b[1;33m,\u001b[0m \u001b[0mmax_epochs\u001b[0m\u001b[1;33m=\u001b[0m\u001b[1;36m200\u001b[0m\u001b[1;33m,\u001b[0m \u001b[0mXval\u001b[0m \u001b[1;33m=\u001b[0m \u001b[0mX_val_bin\u001b[0m\u001b[1;33m,\u001b[0m \u001b[0mYval\u001b[0m \u001b[1;33m=\u001b[0m \u001b[0mY_val_bin\u001b[0m\u001b[1;33m)\u001b[0m\u001b[1;33m\u001b[0m\u001b[1;33m\u001b[0m\u001b[0m\n\u001b[0m",
            "\u001b[1;32m<ipython-input-19-eb3eb43ccce1>\u001b[0m in \u001b[0;36mtrain\u001b[1;34m(self, X, Y, lr, max_epochs, patience, batch_size, n_classes, onehotencoded, loss_func, Xval, Yval, verbose)\u001b[0m\n\u001b[0;32m    248\u001b[0m                 \u001b[0mout\u001b[0m\u001b[1;33m,\u001b[0m \u001b[0mdot_prod_z\u001b[0m\u001b[1;33m,\u001b[0m \u001b[0mactivations_a\u001b[0m \u001b[1;33m=\u001b[0m \u001b[0mself\u001b[0m\u001b[1;33m.\u001b[0m\u001b[0mforward\u001b[0m\u001b[1;33m(\u001b[0m\u001b[0mtrain_x\u001b[0m\u001b[1;33m)\u001b[0m\u001b[1;33m\u001b[0m\u001b[1;33m\u001b[0m\u001b[0m\n\u001b[0;32m    249\u001b[0m                 \u001b[0mgrads\u001b[0m \u001b[1;33m=\u001b[0m \u001b[0mself\u001b[0m\u001b[1;33m.\u001b[0m\u001b[0mbackward\u001b[0m\u001b[1;33m(\u001b[0m\u001b[0mtrain_x\u001b[0m\u001b[1;33m,\u001b[0m \u001b[0mtrain_y\u001b[0m\u001b[1;33m,\u001b[0m \u001b[0mdot_prod_z\u001b[0m\u001b[1;33m,\u001b[0m \u001b[0mactivations_a\u001b[0m\u001b[1;33m)\u001b[0m \u001b[1;31m# find the gradients using backward pass\u001b[0m\u001b[1;33m\u001b[0m\u001b[1;33m\u001b[0m\u001b[0m\n\u001b[1;32m--> 250\u001b[1;33m                 \u001b[0mprint\u001b[0m\u001b[1;33m(\u001b[0m\u001b[0mgrads\u001b[0m\u001b[1;33m.\u001b[0m\u001b[0mshape\u001b[0m\u001b[1;33m)\u001b[0m\u001b[1;33m\u001b[0m\u001b[1;33m\u001b[0m\u001b[0m\n\u001b[0m\u001b[0;32m    251\u001b[0m                 \u001b[1;32mbreak\u001b[0m\u001b[1;33m\u001b[0m\u001b[1;33m\u001b[0m\u001b[0m\n\u001b[0;32m    252\u001b[0m             \u001b[1;32mbreak\u001b[0m\u001b[1;33m\u001b[0m\u001b[1;33m\u001b[0m\u001b[0m\n",
            "\u001b[1;31mAttributeError\u001b[0m: 'tuple' object has no attribute 'shape'"
          ]
        }
      ],
      "metadata": {}
    },
    {
      "cell_type": "code",
      "execution_count": null,
      "source": [],
      "outputs": [],
      "metadata": {}
    },
    {
      "cell_type": "markdown",
      "source": [
        "### Training the model:"
      ],
      "metadata": {
        "id": "y-BMNzeRs3rC"
      }
    },
    {
      "cell_type": "code",
      "execution_count": 111,
      "source": [
        "losses = nn_bin_d.train(X_train_bin, Y_train_bin, batch_size=10, lr=1e-2, max_epochs=200, Xval = X_val_bin, Yval = Y_val_bin)"
      ],
      "outputs": [
        {
          "output_type": "stream",
          "name": "stdout",
          "text": [
            "Epoch 5..............Loss on train = 0.03542740306080495, Loss on val = 0.035758461519662395\n",
            "Epoch 10..............Loss on train = 0.020931066209842687, Loss on val = 0.023414402008158215\n",
            "Epoch 15..............Loss on train = 0.015776885159354073, Loss on val = 0.019067763518223035\n",
            "Epoch 20..............Loss on train = 0.013037249925008815, Loss on val = 0.016784484431677838\n",
            "Epoch 25..............Loss on train = 0.011256301619184821, Loss on val = 0.015244969126194293\n",
            "Epoch 30..............Loss on train = 0.010036152334813815, Loss on val = 0.014106295880859494\n",
            "Epoch 35..............Loss on train = 0.009148156634585063, Loss on val = 0.013239475665325752\n",
            "Epoch 40..............Loss on train = 0.008467012966872862, Loss on val = 0.012531656471201911\n",
            "Epoch 45..............Loss on train = 0.007918025469762334, Loss on val = 0.011945940353646522\n",
            "Epoch 50..............Loss on train = 0.007461977898735282, Loss on val = 0.01145209562591976\n",
            "Epoch 55..............Loss on train = 0.007071006365776363, Loss on val = 0.011019635582315649\n",
            "Epoch 60..............Loss on train = 0.006728333547941433, Loss on val = 0.010624376768002625\n",
            "Epoch 65..............Loss on train = 0.006426217873750449, Loss on val = 0.010274889170239485\n",
            "Epoch 70..............Loss on train = 0.006154597068487748, Loss on val = 0.009969877483756145\n",
            "Epoch 75..............Loss on train = 0.005910964446821712, Loss on val = 0.009695806945183934\n",
            "Epoch 80..............Loss on train = 0.005690448945150914, Loss on val = 0.009453756447097944\n",
            "Epoch 85..............Loss on train = 0.005489974619721258, Loss on val = 0.009247354162753985\n",
            "Epoch 90..............Loss on train = 0.005306670331457678, Loss on val = 0.00905601574825345\n",
            "Epoch 95..............Loss on train = 0.005138491873895868, Loss on val = 0.008887112385786253\n",
            "Epoch 100..............Loss on train = 0.004983726331406434, Loss on val = 0.00873907949500265\n",
            "Epoch 105..............Loss on train = 0.004841857732337978, Loss on val = 0.008601939061637911\n",
            "Epoch 110..............Loss on train = 0.004709870170559707, Loss on val = 0.008481892303409186\n",
            "Epoch 115..............Loss on train = 0.0045878698347245565, Loss on val = 0.008369236807728084\n",
            "Epoch 120..............Loss on train = 0.004473105898033226, Loss on val = 0.008269579225807894\n",
            "Epoch 125..............Loss on train = 0.004364946015560766, Loss on val = 0.008177521435119321\n",
            "Epoch 130..............Loss on train = 0.004262726228780205, Loss on val = 0.008096627319065236\n",
            "Epoch 135..............Loss on train = 0.004165662302136385, Loss on val = 0.008014932197861384\n",
            "Epoch 140..............Loss on train = 0.004072120586143349, Loss on val = 0.007941832045816255\n",
            "Epoch 145..............Loss on train = 0.003982393034815377, Loss on val = 0.007873215057273815\n",
            "Epoch 150..............Loss on train = 0.0038962575227241046, Loss on val = 0.0078083451884208704\n",
            "Epoch 155..............Loss on train = 0.0038133499736054195, Loss on val = 0.007747330264011271\n",
            "Epoch 160..............Loss on train = 0.0037341686197685377, Loss on val = 0.007688281181969898\n",
            "Epoch 165..............Loss on train = 0.003658673863582901, Loss on val = 0.007631139466431222\n",
            "Epoch 170..............Loss on train = 0.003586591714727003, Loss on val = 0.007574980912233673\n",
            "Epoch 175..............Loss on train = 0.003517535058425039, Loss on val = 0.007520179182212763\n",
            "Epoch 180..............Loss on train = 0.0034510989577180235, Loss on val = 0.00746441897235224\n",
            "Epoch 185..............Loss on train = 0.003386914385570357, Loss on val = 0.007415805411343801\n",
            "Epoch 190..............Loss on train = 0.0033243735221228634, Loss on val = 0.007365000042620818\n",
            "Epoch 195..............Loss on train = 0.003263877874705083, Loss on val = 0.007319189014665762\n",
            "Epoch 200..............Loss on train = 0.0032035374207210073, Loss on val = 0.007270741566996079\n",
            "Reached Epoch Cap without convergence....Terminating\n"
          ]
        },
        {
          "output_type": "display_data",
          "data": {
            "image/png": "[encoded data removed]",
            "text/plain": [
              "<Figure size 432x288 with 1 Axes>"
            ]
          },
          "metadata": {
            "needs_background": "light"
          }
        }
      ],
      "metadata": {
        "colab": {
          "base_uri": "https://localhost:8080/"
        },
        "id": "6_XFSOBWiep9",
        "outputId": "065b5591-f863-41ac-b92b-bb43686df00f"
      }
    }
  ]
}