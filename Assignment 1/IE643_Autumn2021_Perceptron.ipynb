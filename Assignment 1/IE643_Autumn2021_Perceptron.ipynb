{
  "nbformat": 4,
  "nbformat_minor": 0,
  "metadata": {
    "colab": {
      "name": "IE643_Autumn2021_Perceptron.ipynb",
      "provenance": [],
      "collapsed_sections": []
    },
    "kernelspec": {
      "name": "python3",
      "display_name": "Python 3"
    },
    "language_info": {
      "name": "python"
    }
  },
  "cells": [
    {
      "cell_type": "code",
      "metadata": {
        "id": "kE7-7RV0si0m"
      },
      "source": [
        "#import relevant libraries\n",
        "import numpy as np\n",
        "import matplotlib.pyplot as plt\n",
        "import pandas as pd\n",
        "from sklearn.utils import shuffle"
      ],
      "execution_count": null,
      "outputs": []
    },
    {
      "cell_type": "code",
      "metadata": {
        "id": "5w7DAQ5mR1ll"
      },
      "source": [
        "#Following packages used for animation\n",
        "import matplotlib.animation as animation \n",
        "from IPython.display import HTML"
      ],
      "execution_count": null,
      "outputs": []
    },
    {
      "cell_type": "markdown",
      "metadata": {
        "id": "VOTSei22HQda"
      },
      "source": [
        "##Generic Perceptron learning algorithm "
      ]
    },
    {
      "cell_type": "code",
      "metadata": {
        "id": "2H1aHZaJHnkq"
      },
      "source": [
        "#training algorithm for perceptron\n",
        "#input argument: initial weight vector, data set feature matrix X, data set label vector Y, max epochs\n",
        "#outputs: final weight vector obtained after training, list of points where update happened, weights obtained after each update\n",
        "def perceptron_train(initial_w, X, Y, max_epochs): \n",
        "  weights_updates = []\n",
        "  points_updates = []\n",
        "\n",
        "  epoch = 0\n",
        "  num_updates_in_each_epoch = 0 \n",
        "\n",
        "  w = initial_w\n",
        "  #Perceptron algorithm\n",
        "  while epoch<max_epochs:\n",
        "    #num_updates_in_each_epoch = 0\n",
        "    #X, Y = shuffle(X, Y) #shuffling data is useful to prevent any particular ordering in data affecting the performance\n",
        "    #Fill in appropriate code \n",
        "    epoch+=1 #one epoch denotes one full pass over the data \n",
        "    #print('After {0} epochs, num updates in this epoch={1}, total updates={2}'.format(epoch,num_updates_in_each_epoch,len(weights_updates)))\n",
        "  print('Perceptron algo complete! Weights updated', len(weights_updates), 'no. of times')\n",
        "  return w, weights_updates, points_updates"
      ],
      "execution_count": null,
      "outputs": []
    },
    {
      "cell_type": "markdown",
      "metadata": {
        "id": "d3ERft3gR20n"
      },
      "source": [
        "#Linearly-Separable Data"
      ]
    },
    {
      "cell_type": "code",
      "metadata": {
        "id": "a3lP_acFtQ4h"
      },
      "source": [
        "#prepare the data set \n",
        "n = 100 #no. of points\n",
        "np.random.seed(1) #seeding the random number generator is useful for reproducibility\n",
        "\n",
        "#generate data points for cluster 1 from a Gaussian distribution\n",
        "#Fill appropriate code here \n",
        "\n",
        "#generating data points for cluster 2  from another Gaussian distribution\n",
        "#fill appropriate code here \n",
        "\n",
        "#generating target values for both clusters\n",
        "#fill appropriate code here \n",
        "\n",
        "#forming a dataset containing both clusters\n",
        "#fill appropriate code here \n",
        "#X = ?? \n",
        "#Y = ??\n",
        "\n",
        "#Ploting clusters\n",
        "#Fill appropriate code \n",
        "#plt.scatter(??)\n",
        "#plt.scatter(???)\n",
        "#plt.show()"
      ],
      "execution_count": null,
      "outputs": []
    },
    {
      "cell_type": "markdown",
      "metadata": {
        "id": "yi1puvHKtBsQ"
      },
      "source": [
        "## Perceptron Without Threshold"
      ]
    },
    {
      "cell_type": "code",
      "metadata": {
        "id": "V__lhlTRFp6A"
      },
      "source": [
        "#Initializing weights \n",
        "#intial_w = ?? \n",
        "\n",
        "#set max epochs to train perceptron\n",
        "#max_epochs = 10 \n",
        "\n",
        "#Call perceptron training algorithm and obtain the weight vector, weights obtained during updates and the data points causing updates\n",
        "#w,weights,points = perceptron(initial_w,X,Y,max_epochs)\n",
        "\n"
      ],
      "execution_count": null,
      "outputs": []
    },
    {
      "cell_type": "code",
      "metadata": {
        "id": "v1lsOvR-LtaP"
      },
      "source": [
        "#plotting decision boundary\n",
        "#Write code to plot the decision boundary along with the clusters"
      ],
      "execution_count": null,
      "outputs": []
    },
    {
      "cell_type": "markdown",
      "metadata": {
        "id": "KxssokBit-Lw"
      },
      "source": [
        "###Animation"
      ]
    },
    {
      "cell_type": "code",
      "metadata": {
        "id": "cjec6ERst-L0"
      },
      "source": [
        "#You can add some code to animate the decision boundary's behavior upon every mistake "
      ],
      "execution_count": null,
      "outputs": []
    },
    {
      "cell_type": "markdown",
      "metadata": {
        "id": "sHFSlNP1EhEm"
      },
      "source": [
        "##Perceptron With Threshold"
      ]
    },
    {
      "cell_type": "code",
      "metadata": {
        "id": "XGV-WNlvtD3w"
      },
      "source": [
        "#Write code to incorporate a threshold to perceptron and train it \n"
      ],
      "execution_count": null,
      "outputs": []
    },
    {
      "cell_type": "code",
      "metadata": {
        "id": "pqXX1DIUEnRG"
      },
      "source": [
        "#Write code to plot the decision boundary for perceptron with threshold"
      ],
      "execution_count": null,
      "outputs": []
    },
    {
      "cell_type": "code",
      "metadata": {
        "id": "cOb7U6bqGYz8"
      },
      "source": [
        ""
      ],
      "execution_count": null,
      "outputs": []
    },
    {
      "cell_type": "markdown",
      "metadata": {
        "id": "pkg6ldVXqzeF"
      },
      "source": [
        "###Animation"
      ]
    },
    {
      "cell_type": "code",
      "metadata": {
        "id": "IX3XM4t-raYE"
      },
      "source": [
        "#Write code to animate the behavior of decision surface if necessary "
      ],
      "execution_count": null,
      "outputs": []
    },
    {
      "cell_type": "markdown",
      "metadata": {
        "id": "z-sK2gJBHC-V"
      },
      "source": [
        "#Non-Separable Data"
      ]
    },
    {
      "cell_type": "code",
      "metadata": {
        "id": "2ocwxKYZR9md"
      },
      "source": [
        "n = 100 #no. of points\n",
        "np.random.seed(3)\n",
        "\n",
        "#Write code to create data that cannot be separated by a hyperplane\n",
        "#Plot the data "
      ],
      "execution_count": null,
      "outputs": []
    },
    {
      "cell_type": "markdown",
      "metadata": {
        "id": "3PmXVfsExbuU"
      },
      "source": [
        "##Perceptron With Threshold"
      ]
    },
    {
      "cell_type": "code",
      "metadata": {
        "id": "Kw5aE-QUxbuU"
      },
      "source": [
        "#Use a perceptron with threshold to train on the non-separable data set "
      ],
      "execution_count": null,
      "outputs": []
    },
    {
      "cell_type": "code",
      "metadata": {
        "id": "s3tvpYTDxbuV"
      },
      "source": [
        "#Check how you can use the percetpron training algorithm to identify a potentially non-separable data set "
      ],
      "execution_count": null,
      "outputs": []
    },
    {
      "cell_type": "markdown",
      "metadata": {
        "id": "RK6AJRWzxbuW"
      },
      "source": [
        "###Animation"
      ]
    },
    {
      "cell_type": "code",
      "metadata": {
        "id": "CsS7njuCxbuW"
      },
      "source": [
        "#Write code to show animated behavior of the separating hyperplane for non-separable data"
      ],
      "execution_count": null,
      "outputs": []
    },
    {
      "cell_type": "code",
      "metadata": {
        "id": "XRVFG8Tgcvae"
      },
      "source": [
        ""
      ],
      "execution_count": null,
      "outputs": []
    },
    {
      "cell_type": "code",
      "metadata": {
        "id": "hsdaK1-bHkyS"
      },
      "source": [
        ""
      ],
      "execution_count": null,
      "outputs": []
    }
  ]
}