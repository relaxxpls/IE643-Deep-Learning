{
  "nbformat": 4,
  "nbformat_minor": 2,
  "metadata": {
    "colab": {
      "name": "IE643_Autumn2021_Perceptron.ipynb",
      "provenance": [],
      "collapsed_sections": []
    },
    "kernelspec": {
      "name": "python3",
      "display_name": "Python 3.9.6 64-bit"
    },
    "language_info": {
      "name": "python",
      "version": "3.9.6",
      "mimetype": "text/x-python",
      "codemirror_mode": {
        "name": "ipython",
        "version": 3
      },
      "pygments_lexer": "ipython3",
      "nbconvert_exporter": "python",
      "file_extension": ".py"
    },
    "interpreter": {
      "hash": "63fd5069d213b44bf678585dea6b12cceca9941eaf7f819626cde1f2670de90d"
    }
  },
  "cells": [
    {
      "cell_type": "code",
      "execution_count": 1,
      "source": [
        "#import relevant libraries\r\n",
        "import numpy as np\r\n",
        "import matplotlib.pyplot as plt\r\n",
        "import pandas as pd\r\n",
        "from sklearn.utils import shuffle"
      ],
      "outputs": [],
      "metadata": {
        "id": "kE7-7RV0si0m"
      }
    },
    {
      "cell_type": "code",
      "execution_count": 2,
      "source": [
        "#Following packages used for animation\r\n",
        "import matplotlib.animation as animation \r\n",
        "from IPython.display import HTML"
      ],
      "outputs": [],
      "metadata": {
        "id": "5w7DAQ5mR1ll"
      }
    },
    {
      "cell_type": "markdown",
      "source": [
        "## Generic Perceptron learning algorithm "
      ],
      "metadata": {
        "id": "VOTSei22HQda"
      }
    },
    {
      "cell_type": "code",
      "execution_count": 3,
      "source": [
        "#training algorithm for perceptron\r\n",
        "#input argument: initial weight vector, data set feature matrix X, data set label vector Y, max epochs\r\n",
        "#outputs: final weight vector obtained after training, list of points where update happened, weights obtained after each update\r\n",
        "def perceptron_train(initial_w, X, Y, max_epochs): \r\n",
        "  weights_updates = []\r\n",
        "  points_updates = []\r\n",
        "\r\n",
        "  epoch = 0\r\n",
        "  num_updates_in_each_epoch = 0 \r\n",
        "\r\n",
        "  w = initial_w\r\n",
        "  #Perceptron algorithm\r\n",
        "  while epoch<max_epochs:\r\n",
        "    #num_updates_in_each_epoch = 0\r\n",
        "    #X, Y = shuffle(X, Y) #shuffling data is useful to prevent any particular ordering in data affecting the performance\r\n",
        "    #Fill in appropriate code \r\n",
        "    epoch+=1 #one epoch denotes one full pass over the data \r\n",
        "    #print('After {0} epochs, num updates in this epoch={1}, total updates={2}'.format(epoch,num_updates_in_each_epoch,len(weights_updates)))\r\n",
        "  print('Perceptron algo complete! Weights updated', len(weights_updates), 'no. of times')\r\n",
        "  return w, weights_updates, points_updates"
      ],
      "outputs": [],
      "metadata": {
        "id": "2H1aHZaJHnkq"
      }
    },
    {
      "cell_type": "markdown",
      "source": [
        "# Linearly-Separable Data"
      ],
      "metadata": {
        "id": "d3ERft3gR20n"
      }
    },
    {
      "cell_type": "code",
      "execution_count": null,
      "source": [
        "#prepare the data set \r\n",
        "n = 100 #no. of points\r\n",
        "np.random.seed(1) #seeding the random number generator is useful for reproducibility\r\n",
        "\r\n",
        "#generate data points for cluster 1 from a Gaussian distribution\r\n",
        "#Fill appropriate code here \r\n",
        "\r\n",
        "#generating data points for cluster 2  from another Gaussian distribution\r\n",
        "#fill appropriate code here \r\n",
        "\r\n",
        "#generating target values for both clusters\r\n",
        "#fill appropriate code here \r\n",
        "\r\n",
        "#forming a dataset containing both clusters\r\n",
        "#fill appropriate code here \r\n",
        "#X = ?? \r\n",
        "#Y = ??\r\n",
        "\r\n",
        "#Ploting clusters\r\n",
        "#Fill appropriate code \r\n",
        "#plt.scatter(??)\r\n",
        "#plt.scatter(???)\r\n",
        "#plt.show()"
      ],
      "outputs": [],
      "metadata": {
        "id": "a3lP_acFtQ4h"
      }
    },
    {
      "cell_type": "markdown",
      "source": [
        "## Perceptron Without Threshold"
      ],
      "metadata": {
        "id": "yi1puvHKtBsQ"
      }
    },
    {
      "cell_type": "code",
      "execution_count": null,
      "source": [
        "#Initializing weights \r\n",
        "#intial_w = ?? \r\n",
        "\r\n",
        "#set max epochs to train perceptron\r\n",
        "#max_epochs = 10 \r\n",
        "\r\n",
        "#Call perceptron training algorithm and obtain the weight vector, weights obtained during updates and the data points causing updates\r\n",
        "#w,weights,points = perceptron(initial_w,X,Y,max_epochs)\r\n",
        "\r\n"
      ],
      "outputs": [],
      "metadata": {
        "id": "V__lhlTRFp6A"
      }
    },
    {
      "cell_type": "code",
      "execution_count": null,
      "source": [
        "#plotting decision boundary\r\n",
        "#Write code to plot the decision boundary along with the clusters"
      ],
      "outputs": [],
      "metadata": {
        "id": "v1lsOvR-LtaP"
      }
    },
    {
      "cell_type": "markdown",
      "source": [
        "###Animation"
      ],
      "metadata": {
        "id": "KxssokBit-Lw"
      }
    },
    {
      "cell_type": "code",
      "execution_count": null,
      "source": [
        "#You can add some code to animate the decision boundary's behavior upon every mistake "
      ],
      "outputs": [],
      "metadata": {
        "id": "cjec6ERst-L0"
      }
    },
    {
      "cell_type": "markdown",
      "source": [
        "##Perceptron With Threshold"
      ],
      "metadata": {
        "id": "sHFSlNP1EhEm"
      }
    },
    {
      "cell_type": "code",
      "execution_count": null,
      "source": [
        "#Write code to incorporate a threshold to perceptron and train it \r\n"
      ],
      "outputs": [],
      "metadata": {
        "id": "XGV-WNlvtD3w"
      }
    },
    {
      "cell_type": "code",
      "execution_count": null,
      "source": [
        "#Write code to plot the decision boundary for perceptron with threshold"
      ],
      "outputs": [],
      "metadata": {
        "id": "pqXX1DIUEnRG"
      }
    },
    {
      "cell_type": "code",
      "execution_count": null,
      "source": [],
      "outputs": [],
      "metadata": {
        "id": "cOb7U6bqGYz8"
      }
    },
    {
      "cell_type": "markdown",
      "source": [
        "###Animation"
      ],
      "metadata": {
        "id": "pkg6ldVXqzeF"
      }
    },
    {
      "cell_type": "code",
      "execution_count": null,
      "source": [
        "#Write code to animate the behavior of decision surface if necessary "
      ],
      "outputs": [],
      "metadata": {
        "id": "IX3XM4t-raYE"
      }
    },
    {
      "cell_type": "markdown",
      "source": [
        "#Non-Separable Data"
      ],
      "metadata": {
        "id": "z-sK2gJBHC-V"
      }
    },
    {
      "cell_type": "code",
      "execution_count": null,
      "source": [
        "n = 100 #no. of points\r\n",
        "np.random.seed(3)\r\n",
        "\r\n",
        "#Write code to create data that cannot be separated by a hyperplane\r\n",
        "#Plot the data "
      ],
      "outputs": [],
      "metadata": {
        "id": "2ocwxKYZR9md"
      }
    },
    {
      "cell_type": "markdown",
      "source": [
        "##Perceptron With Threshold"
      ],
      "metadata": {
        "id": "3PmXVfsExbuU"
      }
    },
    {
      "cell_type": "code",
      "execution_count": null,
      "source": [
        "#Use a perceptron with threshold to train on the non-separable data set "
      ],
      "outputs": [],
      "metadata": {
        "id": "Kw5aE-QUxbuU"
      }
    },
    {
      "cell_type": "code",
      "execution_count": null,
      "source": [
        "#Check how you can use the percetpron training algorithm to identify a potentially non-separable data set "
      ],
      "outputs": [],
      "metadata": {
        "id": "s3tvpYTDxbuV"
      }
    },
    {
      "cell_type": "markdown",
      "source": [
        "###Animation"
      ],
      "metadata": {
        "id": "RK6AJRWzxbuW"
      }
    },
    {
      "cell_type": "code",
      "execution_count": null,
      "source": [
        "#Write code to show animated behavior of the separating hyperplane for non-separable data"
      ],
      "outputs": [],
      "metadata": {
        "id": "CsS7njuCxbuW"
      }
    },
    {
      "cell_type": "code",
      "execution_count": null,
      "source": [],
      "outputs": [],
      "metadata": {
        "id": "XRVFG8Tgcvae"
      }
    },
    {
      "cell_type": "code",
      "execution_count": null,
      "source": [],
      "outputs": [],
      "metadata": {
        "id": "hsdaK1-bHkyS"
      }
    }
  ]
}