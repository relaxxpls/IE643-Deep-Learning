{
  "nbformat": 4,
  "nbformat_minor": 2,
  "metadata": {
    "colab": {
      "name": "FeedForwardNet(Assignment 1).ipynb",
      "provenance": [],
      "collapsed_sections": []
    },
    "interpreter": {
      "hash": "63fd5069d213b44bf678585dea6b12cceca9941eaf7f819626cde1f2670de90d"
    },
    "kernelspec": {
      "name": "python3",
      "display_name": "Python 3.9.6 64-bit"
    },
    "language_info": {
      "codemirror_mode": {
        "name": "ipython",
        "version": 3
      },
      "file_extension": ".py",
      "mimetype": "text/x-python",
      "name": "python",
      "nbconvert_exporter": "python",
      "pygments_lexer": "ipython3",
      "version": "3.9.6"
    }
  },
  "cells": [
    {
      "cell_type": "markdown",
      "source": [
        "# IE 643: Feed Forward Net (Multi-Layered Perceptron) Demo"
      ],
      "metadata": {
        "id": "meRnMrRlZTH3"
      }
    },
    {
      "cell_type": "markdown",
      "source": [
        "In this demo, we will learn how to build a Multi-layered Perceptron (Feed Forward Nerual Network) model from scratch. There are a lot of libraries available like Pytorch, Keras, Tensorflow etc. which can help you build much complex models in much fewer lines. However before using them, it is important to understand how to build your own neural network from scratch. "
      ],
      "metadata": {
        "id": "lJ13GRM5Hu57"
      }
    },
    {
      "cell_type": "code",
      "execution_count": null,
      "source": [
        "import numpy as np\r\n",
        "import matplotlib.pyplot as plt\r\n",
        "np.random.seed(0)"
      ],
      "outputs": [],
      "metadata": {
        "id": "QT3Suc9U_yq8",
        "scrolled": false
      }
    },
    {
      "cell_type": "markdown",
      "source": [
        "## **Data loading and pre-processing**\n",
        "\n",
        "We will be using the MNIST dataset for classification. It contains grayscale images of handwritten digits(0-9) in 28x28 size. Our task is to build a neural network to classify these images. \n",
        "\n",
        "> The MNIST database of handwritten digits has a training set of 60,000 examples, and a test set of 10,000 examples. It is a subset of a larger set available from NIST. The digits have been size-normalized and centered in a fixed-size image.\n",
        "It is a good database for people who want to try learning techniques and pattern recognition methods on real-world data while spending minimal efforts on preprocessing and formatting.\n",
        "\n",
        "Source: http://yann.lecun.com/exdb/mnist/\n",
        "\n",
        "## Loading the dataset:"
      ],
      "metadata": {
        "id": "F1A1MYFw_yrG"
      }
    },
    {
      "cell_type": "code",
      "execution_count": null,
      "source": [
        "from keras.datasets import mnist\r\n",
        "\r\n",
        "(X_train, Y_train), (X_test, Y_test) = mnist.load_data()\r\n",
        "print(f'Train: X - {X_train.shape}, y - {Y_train.shape}')\r\n",
        "print(f'Test: X - {X_test.shape}, y - {Y_test.shape}')"
      ],
      "outputs": [
        {
          "output_type": "stream",
          "name": "stdout",
          "text": [
            "Train: X - (60000, 28, 28), y - (60000,)\n",
            "Test: X - (10000, 28, 28), y - (10000,)\n"
          ]
        }
      ],
      "metadata": {
        "colab": {
          "base_uri": "https://localhost:8080/"
        },
        "id": "suoT0icEE-U5",
        "outputId": "5513c6cd-fcdd-4c43-c03f-2fc0b3c1bcce"
      }
    },
    {
      "cell_type": "code",
      "execution_count": null,
      "source": [
        "unique, counts = np.unique(Y_train, return_counts=True)\r\n",
        "print(np.asarray((unique, counts)).T)"
      ],
      "outputs": [
        {
          "output_type": "stream",
          "name": "stdout",
          "text": [
            "[[   0 5923]\n",
            " [   1 6742]\n",
            " [   2 5958]\n",
            " [   3 6131]\n",
            " [   4 5842]\n",
            " [   5 5421]\n",
            " [   6 5918]\n",
            " [   7 6265]\n",
            " [   8 5851]\n",
            " [   9 5949]]\n"
          ]
        }
      ],
      "metadata": {
        "colab": {
          "base_uri": "https://localhost:8080/"
        },
        "id": "zwkEglRBMsbr",
        "outputId": "073e7293-2a4c-4670-b37f-1fe0ac6ce911"
      }
    },
    {
      "cell_type": "markdown",
      "source": [
        "#### Displaying an image from the dataset"
      ],
      "metadata": {
        "id": "hitiUqp3AfPm"
      }
    },
    {
      "cell_type": "code",
      "execution_count": null,
      "source": [
        "plt.imshow(X_train[31],cmap='gray')\r\n",
        "plt.show()\r\n",
        "print(f\"\\n\\nLabel in dataset: {Y_train[31]}\")"
      ],
      "outputs": [
        {
          "output_type": "display_data",
          "data": {
            "image/png": "[encoded data removed]",
            "text/plain": [
              "<Figure size 432x288 with 1 Axes>"
            ]
          },
          "metadata": {
            "needs_background": "light"
          }
        },
        {
          "output_type": "stream",
          "name": "stdout",
          "text": [
            "\n",
            "\n",
            "Label in dataset: 8\n"
          ]
        }
      ],
      "metadata": {
        "colab": {
          "base_uri": "https://localhost:8080/",
          "height": 318
        },
        "id": "zIUooIG--_4f",
        "outputId": "3c8c5e4a-3022-49a4-b452-961e0bb08a80"
      }
    },
    {
      "cell_type": "code",
      "execution_count": null,
      "source": [
        "# Sample images for all digits\r\n",
        "\r\n",
        "digits = np.unique(Y_train)\r\n",
        "M = 30\r\n",
        "dim = 28\r\n",
        "fig, axs = plt.subplots(len(digits), M, figsize=(18,6))\r\n",
        "\r\n",
        "for i,d in enumerate(digits):\r\n",
        "    for j in range(M):\r\n",
        "        axs[i,j].imshow(X_train[Y_train==d][j].reshape((dim,dim)), cmap='gray')\r\n",
        "        axs[i,j].axis('off')"
      ],
      "outputs": [
        {
          "output_type": "display_data",
          "data": {
            "image/png": "[encoded data removed]",
            "text/plain": [
              "<Figure size 1296x432 with 300 Axes>"
            ]
          },
          "metadata": {}
        }
      ],
      "metadata": {
        "colab": {
          "base_uri": "https://localhost:8080/",
          "height": 357
        },
        "id": "U4iknbGdONNR",
        "outputId": "dfd0e0a5-30e2-4d4a-9472-d7999f890c7d"
      }
    },
    {
      "cell_type": "code",
      "execution_count": null,
      "source": [
        "X_train[31]"
      ],
      "outputs": [
        {
          "output_type": "execute_result",
          "data": {
            "text/plain": [
              "array([[  0,   0,   0,   0,   0,   0,   0,   0,   0,   0,   0,   0,   0,\n",
              "          0,   0,   0,   0,   0,   0,   0,   0,   0,   0,   0,   0,   0,\n",
              "          0,   0],\n",
              "       [  0,   0,   0,   0,   0,   0,   0,   0,   0,   0,   0,   0,   0,\n",
              "          0,   0,   0,   0,   0,   0,   0,   0,   0,   0,   0,   0,   0,\n",
              "          0,   0],\n",
              "       [  0,   0,   0,   0,   0,   0,   0,   0,   0,   0,   0,   0,   0,\n",
              "          0,   0,   0,   0,   0,   0,   0,   0,   0,   0,   0,   0,   0,\n",
              "          0,   0],\n",
              "       [  0,   0,   0,   0,   0,   0,   0,   0,   0,   0,   0,   0,   0,\n",
              "          0,   0,   0,   0,   0,   0,   0,   0,   0,   0,   0,   0,   0,\n",
              "          0,   0],\n",
              "       [  0,   0,   0,   0,   0,   0,   0,   0,   0,   0,   0,   0,   0,\n",
              "          0,   0,   0,   0,   0,   0,   0,   0,   0,   0,   0,   0,   0,\n",
              "          0,   0],\n",
              "       [  0,   0,   0,   0,   0,   0,   0,   0,   0,   0,   0,   0,   0,\n",
              "         42, 154, 180, 255, 176, 118, 118,  16,   0,   0,   0,   0,   0,\n",
              "          0,   0],\n",
              "       [  0,   0,   0,   0,   0,   0,   0,   0,   0,   0,   0,   0,   0,\n",
              "        142, 253, 253, 253, 253, 253, 253, 236, 103,   0,   0,   0,   0,\n",
              "          0,   0],\n",
              "       [  0,   0,   0,   0,   0,   0,   0,   0,   0,   0,   0,   0,   0,\n",
              "        227, 253, 253, 204, 177, 177, 177, 243, 191,   0,   0,   0,   0,\n",
              "          0,   0],\n",
              "       [  0,   0,   0,   0,   0,   0,   0,   0,   0,   0,   0,   0,   0,\n",
              "        227, 253, 216,  22,   0,   0,  23, 227, 238,  96,  21,   0,   0,\n",
              "          0,   0],\n",
              "       [  0,   0,   0,   0,   0,   0,   0,   0,   0,   0,   0,   0,   0,\n",
              "        227, 253, 205,   0,   0,  17, 124, 253, 253, 253, 170,   0,   0,\n",
              "          0,   0],\n",
              "       [  0,   0,   0,   0,   0,   0,   0,   0,   0,   0,   0,   0,   0,\n",
              "        227, 253, 234,  62,  18, 201, 253, 253, 253, 251,  90,   0,   0,\n",
              "          0,   0],\n",
              "       [  0,   0,   0,   0,   0,   0,   0,   0,   0,   0,   0,   0,   0,\n",
              "        227, 253, 253, 253, 253, 253, 253, 253, 221, 103,   0,   0,   0,\n",
              "          0,   0],\n",
              "       [  0,   0,   0,   0,   0,   0,   0,   0,   0,   0,   0,   0,   0,\n",
              "        227, 253, 253, 253, 253, 253, 208,  24,   5,   0,   0,   0,   0,\n",
              "          0,   0],\n",
              "       [  0,   0,   0,   0,   0,   0,   0,   0,   0,   0,   0,   0,  39,\n",
              "        236, 253, 253, 253, 251,  97,  16,   0,   0,   0,   0,   0,   0,\n",
              "          0,   0],\n",
              "       [  0,   0,   0,   0,   0,   0,   0,   0,   0,   0,   4,  69, 224,\n",
              "        253, 253, 240, 169,  46,   0,   0,   0,   0,   0,   0,   0,   0,\n",
              "          0,   0],\n",
              "       [  0,   0,   0,   0,   0,   0,   0,   0,   0,  33, 134, 253, 253,\n",
              "        253, 253, 105,   0,   0,   0,   0,   0,   0,   0,   0,   0,   0,\n",
              "          0,   0],\n",
              "       [  0,   0,   0,   0,   0,   0,   0,   0,  51, 225, 253, 253, 253,\n",
              "        253, 253,  68,   0,   0,   0,   0,   0,   0,   0,   0,   0,   0,\n",
              "          0,   0],\n",
              "       [  0,   0,   0,   0,   0,   0,   0,  48, 227, 253, 253, 250, 174,\n",
              "        253, 253,  68,   0,   0,   0,   0,   0,   0,   0,   0,   0,   0,\n",
              "          0,   0],\n",
              "       [  0,   0,   0,   0,   0,   0,   0, 213, 253, 253, 179,  63, 111,\n",
              "        253, 253,  68,   0,   0,   0,   0,   0,   0,   0,   0,   0,   0,\n",
              "          0,   0],\n",
              "       [  0,   0,   0,   0,   0,   0,  92, 251, 201,  13,   5,   0, 166,\n",
              "        253, 253,  68,   0,   0,   0,   0,   0,   0,   0,   0,   0,   0,\n",
              "          0,   0],\n",
              "       [  0,   0,   0,   0,   0,  39, 222, 253, 198,   0,   0,   0, 248,\n",
              "        253, 231,  46,   0,   0,   0,   0,   0,   0,   0,   0,   0,   0,\n",
              "          0,   0],\n",
              "       [  0,   0,   0,   0,   0,  54, 243, 253, 124,   0,  38, 133, 252,\n",
              "        253, 150,   0,   0,   0,   0,   0,   0,   0,   0,   0,   0,   0,\n",
              "          0,   0],\n",
              "       [  0,   0,   0,   0,   0, 118, 253, 253, 237, 179, 223, 253, 253,\n",
              "        190,  14,   0,   0,   0,   0,   0,   0,   0,   0,   0,   0,   0,\n",
              "          0,   0],\n",
              "       [  0,   0,   0,   0,   0,  44, 230, 253, 253, 253, 253, 253, 244,\n",
              "         76,   0,   0,   0,   0,   0,   0,   0,   0,   0,   0,   0,   0,\n",
              "          0,   0],\n",
              "       [  0,   0,   0,   0,   0,   0,  45, 231, 253, 253, 253, 182,  66,\n",
              "          0,   0,   0,   0,   0,   0,   0,   0,   0,   0,   0,   0,   0,\n",
              "          0,   0],\n",
              "       [  0,   0,   0,   0,   0,   0,   0,   0,   0,   0,   0,   0,   0,\n",
              "          0,   0,   0,   0,   0,   0,   0,   0,   0,   0,   0,   0,   0,\n",
              "          0,   0],\n",
              "       [  0,   0,   0,   0,   0,   0,   0,   0,   0,   0,   0,   0,   0,\n",
              "          0,   0,   0,   0,   0,   0,   0,   0,   0,   0,   0,   0,   0,\n",
              "          0,   0],\n",
              "       [  0,   0,   0,   0,   0,   0,   0,   0,   0,   0,   0,   0,   0,\n",
              "          0,   0,   0,   0,   0,   0,   0,   0,   0,   0,   0,   0,   0,\n",
              "          0,   0]], dtype=uint8)"
            ]
          },
          "metadata": {},
          "execution_count": 6
        }
      ],
      "metadata": {
        "colab": {
          "base_uri": "https://localhost:8080/"
        },
        "id": "wpB1-j-MBFyp",
        "outputId": "262d24a8-9392-4525-b14b-0c805212fcc3"
      }
    },
    {
      "cell_type": "markdown",
      "source": [
        "As you can see here, each image is a (28x28) 2d numpy array and hence contains 784 individual pixel values (in grayscale)."
      ],
      "metadata": {
        "id": "IHJuvR7aJdR7"
      }
    },
    {
      "cell_type": "code",
      "execution_count": null,
      "source": [
        "# flattening single example \r\n",
        "example = X_train[31].reshape((-1))\r\n",
        "print(type(example))\r\n",
        "print(\"Shape:\", example.shape)"
      ],
      "outputs": [
        {
          "output_type": "stream",
          "name": "stdout",
          "text": [
            "<class 'numpy.ndarray'>\n",
            "Shape: (784,)\n"
          ]
        }
      ],
      "metadata": {
        "colab": {
          "base_uri": "https://localhost:8080/"
        },
        "id": "kI8TlS3XG0tT",
        "outputId": "45261992-2f84-4040-9a2c-cdc15bdf18d0"
      }
    },
    {
      "cell_type": "markdown",
      "source": [
        "##Pre-processing:\n",
        "\n",
        "**Flattening the input values:**\n",
        "Since we are using a simple Feed-forward Nerual Network, it's better to convert each input from a 2D array to a 1D array. This process is called flattening. "
      ],
      "metadata": {
        "id": "UcJGFAPB_yrQ"
      }
    },
    {
      "cell_type": "code",
      "execution_count": null,
      "source": [
        "# flattening the input\r\n",
        "\r\n",
        "X_train_flattened = X_train.reshape((X_train.shape[0], -1))\r\n",
        "X_test_flattened = X_test.reshape((X_test.shape[0], -1))\r\n",
        "\r\n",
        "print(f\"Shapes - Train: {X_train_flattened.shape}, Test: {X_test_flattened.shape}\")"
      ],
      "outputs": [
        {
          "output_type": "stream",
          "name": "stdout",
          "text": [
            "Shapes - Train: (60000, 784), Test: (10000, 784)\n"
          ]
        }
      ],
      "metadata": {
        "colab": {
          "base_uri": "https://localhost:8080/"
        },
        "id": "0N84EzhtH__R",
        "outputId": "d80fe86c-452a-4a4a-f63c-2a823ee5ddf3"
      }
    },
    {
      "cell_type": "markdown",
      "source": [
        "**Normalizing input values:**\n",
        "\n",
        "We often need to normalize the input values into a convinient range. Let us see what is the current range of pixel values:"
      ],
      "metadata": {
        "id": "rTqzd3CfJ-Pb"
      }
    },
    {
      "cell_type": "code",
      "execution_count": null,
      "source": [
        "print(\"Minimum pixel value =\", X_train_flattened.min())\r\n",
        "print(\"Maximum pixel value =\", X_train_flattened.max())"
      ],
      "outputs": [
        {
          "output_type": "stream",
          "name": "stdout",
          "text": [
            "Minimum pixel value = 0\n",
            "Maximum pixel value = 255\n"
          ]
        }
      ],
      "metadata": {
        "colab": {
          "base_uri": "https://localhost:8080/"
        },
        "id": "nXobob1BIiyK",
        "outputId": "98a6cebe-c8bb-41e4-bbe8-1e1a271782ce"
      }
    },
    {
      "cell_type": "markdown",
      "source": [
        "So it turns out that the pixel values are in the standard grayscale range **0-255** (in some datasets it can differ. For e.g., in the 'digits' dataset, the range is 0-16)\n",
        "\n",
        "We want to normalize the input such that each value lies in the (0,1) range. Hence we will divide each of the input values by 255. This will not affect the nature of input."
      ],
      "metadata": {
        "id": "d8-YU_AvKUnr"
      }
    },
    {
      "cell_type": "markdown",
      "source": [
        "**Normalizing the dataset:** "
      ],
      "metadata": {
        "id": "1J2Z_A8cSYFl"
      }
    },
    {
      "cell_type": "code",
      "execution_count": null,
      "source": [
        "X_normalized_train = np.round(X_train_flattened/255, 3)\r\n",
        "X_normalized_test = np.round(X_test_flattened/255, 3)\r\n",
        "\r\n",
        "print(\"Minimum pixel value =\", X_normalized_train.min())\r\n",
        "print(\"Maximum pixel value =\", X_normalized_train.max())"
      ],
      "outputs": [
        {
          "output_type": "stream",
          "name": "stdout",
          "text": [
            "Minimum pixel value = 0.0\n",
            "Maximum pixel value = 1.0\n"
          ]
        }
      ],
      "metadata": {
        "colab": {
          "base_uri": "https://localhost:8080/"
        },
        "id": "Eav9JO6PREKz",
        "outputId": "957050f0-320e-40af-ca49-d5f22bd379ca"
      }
    },
    {
      "cell_type": "code",
      "execution_count": null,
      "source": [
        "# normalized and flattened data can still be visualized as original data\r\n",
        "plt.imshow(X_normalized_train[31].reshape(28,28), cmap='gray')\r\n",
        "plt.show()"
      ],
      "outputs": [
        {
          "output_type": "display_data",
          "data": {
            "image/png": "[encoded data removed]",
            "text/plain": [
              "<Figure size 432x288 with 1 Axes>"
            ]
          },
          "metadata": {}
        }
      ],
      "metadata": {
        "colab": {
          "base_uri": "https://localhost:8080/",
          "height": 265
        },
        "id": "M1BjaZDWDqpQ",
        "outputId": "30381650-26ed-46d4-8233-22375a6daa52"
      }
    },
    {
      "cell_type": "markdown",
      "source": [
        "As you can see, normalizing doesn't affect the nature of image. It all depends on the relative values. So now we will use this flattened input layer and proceed for the next step."
      ],
      "metadata": {
        "id": "faIzHnDYVOgn"
      }
    },
    {
      "cell_type": "markdown",
      "source": [
        "## Creating datasets for binary and multi-class Classification:\r\n",
        "\r\n",
        "We will have a look at two problems. First one is binary classification, whereas second one is a multiclass classification problem."
      ],
      "metadata": {
        "id": "pMvyqMAi_yrl"
      }
    },
    {
      "cell_type": "markdown",
      "source": [
        "### **Binary Classification problem:**\r\n",
        "\r\n",
        "MNIST has 10 different target classes, each representing one of the digits from 0-9. Let's consider digit '**0**' and digit '**6**'. Let's extract these inputs from the original dataset."
      ],
      "metadata": {
        "id": "YIxeICYNVqpc"
      }
    },
    {
      "cell_type": "markdown",
      "source": [
        "**Creating the subsets:**"
      ],
      "metadata": {
        "id": "jffSkJI_g1Ey"
      }
    },
    {
      "cell_type": "code",
      "execution_count": null,
      "source": [
        "train_idx = np.where((Y_train==0) | (Y_train==6))\r\n",
        "X_train_bin = X_normalized_train[train_idx]\r\n",
        "Y_train_bin = Y_train[train_idx]\r\n",
        "\r\n",
        "test_idx = np.where((Y_test==0) | (Y_test==6))\r\n",
        "X_test_bin = X_normalized_test[test_idx]\r\n",
        "Y_test_bin = Y_test[test_idx]\r\n",
        "\r\n",
        "print(f'Trainset shapes - X: {X_train_bin.shape}, Y: {Y_train_bin.shape}')\r\n",
        "print(f'Testset shapes - X: {X_test_bin.shape}, Y: {Y_test_bin.shape}')\r\n",
        "\r\n",
        "print(f'\\nTrain statistics - 0: {(Y_train_bin==0).sum()}, 6: {(Y_train_bin==6).sum()}')\r\n",
        "print(f'Test statistics - 0: {(Y_test_bin==0).sum()}, 6: {(Y_test_bin==6).sum()}')"
      ],
      "outputs": [
        {
          "output_type": "stream",
          "name": "stdout",
          "text": [
            "Trainset shapes - X: (11841, 784), Y: (11841,)\n",
            "Testset shapes - X: (1938, 784), Y: (1938,)\n",
            "\n",
            "Train statistics - 0: 5923, 6: 5918\n",
            "Test statistics - 0: 980, 6: 958\n"
          ]
        }
      ],
      "metadata": {
        "colab": {
          "base_uri": "https://localhost:8080/"
        },
        "id": "7111D1S4VpGG",
        "outputId": "36c5ae63-55f3-4de6-bd9e-1bd98402f82d"
      }
    },
    {
      "cell_type": "code",
      "execution_count": null,
      "source": [
        "# Setting label of class 6 to 1 for binary classification problem\r\n",
        "\r\n",
        "Y_train_bin[Y_train_bin==6] = 1 \r\n",
        "Y_test_bin[Y_test_bin==6] = 1 "
      ],
      "outputs": [],
      "metadata": {
        "id": "ng61OK6hHZla"
      }
    },
    {
      "cell_type": "markdown",
      "source": [
        "We now have only 0s and 6s in the newly created subsets. Also number of 0s and 6s is quite even. So we can say that the dataset is quite evenly balanced. In practical situations, often it's the opposite and we need to implement different techniques to balance it. "
      ],
      "metadata": {
        "id": "-CI4qkMSYsTO"
      }
    },
    {
      "cell_type": "markdown",
      "source": [
        "**Splitting the training dataset:**\n",
        "\n",
        "Often it is observed that training the model for a large number of epochs leads to overfitting. To avoid this problem, we need a validation dataset to keep track of the 'validation accuracy'. Hence now we will split the current training dataset (of 11841 instances) into a training set and a validation set."
      ],
      "metadata": {
        "id": "kMWxxCpnZLfH"
      }
    },
    {
      "cell_type": "code",
      "execution_count": null,
      "source": [
        "from sklearn.model_selection import train_test_split"
      ],
      "outputs": [],
      "metadata": {
        "id": "hvoYIMvKX6sd"
      }
    },
    {
      "cell_type": "markdown",
      "source": [
        "(Even though the function name says train_test_split, you can use it for validation dataset or any kind of split in general)"
      ],
      "metadata": {
        "id": "rTtGk-4sbSxW"
      }
    },
    {
      "cell_type": "markdown",
      "source": [
        "We are splitting the old training dataset here. In practice, people consider splits like 90-10, 80-20, 67-33 etc. You can chose your own value. It's always a tradeoff. If validation dataset is too small, it may not reflect the best results in terms of validation accuracy. On the other hand, taking a large chunk for validation part may result in loss of some info while training.\n",
        "\n",
        "We will go with 80-20 spllit for now."
      ],
      "metadata": {
        "id": "0Ju8BK8PdcCG"
      }
    },
    {
      "cell_type": "code",
      "execution_count": null,
      "source": [
        "X_train_bin, X_val_bin, Y_train_bin, Y_val_bin = train_test_split(X_train_bin, Y_train_bin, test_size=0.2, random_state = 1)"
      ],
      "outputs": [],
      "metadata": {
        "id": "V9slDYMrbh53"
      }
    },
    {
      "cell_type": "code",
      "execution_count": null,
      "source": [
        "print(\"Instances in new train-set:\", len(Y_train_bin))\r\n",
        "print(\"Instances in val-set:\", len(Y_val_bin))\r\n",
        "print(\"\\nCount of 0s and 6s in train-set:\", (Y_train_bin==0).sum(), (Y_train_bin==1).sum())\r\n",
        "print(\"Count of 0s and 6s in val-set:\", (Y_val_bin==0).sum(), (Y_val_bin==1).sum())"
      ],
      "outputs": [
        {
          "output_type": "stream",
          "name": "stdout",
          "text": [
            "Instances in new train-set: 9472\n",
            "Instances in val-set: 2369\n",
            "\n",
            "Count of 0s and 6s in train-set: 4724 4748\n",
            "Count of 0s and 6s in val-set: 1199 1170\n"
          ]
        }
      ],
      "metadata": {
        "colab": {
          "base_uri": "https://localhost:8080/"
        },
        "id": "y0mWgtbYcmug",
        "outputId": "5f225120-bbfd-4957-c355-9627056d40e8"
      }
    },
    {
      "cell_type": "code",
      "execution_count": null,
      "source": [
        "# Traspose feature matrices as per our model requirement\r\n",
        "\r\n",
        "X_train_bin, X_val_bin, X_test_bin = X_train_bin.T, X_val_bin.T, X_test_bin.T\r\n",
        "print(f'Shapes - {X_train_bin.shape, X_val_bin.shape, X_test_bin.shape}')"
      ],
      "outputs": [
        {
          "output_type": "stream",
          "name": "stdout",
          "text": [
            "Shapes - ((784, 9472), (784, 2369), (784, 1938))\n"
          ]
        }
      ],
      "metadata": {
        "colab": {
          "base_uri": "https://localhost:8080/"
        },
        "id": "PlFCGFISpDmD",
        "outputId": "6263ea64-f66c-46f3-d3bb-bd1fb9dfef03"
      }
    },
    {
      "cell_type": "markdown",
      "source": [
        "It's important to know that the split function has an argument **shuffle** which is **True** by default. It means that your data is shuffled before splitting. If you are using a custom method to split, keep this in mind!\n",
        "\n",
        "Also we are using a **random_state** parameter to ensure the same split at each run. It's not necessary to use in practice unless you want to do experiments with the same split.\n",
        "\n",
        "Let's get to our model:\n"
      ],
      "metadata": {
        "id": "JMDaMVykdwuv"
      }
    },
    {
      "cell_type": "markdown",
      "source": [
        "## Building the Neural Net class: "
      ],
      "metadata": {
        "id": "b6Ag1ws0Im_N"
      }
    },
    {
      "cell_type": "code",
      "execution_count": null,
      "source": [
        "class Neural_Network():\r\n",
        "    def __init__(self, neurons, Activations, initialization='randn'):\r\n",
        "        \"\"\"Define the NN design parameters\r\n",
        "        Args:\r\n",
        "            neurons (int array): list of numbers listing neurons for each layer\r\n",
        "            Activations (str array): list of activations to be used for hidden and output layers\r\n",
        "            initialization (str, optional): Choose weight initialization from\r\n",
        "             uniform or normal distribution. Defaults to 'randn'.\r\n",
        "        \"\"\"\r\n",
        "        \r\n",
        "        self.inputSize = neurons[0] # Number of neurons in input layer\r\n",
        "        self.outputSize = neurons[-1] # Number of neurons in output layer\r\n",
        "        self.layers = len(neurons)\r\n",
        "        self.weights = [] # weights for each layer\r\n",
        "        self.biases = [] # biases in each layer \r\n",
        "        self.layer_activations = [] # activations in each layer\r\n",
        "        # self.loss = self.lossSE\r\n",
        "        if initialization == 'rand':\r\n",
        "            self.initializer = np.random.rand\r\n",
        "        elif initialization == 'randn':\r\n",
        "            self.initializer = np.random.randn\r\n",
        "        else:\r\n",
        "            raise ValueError(\"initialization must be 'rand' or 'randn'\")\r\n",
        "        for i in range(len(neurons)-1):\r\n",
        "            self.weights.append(self.initializer(neurons[i+1],neurons[i])) # weight matrix between layer i and layer i+1\r\n",
        "            self.biases.append(self.initializer(neurons[i+1],1))\r\n",
        "            self.layer_activations.append(Activations[i]) # activations for each layer\r\n",
        "        \r\n",
        "            \r\n",
        "    def sigmoid(self, z):\r\n",
        "        \"\"\"returns result of the sigmoid activation function on input z.\"\"\"                 \r\n",
        "        return 1.0/(1.0+np.exp(-z))\r\n",
        "    \r\n",
        "    def sigmoidPrime(self,z):\r\n",
        "        \"\"\"returns derivative of sigmoid activation function applied on input z.\"\"\"\r\n",
        "        return self.sigmoid(z)*(1-self.sigmoid(z))\r\n",
        "\r\n",
        "    def tanh(self, z):\r\n",
        "        \"\"\"returns result of the hyperbolic tan activation function on input z.\"\"\"\r\n",
        "        return (np.exp(z) - np.exp(-z)) / (np.exp(z) + np.exp(-z))\r\n",
        "\r\n",
        "    def tanhPrime(self, z):\r\n",
        "        \"\"\"returns derivative of hyperbolic tan activation function applied on input z.\"\"\"\r\n",
        "        return 1 - self.tanh(z)**2\r\n",
        "\r\n",
        "    def linear(self, z):\r\n",
        "        \"\"\"returns result of the linear activation function on input z.\"\"\"\r\n",
        "        return z\r\n",
        "\r\n",
        "    def linearPrime(self, z):\r\n",
        "        \"\"\"returns derivative of linear activation function applied on input z.\"\"\"\r\n",
        "        return 1\r\n",
        "\r\n",
        "    def ReLU(self, z):\r\n",
        "        \"\"\"returns result of the ReLU activation function on input z.\"\"\"\r\n",
        "        return np.maximum(0, z)\r\n",
        "\r\n",
        "    def ReLUPrime(self, z):\r\n",
        "        \"\"\"returns derivative of ReLU activation function applied on input z.\"\"\"\r\n",
        "        return z > 0\r\n",
        "    \r\n",
        "    def softmax(self, z):\r\n",
        "        \"\"\"returns result of the softmax activation function on input z.\"\"\"\r\n",
        "        return np.exp(z) / np.sum(np.exp(z), axis=0)\r\n",
        "    \r\n",
        "    def lossSE(self, predicted, actual):\r\n",
        "        \"\"\"Implementation of Squared-error loss function.\"\"\"\r\n",
        "        return np.mean(0.5*(predicted-actual)**2)\r\n",
        "    \r\n",
        "    def lossCE(self, predicted, actual):\r\n",
        "        \"\"\"Implementation of Cross-Entropy loss function.\"\"\"\r\n",
        "        return (-1 / actual.shape[1]) * np.sum(np.multiply(actual, np.log(predicted)))\r\n",
        "    \r\n",
        "    def forward(self, a):\r\n",
        "        \"\"\"Defines forward pass of the NN\r\n",
        "\r\n",
        "        Args:\r\n",
        "            a (array): input of size self.inputSize\r\n",
        "\r\n",
        "        Returns:\r\n",
        "            a (array): output of the forward pass\r\n",
        "            layer_dot_prod_z (list): layerwise intermediate outputs\r\n",
        "            layer_activations_a (list): layerwise activations\r\n",
        "        \"\"\"\r\n",
        "\r\n",
        "        layer_activations_a = [a] # store the input as the input layer activations\r\n",
        "        layer_dot_prod_z = []\r\n",
        "        for i, param in enumerate(zip(self.biases, self.weights)):\r\n",
        "            b, w = param[0], param[1]\r\n",
        "            z = np.dot(w, a)+b\r\n",
        "            if self.layer_activations[i].lower()=='sigmoid':\r\n",
        "                a = self.sigmoid(z)\r\n",
        "            elif self.layer_activations[i].lower()=='relu':\r\n",
        "                a = self.ReLU(z)\r\n",
        "            elif self.layer_activations[i].lower()=='tanh':   \r\n",
        "                a = self.tanh(z)\r\n",
        "            elif self.layer_activations[i].lower()=='linear':\r\n",
        "                a = self.linear(z)\r\n",
        "            elif self.layer_activations[i].lower()=='softmax':\r\n",
        "                a = self.softmax(z)\r\n",
        "            else:\r\n",
        "                raise ValueError(\"Activation function not supported\")\r\n",
        "            layer_dot_prod_z.append(z)\r\n",
        "            layer_activations_a.append(a)\r\n",
        "        return a, layer_dot_prod_z, layer_activations_a\r\n",
        "\r\n",
        "    def backward(self, x, y, zs, activations):\r\n",
        "        \"\"\"backward pass to calculate gradient of loss w.r.t. NN parameters\r\n",
        "\r\n",
        "        Args:\r\n",
        "            x (array): input\r\n",
        "            y (array): ouputs from forward pass\r\n",
        "            zs (list): layerwise intermediate outputs from forward pass\r\n",
        "            activations (list): layerwise activations from forward pass\r\n",
        "\r\n",
        "        Returns:\r\n",
        "            gradients (tuple): gradients with respect to bias and weight parameters respectively\r\n",
        "        \"\"\"\r\n",
        "        \r\n",
        "        grad_b = [np.zeros(b.shape) for b in self.biases]\r\n",
        "        grad_w = [np.zeros(w.shape) for w in self.weights]\r\n",
        "        \r\n",
        "        for t in range(1, self.num_layers):\r\n",
        "            if t == 1:\r\n",
        "                delta = (activations[-t] - y)\r\n",
        "            else:\r\n",
        "                delta = np.dot(self.weights[-t+1].transpose(), delta)\r\n",
        "\r\n",
        "            if self.layer_activations[t].lower()=='sigmoid':\r\n",
        "                delta *= self.sigmoidPrime(zs[-t])\r\n",
        "            elif self.layer_activations[t].lower()=='relu':\r\n",
        "                delta *= self.ReLUPrime(zs[-t])\r\n",
        "            elif self.layer_activations[t].lower()=='tanh':   \r\n",
        "                delta *= self.tanhPrime(zs[-t])\r\n",
        "            elif self.layer_activations[t].lower()=='linear':\r\n",
        "                delta *= self.linearPrime(zs[-t])\r\n",
        "            # elif self.layer_activations[t].lower()=='softmax':\r\n",
        "            #     delta *= self.softmaxPrime(zs[-t])\r\n",
        "            else:\r\n",
        "                raise ValueError(\"Activation function not supported\")\r\n",
        "\r\n",
        "            grad_b[-t] = delta\r\n",
        "            grad_w[-t] = np.dot(delta, activations[-t-1].transpose())\r\n",
        "        \r\n",
        "        return (grad_b, grad_w)                 \r\n",
        "\r\n",
        "\r\n",
        "    def update_parameters(self, grads, lr):\r\n",
        "        \"\"\"update the NN parameters using the gradients\r\n",
        "\r\n",
        "        Args:\r\n",
        "            grads (list): gradients obtained from backward pass\r\n",
        "            lr (float): learning rate of NN\r\n",
        "        \"\"\"\r\n",
        "        \r\n",
        "        grad_b, grad_w = grads[0], grads[1]\r\n",
        "\r\n",
        "        #implement the update steps here\r\n",
        "        self.weights = [w - (lr/len(grad_w)) * grad_w for w, grad_w in zip(self.weights, grad_w)]\r\n",
        "        self.biases = [b - (lr/len(grad_b)) * grad_b for b, grad_b in zip(self.biases, grad_b)]\r\n",
        "    \r\n",
        "    def error(self, X, Y, errors):  \r\n",
        "        \"\"\"Appends loss to error list\"\"\"\r\n",
        "        y = np.squeeze(self.forward(X)[0])\r\n",
        "        errors.append(self.loss(y, Y))\r\n",
        "\r\n",
        "    def copy_params(self):\r\n",
        "        \"\"\"Returns a copy of current NN parameters\"\"\"\r\n",
        "        weights = [w.copy() for w in self.weights]\r\n",
        "        biases = [b.copy() for b in self.biases]\r\n",
        "        return (weights, biases)\r\n",
        "\r\n",
        "    def train(self, X, Y, lr = 1e-3, max_epochs = 1000, patience=5, batch_size = None,\r\n",
        "            n_classes=10, onehotencoded=False, loss_func='SE', Xval=None, Yval=None, verbose=True):\r\n",
        "        \"\"\"Function for training our Neural Network\r\n",
        "\r\n",
        "        Args:\r\n",
        "            X (ndarray): feature matrix of training data,\r\n",
        "            Shape: (n,m) where n is no. of features and m is no. of samples.\r\n",
        "            Y (ndarray): ground truth of training data, NOT one-hot-encoded. Shape: (1,m).\r\n",
        "            lr (float or function, optional): constant learning rate or scheduler function.\r\n",
        "            Defaults to 1e-3 constant lr.\r\n",
        "            max_epochs (int, optional): epoch cap for training. Defaults to 1000.\r\n",
        "            patience (int, optional): patience parameter for early stopping. Defaults to 5.\r\n",
        "            batch_size (int, optional): mini-batch size. Defaults to full-batch GD if not provided.\r\n",
        "            n_classes (int, optional): no. of classes for multi-class classification required if\r\n",
        "            one-hot encoding is set to True. Defaults to 10.\r\n",
        "            onehotencoded (bool, optional): Defaults to False.\r\n",
        "            loss_func (str, optional): Choose from 'SE' and 'CE' loss functions. Defaults to 'SE'.\r\n",
        "            Xval (ndarray, optional): Validation data feature matrix. Defaults to None.\r\n",
        "            Yval (ndarray, optional): Validation data ground truth. Defaults to None.\r\n",
        "            verbose (bool, optional): If True, displays logs and progress of training. Defaults to True.\r\n",
        "\r\n",
        "        Returns:\r\n",
        "            [list/tuple]: lists of train-set and validation-set losses seen over the traning process.\r\n",
        "        \"\"\"\r\n",
        "        \r\n",
        "        if onehotencoded:\r\n",
        "            # a method for creating one hot encoded labels \r\n",
        "            def onehotencoding(Y, n):\r\n",
        "                # one-hot encoding of class i is just the ith column of the identity \r\n",
        "                # matrix of size n where n is the total number of classes. so below \r\n",
        "                # code uses Y (a 1d array) for indexing into the identity matrix.\r\n",
        "                raise NotImplementedError \r\n",
        "\r\n",
        "            Y = onehotencoding(Y, n_classes)\r\n",
        "            if Yval is not None:\r\n",
        "                Yval = onehotencoding(Yval, n_classes)\r\n",
        "\r\n",
        "        # Below code ensures that Y is 2-dimensional even when one-hot encoding is not\r\n",
        "        # performed, so our same code works for training NN for both tasks.  \r\n",
        "        Y = np.expand_dims(Y,0) if len(Y.shape) == 1 else Y\r\n",
        "        Yval = np.expand_dims(Yval,0) if (Yval is not None and len(Yval.shape) == 1) else Yval\r\n",
        "        \r\n",
        "        if loss_func == 'SE':\r\n",
        "            self.loss = self.lossSE\r\n",
        "        elif loss_func == 'CE':\r\n",
        "            self.loss = self.lossCE\r\n",
        "            \r\n",
        "        train_errors=[]\r\n",
        "        if Xval is not None:\r\n",
        "            val_errors=[]\r\n",
        "        i, j, v = 0, 0, np.inf\r\n",
        "        best_params = self.copy_params()\r\n",
        "        \r\n",
        "        if batch_size is not None:\r\n",
        "            if batch_size > len(X[0]):\r\n",
        "                raise ValueError(\"invalid mini-batch size. Must be smaller than dataset length\")\r\n",
        "        else:\r\n",
        "            batch_size = len(X[0])\r\n",
        "            \r\n",
        "        \r\n",
        "        while j < patience:\r\n",
        "\r\n",
        "            # Shuffle Dataset\r\n",
        "            idx = np.arange(len(X[0]))\r\n",
        "            np.random.shuffle(idx)\r\n",
        "            X1 = np.take(X,idx,axis=-1) \r\n",
        "            Y1 = np.take(Y,idx,axis=-1)\r\n",
        "\r\n",
        "            for q in range(0,len(X1[0]),batch_size):\r\n",
        "                start, end = q, min(len(X1[0]), q+batch_size)\r\n",
        "                train_x = X1[:, start:end] \r\n",
        "                train_y = Y1[:,start:end]\r\n",
        "                out, dot_prod_z, activations_a = self.forward(train_x)\r\n",
        "                grads = self.backward(train_x, train_y, dot_prod_z, activations_a) # find the gradients using backward pass\r\n",
        "                # self.update_parameters(grads, get_lr(i))\r\n",
        "                self.update_parameters(grads, i)\r\n",
        "            i += 1 # increment epoch count\r\n",
        "\r\n",
        "            self.error(X, Y, train_errors)\r\n",
        "            if Xval is not None:\r\n",
        "                self.error(Xval, Yval, val_errors)\r\n",
        "\r\n",
        "                if val_errors[-1] < v:\r\n",
        "                    j = 0 # reset patience counter\r\n",
        "                    v = val_errors[-1] # update best loss\r\n",
        "                    best_params = self.copy_params() # save params\r\n",
        "                else:\r\n",
        "                    j += 1 # increment patience counter\r\n",
        "\r\n",
        "            if verbose and i%5 == 0:\r\n",
        "                log = f\"Epoch {i}..............Loss on train = {train_errors[-1]}\"\r\n",
        "                if Xval is not None:\r\n",
        "                    log += f\", Loss on val = {val_errors[-1]}\"\r\n",
        "                print(log)\r\n",
        "                \r\n",
        "            if i >= max_epochs:\r\n",
        "                break # stop if epoch threshold crossed\r\n",
        "\r\n",
        "        if Xval is not None:\r\n",
        "            if i >= max_epochs and verbose:\r\n",
        "                print(\"Reached Epoch Cap without convergence....Terminating\")\r\n",
        "            elif verbose:\r\n",
        "                print(\"Early Stopping .............. Returning best weights\")\r\n",
        "\r\n",
        "            self.weights, self.biases = best_params # reset to best params\r\n",
        "                    \r\n",
        "        if verbose:\r\n",
        "            x = np.arange(1, len(train_errors)+1)\r\n",
        "            plt.plot(x, train_errors, label=\"Loss on Train\")\r\n",
        "            if Xval is not None:\r\n",
        "                plt.plot(x, val_errors, label=\"Loss on Val\")\r\n",
        "            plt.legend()\r\n",
        "            plt.title(f\"{loss_func} - Learning Rate = {lr}\")\r\n",
        "            plt.xlabel(\"Epoch\")\r\n",
        "            plt.ylabel(\"Loss\")\r\n",
        "            plt.show()\r\n",
        "        if Xval is not None:           \r\n",
        "            return (train_errors, val_errors)\r\n",
        "        return train_errors\r\n",
        "        \r\n",
        "    def predict(self, x):\r\n",
        "        #Implement the code for prediction \r\n",
        "        raise NotImplementedError"
      ],
      "outputs": [],
      "metadata": {
        "id": "aNupsKfm_yq-",
        "scrolled": false
      }
    },
    {
      "cell_type": "markdown",
      "source": [
        "**Creating a MLP (Feed forward NN) model instance for our Binary classification task :**\n",
        "\n",
        "Let's now create a simple feed-forward neural network. \n",
        "\n",
        "* Number of input neurons = 784.\n",
        "* Number of output layer neurons = 1.\n",
        "\n",
        "The number of hidden layers and number of neurons in each hidden layer can be decided by the user."
      ],
      "metadata": {
        "id": "6m9qBqPrifRp"
      }
    },
    {
      "cell_type": "code",
      "execution_count": null,
      "source": [
        "#D_in is input dimension\r\n",
        "#H1 is dimension of first hidden layer \r\n",
        "#H2 is dimension of second hidden layer\r\n",
        "#D_out is output dimension.\r\n",
        "\r\n",
        "D_in, H1, H2, D_out = 784, 200, 100, 1 #You can add more layers or more outputs if you wish. \r\n",
        "\r\n",
        "neurons = [D_in, H1, H2, D_out] # list of number of neurons in the layers sequentially.\r\n",
        "activation_functions = ['sigmoid','sigmoid','sigmoid'] # activations in each layer (Note: the input layer does not have any activation)\r\n",
        "nn_bin = Neural_Network(neurons, activation_functions) # There we go, creating our neural network."
      ],
      "outputs": [],
      "metadata": {
        "id": "5v8Fxtw0-Ca5"
      }
    },
    {
      "cell_type": "markdown",
      "source": [
        "### Training the model:"
      ],
      "metadata": {
        "id": "y-BMNzeRs3rC"
      }
    },
    {
      "cell_type": "code",
      "execution_count": null,
      "source": [
        "losses = nn_bin.train(X_train_bin, Y_train_bin, batch_size=10, lr=1e-2, max_epochs=200, Xval = X_val_bin, Yval = Y_val_bin)"
      ],
      "outputs": [
        {
          "output_type": "stream",
          "name": "stdout",
          "text": [
            "Epoch 5..............Loss on train = 0.03716097353502955, Loss on val = 0.038239939482962906\n",
            "Epoch 10..............Loss on train = 0.024460501233947194, Loss on val = 0.02643735381323547\n",
            "Epoch 15..............Loss on train = 0.019578688482353692, Loss on val = 0.021851069364187806\n",
            "Epoch 20..............Loss on train = 0.01674817785064686, Loss on val = 0.019180413012739112\n",
            "Epoch 25..............Loss on train = 0.014782018249721812, Loss on val = 0.017369022401471246\n",
            "Epoch 30..............Loss on train = 0.01334156983441276, Loss on val = 0.016092271089831935\n",
            "Epoch 35..............Loss on train = 0.012210820125131621, Loss on val = 0.015084725390942362\n",
            "Epoch 40..............Loss on train = 0.011299847425960479, Loss on val = 0.014277788407806857\n",
            "Epoch 45..............Loss on train = 0.010547864778877774, Loss on val = 0.013617043035877435\n",
            "Epoch 50..............Loss on train = 0.00992544148385462, Loss on val = 0.013117427192887983\n",
            "Epoch 55..............Loss on train = 0.0093705576172937, Loss on val = 0.012624827582590951\n",
            "Epoch 60..............Loss on train = 0.008895892697343708, Loss on val = 0.012231940639954503\n",
            "Epoch 65..............Loss on train = 0.008480478599941338, Loss on val = 0.011912250155751217\n",
            "Epoch 70..............Loss on train = 0.008107222724845623, Loss on val = 0.011578650185839336\n",
            "Epoch 75..............Loss on train = 0.007770396653697319, Loss on val = 0.011313071599473725\n",
            "Epoch 80..............Loss on train = 0.007468988107151983, Loss on val = 0.011070921098772026\n",
            "Epoch 85..............Loss on train = 0.0071942487952026835, Loss on val = 0.01085370570890831\n",
            "Epoch 90..............Loss on train = 0.0069411418931883875, Loss on val = 0.010641032336175318\n",
            "Epoch 95..............Loss on train = 0.0067087090810789484, Loss on val = 0.010453845370914396\n",
            "Epoch 100..............Loss on train = 0.0064893497778881325, Loss on val = 0.010287488469774776\n",
            "Epoch 105..............Loss on train = 0.0062880273168480876, Loss on val = 0.010148639498689847\n",
            "Epoch 110..............Loss on train = 0.006096963597652588, Loss on val = 0.009988613384633359\n",
            "Epoch 115..............Loss on train = 0.005916926850153648, Loss on val = 0.009865021832318804\n",
            "Epoch 120..............Loss on train = 0.005749466465445171, Loss on val = 0.009748637562833735\n",
            "Epoch 125..............Loss on train = 0.005587548953363613, Loss on val = 0.009616438200314843\n",
            "Epoch 130..............Loss on train = 0.0054378442472889634, Loss on val = 0.009525472818366345\n",
            "Epoch 135..............Loss on train = 0.005291951241221638, Loss on val = 0.009419649444034013\n",
            "Epoch 140..............Loss on train = 0.005153833170336969, Loss on val = 0.009315733481502312\n",
            "Epoch 145..............Loss on train = 0.005021584659915672, Loss on val = 0.009228471189642103\n",
            "Epoch 150..............Loss on train = 0.004894776209265208, Loss on val = 0.009150421073811803\n",
            "Epoch 155..............Loss on train = 0.004772496357564695, Loss on val = 0.00907368496394857\n",
            "Epoch 160..............Loss on train = 0.004654823796536174, Loss on val = 0.008998859876126091\n",
            "Epoch 165..............Loss on train = 0.004540961143882884, Loss on val = 0.008926225781284639\n",
            "Epoch 170..............Loss on train = 0.00443223468807121, Loss on val = 0.008851340389287176\n",
            "Epoch 175..............Loss on train = 0.0043248039590739785, Loss on val = 0.008793108419585917\n",
            "Epoch 180..............Loss on train = 0.004222128812952742, Loss on val = 0.00873628527628464\n",
            "Epoch 185..............Loss on train = 0.004122186942970866, Loss on val = 0.008675524335864779\n",
            "Epoch 190..............Loss on train = 0.00402626885006803, Loss on val = 0.008613091568125217\n",
            "Epoch 195..............Loss on train = 0.003932354043844837, Loss on val = 0.00856220902452869\n",
            "Epoch 200..............Loss on train = 0.003842075177731777, Loss on val = 0.00851547405179398\n",
            "Reached Epoch Cap without convergence....Terminating\n"
          ]
        },
        {
          "output_type": "display_data",
          "data": {
            "image/png": "[encoded data removed]",
            "text/plain": [
              "<Figure size 432x288 with 1 Axes>"
            ]
          },
          "metadata": {}
        }
      ],
      "metadata": {
        "colab": {
          "base_uri": "https://localhost:8080/"
        },
        "id": "6_XFSOBWiep9",
        "outputId": "065b5591-f863-41ac-b92b-bb43686df00f"
      }
    },
    {
      "cell_type": "markdown",
      "source": [
        "###Testing the model: \n",
        "Now it's the time to test our model:"
      ],
      "metadata": {
        "id": "eBYaTMAjsx17"
      }
    },
    {
      "cell_type": "code",
      "execution_count": null,
      "source": [
        "print(\"First 10 outputs:\", Y_test_bin[:10])\r\n",
        "preds = nn_bin.predict(X_test_bin[:, :10])\r\n",
        "print(\"First 10 predictions:\", preds)"
      ],
      "outputs": [
        {
          "output_type": "stream",
          "name": "stdout",
          "text": [
            "First 10 outputs: [0 0 1 0 1 1 0 0 1 1]\n",
            "First 10 predictions: [0 0 1 0 1 1 0 0 1 1]\n"
          ]
        }
      ],
      "metadata": {
        "colab": {
          "base_uri": "https://localhost:8080/"
        },
        "id": "ADCumtiUiIdY",
        "outputId": "3498f181-97e0-49d5-ce51-db235eea82ca"
      }
    },
    {
      "cell_type": "markdown",
      "source": [
        "Now it's time to check the accuracy of our model on the entire dataset:"
      ],
      "metadata": {
        "id": "mpmq-iTVukjd"
      }
    },
    {
      "cell_type": "code",
      "execution_count": null,
      "source": [
        "Y_pred_bin = nn_bin.predict(X_test_bin)"
      ],
      "outputs": [],
      "metadata": {
        "id": "BPhezdmQurHQ"
      }
    },
    {
      "cell_type": "markdown",
      "source": [
        "###Checking the accuracy:\n",
        "You can write a simple code manually to calculate the accuracy of model by counting the number of correct predictions. However there are tools available to make it easier. "
      ],
      "metadata": {
        "id": "z6km6votvImL"
      }
    },
    {
      "cell_type": "code",
      "execution_count": null,
      "source": [
        "bin_score = (Y_pred_bin == Y_test_bin).mean()\r\n",
        "print(\"Model accuracy =\", round(bin_score*100,2),\"%\")"
      ],
      "outputs": [
        {
          "output_type": "stream",
          "name": "stdout",
          "text": [
            "Model accuracy = 98.04 %\n"
          ]
        }
      ],
      "metadata": {
        "colab": {
          "base_uri": "https://localhost:8080/"
        },
        "id": "P94_7ggVvdU9",
        "outputId": "93869b04-ba9e-49fa-fe78-60c6061c8703"
      }
    },
    {
      "cell_type": "markdown",
      "source": [
        "###Confusion Matrix: \n",
        "As accuracy doesn't tell the whole story, let us see the entire picture through the confusion matrix. "
      ],
      "metadata": {
        "id": "WLy5ZHxPZr1f"
      }
    },
    {
      "cell_type": "code",
      "execution_count": null,
      "source": [
        "from sklearn.metrics import confusion_matrix, ConfusionMatrixDisplay\r\n",
        "\r\n",
        "matrix_bin = confusion_matrix(Y_test_bin, Y_pred_bin)\r\n",
        "ConfusionMatrixDisplay(matrix_bin, [0,6]).plot(cmap=\"Blues\", values_format='')\r\n",
        "plt.show()\r\n",
        "print(\"\\nLabel totals in dataset:\\n\", list(zip([0, 6], np.sum(matrix_bin, axis=-1))))"
      ],
      "outputs": [
        {
          "output_type": "display_data",
          "data": {
            "image/png": "[encoded data removed]",
            "text/plain": [
              "<Figure size 432x288 with 2 Axes>"
            ]
          },
          "metadata": {}
        },
        {
          "output_type": "stream",
          "name": "stdout",
          "text": [
            "\n",
            "Label totals in dataset:\n",
            " [(0, 980), (6, 958)]\n"
          ]
        }
      ],
      "metadata": {
        "colab": {
          "base_uri": "https://localhost:8080/",
          "height": 331
        },
        "id": "lHmC7pxla69v",
        "outputId": "dd57d6d8-aef6-44c1-f4b5-2ec72d12e9cd"
      }
    },
    {
      "cell_type": "markdown",
      "source": [
        "Looks great! We further can improve the results by increasing the number of epochs, changing the hidden layer format and other hyperparameters. This process is called hyperparameter tuning, which you can do manually by trial and error or by using some available tools. We can also adapt learning rate scheduling methods.\n",
        "\n",
        "Now let's head towards the multiclass classification problem."
      ],
      "metadata": {
        "id": "Cf-iat09wTqd"
      }
    },
    {
      "cell_type": "markdown",
      "source": [
        "<br><br><br><br>\n",
        "\n",
        "###**Multi-class Classification problem:**\n",
        "We will do the same thing, with multiple classes this time. We will consider the digits **'1', '5', '7',** and **'9'**."
      ],
      "metadata": {
        "id": "rHsgVnoe8RJ2"
      }
    },
    {
      "cell_type": "code",
      "execution_count": null,
      "source": [
        "train_idx = np.where((Y_train==1) | (Y_train==5) | (Y_train==7) | (Y_train==9))\r\n",
        "X_train_multiclass = X_normalized_train[train_idx]\r\n",
        "Y_train_multiclass = Y_train[train_idx]\r\n",
        "\r\n",
        "test_idx = np.where((Y_test==1) | (Y_test==5) | (Y_test==7) | (Y_test==9))\r\n",
        "X_test_multiclass = X_normalized_test[test_idx]\r\n",
        "Y_test_multiclass = Y_test[test_idx]\r\n",
        "\r\n",
        "print(f'Trainset shapes - X: {X_train_multiclass.shape}, Y: {Y_train_multiclass.shape}')\r\n",
        "print(f'Testset shapes - X: {X_test_multiclass.shape}, Y: {Y_test_multiclass.shape}')\r\n",
        "\r\n",
        "print(f'\\nTrain statistics - 1: {(Y_train_multiclass==1).sum()}, 5: {(Y_train_multiclass==5).sum()}, 7: {(Y_train_multiclass==7).sum()}, 9: {(Y_train_multiclass==9).sum()}')\r\n",
        "print(f'Test statistics - 1: {(Y_test_multiclass==1).sum()}, 5: {(Y_test_multiclass==5).sum()}, 7: {(Y_test_multiclass==7).sum()}, 9: {(Y_test_multiclass==9).sum()}')"
      ],
      "outputs": [
        {
          "output_type": "stream",
          "name": "stdout",
          "text": [
            "Trainset shapes - X: (24377, 784), Y: (24377,)\n",
            "Testset shapes - X: (4064, 784), Y: (4064,)\n",
            "\n",
            "Train statistics - 1: 6742, 5: 5421, 7: 6265, 9: 5949\n",
            "Test statistics - 1: 1135, 5: 892, 7: 1028, 9: 1009\n"
          ]
        }
      ],
      "metadata": {
        "colab": {
          "base_uri": "https://localhost:8080/"
        },
        "id": "cjGEzlGk8Pzn",
        "outputId": "0ab98d69-e45e-48ab-a951-d0a3808c5920"
      }
    },
    {
      "cell_type": "code",
      "execution_count": null,
      "source": [
        "# Setting label correct labels for multi class classification\r\n",
        "\r\n",
        "Y_train_multiclass[Y_train_multiclass==1] = 0 \r\n",
        "Y_test_multiclass[Y_test_multiclass==1] = 0 \r\n",
        "\r\n",
        "Y_train_multiclass[Y_train_multiclass==5] = 1 \r\n",
        "Y_test_multiclass[Y_test_multiclass==5] = 1 \r\n",
        "\r\n",
        "Y_train_multiclass[Y_train_multiclass==7] = 2 \r\n",
        "Y_test_multiclass[Y_test_multiclass==7] = 2 \r\n",
        "\r\n",
        "Y_train_multiclass[Y_train_multiclass==9] = 3 \r\n",
        "Y_test_multiclass[Y_test_multiclass==9] = 3 "
      ],
      "outputs": [],
      "metadata": {
        "id": "7RGQXyMwLtX6"
      }
    },
    {
      "cell_type": "code",
      "execution_count": null,
      "source": [
        "X_train_multiclass, X_val_multiclass, Y_train_multiclass, Y_val_multiclass = train_test_split(X_train_multiclass, Y_train_multiclass, test_size=0.2, random_state = 1)"
      ],
      "outputs": [],
      "metadata": {
        "id": "_sAaro0xAP8X"
      }
    },
    {
      "cell_type": "code",
      "execution_count": null,
      "source": [
        "print(f'Trainset shapes - X: {X_train_multiclass.shape}, Y: {Y_train_multiclass.shape}')\r\n",
        "print(f'Valset shapes - X: {X_val_multiclass.shape}, Y: {Y_val_multiclass.shape}')\r\n",
        "\r\n",
        "print(f'\\nTrain statistics - 1: {(Y_train_multiclass==0).sum()}, 5: {(Y_train_multiclass==1).sum()}, 7: {(Y_train_multiclass==2).sum()}, 9: {(Y_train_multiclass==3).sum()}')\r\n",
        "print(f'Val statistics - 1: {(Y_val_multiclass==0).sum()}, 5: {(Y_val_multiclass==1).sum()}, 7: {(Y_val_multiclass==2).sum()}, 9: {(Y_val_multiclass==3).sum()}')"
      ],
      "outputs": [
        {
          "output_type": "stream",
          "name": "stdout",
          "text": [
            "Trainset shapes - X: (19501, 784), Y: (19501,)\n",
            "Valset shapes - X: (4876, 784), Y: (4876,)\n",
            "\n",
            "Train statistics - 1: 5353, 5: 4384, 7: 5002, 9: 4762\n",
            "Val statistics - 1: 1389, 5: 1037, 7: 1263, 9: 1187\n"
          ]
        }
      ],
      "metadata": {
        "colab": {
          "base_uri": "https://localhost:8080/"
        },
        "id": "JLTugI_oAP8X",
        "outputId": "dff22a36-c1e2-4d68-c1b1-822f221b200e"
      }
    },
    {
      "cell_type": "code",
      "execution_count": null,
      "source": [
        "# Traspose feature matrices as per our model requirement\r\n",
        "\r\n",
        "X_train_multiclass, X_val_multiclass, X_test_multiclass = X_train_multiclass.T, X_val_multiclass.T, X_test_multiclass.T\r\n",
        "print(f'Shapes - {X_train_multiclass.shape, X_val_multiclass.shape, X_test_multiclass.shape}')"
      ],
      "outputs": [
        {
          "output_type": "stream",
          "name": "stdout",
          "text": [
            "Shapes - ((784, 19501), (784, 4876), (784, 4064))\n"
          ]
        }
      ],
      "metadata": {
        "colab": {
          "base_uri": "https://localhost:8080/"
        },
        "id": "hBl-CbaVAP8X",
        "outputId": "e0946cdc-ef9f-4954-d31f-d46f5cd39d1b"
      }
    },
    {
      "cell_type": "code",
      "execution_count": null,
      "source": [
        "# Creating model instance\r\n",
        "\r\n",
        "D_in, H1, H2, D_out = 784, 200, 100, 4 # As there are 4 classes\r\n",
        "neurons = [D_in, H1, H2, D_out]\r\n",
        "activation_functions = ['sigmoid','sigmoid','softmax'] # activations in each layer (Note: the input layer does not have any activation)\r\n",
        "nn_multiclass = Neural_Network(neurons, activation_functions)\r\n",
        "losses = nn_multiclass.train(X_train_multiclass, Y_train_multiclass, batch_size=10, lr=1e-2, max_epochs=100, n_classes = 4,\r\n",
        "                             onehotencoded=True, loss_func='CE', Xval = X_val_multiclass, Yval = Y_val_multiclass)"
      ],
      "outputs": [
        {
          "output_type": "stream",
          "name": "stdout",
          "text": [
            "Epoch 5..............Loss on train = 0.19872723105389653, Loss on val = 0.2586517458101861\n",
            "Epoch 10..............Loss on train = 0.14157001945268868, Loss on val = 0.2081694474407669\n",
            "Epoch 15..............Loss on train = 0.11244442914029225, Loss on val = 0.18834962853430576\n",
            "Epoch 20..............Loss on train = 0.09464269015400432, Loss on val = 0.17738348893405562\n",
            "Epoch 25..............Loss on train = 0.08125909045320052, Loss on val = 0.16742972181942098\n",
            "Epoch 30..............Loss on train = 0.07278057628506081, Loss on val = 0.16460035991492197\n",
            "Epoch 35..............Loss on train = 0.06320198523634658, Loss on val = 0.15537610965656218\n",
            "Epoch 40..............Loss on train = 0.05693379479746201, Loss on val = 0.15438683800232972\n",
            "Epoch 45..............Loss on train = 0.05071865271918986, Loss on val = 0.14908594305474077\n",
            "Epoch 50..............Loss on train = 0.04580163466924893, Loss on val = 0.14618085126558603\n",
            "Epoch 55..............Loss on train = 0.041814124240274385, Loss on val = 0.14386746417603916\n",
            "Epoch 60..............Loss on train = 0.03799347817879768, Loss on val = 0.14138546098223764\n",
            "Epoch 65..............Loss on train = 0.034656809698824065, Loss on val = 0.13956245486254454\n",
            "Epoch 70..............Loss on train = 0.03164992142340417, Loss on val = 0.1386871123384092\n",
            "Epoch 75..............Loss on train = 0.02904368134916974, Loss on val = 0.13759378733960317\n",
            "Epoch 80..............Loss on train = 0.026881649696435726, Loss on val = 0.13563648877758058\n",
            "Epoch 85..............Loss on train = 0.024819651457740295, Loss on val = 0.1373223359805792\n",
            "Epoch 90..............Loss on train = 0.022807726080663962, Loss on val = 0.13646634166491647\n",
            "Epoch 95..............Loss on train = 0.020904835365243107, Loss on val = 0.13496641578718716\n",
            "Epoch 100..............Loss on train = 0.019546523761489226, Loss on val = 0.13588130650361427\n",
            "Reached Epoch Cap without convergence....Terminating\n"
          ]
        },
        {
          "output_type": "display_data",
          "data": {
            "image/png": "[encoded data removed]",
            "text/plain": [
              "<Figure size 432x288 with 1 Axes>"
            ]
          },
          "metadata": {}
        }
      ],
      "metadata": {
        "colab": {
          "background_save": true,
          "base_uri": "https://localhost:8080/"
        },
        "id": "yTqODo1bFsK6",
        "outputId": "14cabf3a-84a6-460a-95c5-c8e1f59a921b"
      }
    },
    {
      "cell_type": "code",
      "execution_count": null,
      "source": [
        "# checking first 10 predictions\r\n",
        "\r\n",
        "print(\"First 10 outputs:\", Y_test_multiclass[:10])\r\n",
        "preds = nn_multiclass.predict(X_test_multiclass[:, :10])\r\n",
        "print(\"First 10 predictions:\", preds)"
      ],
      "outputs": [
        {
          "output_type": "stream",
          "name": "stdout",
          "text": [
            "First 10 outputs: [2 0 0 3 1 3 3 0 1 3]\n",
            "First 10 predictions: [2 0 0 3 1 3 3 0 1 3]\n"
          ]
        }
      ],
      "metadata": {
        "colab": {
          "background_save": true
        },
        "id": "b71-QzasFsK7",
        "outputId": "881eb572-295d-46f4-8545-23320b696d67"
      }
    },
    {
      "cell_type": "markdown",
      "source": [
        "##Model accuracy:\n"
      ],
      "metadata": {
        "id": "XeODlqxumelo"
      }
    },
    {
      "cell_type": "code",
      "execution_count": null,
      "source": [
        "Y_pred_multiclass = nn_multiclass.predict(X_test_multiclass)\r\n",
        "multiclass_score = (Y_pred_multiclass == Y_test_multiclass).mean()\r\n",
        "print(\"Model accuracy =\", round(multiclass_score*100,2),\"%\")"
      ],
      "outputs": [
        {
          "output_type": "stream",
          "name": "stdout",
          "text": [
            "Model accuracy = 96.85 %\n"
          ]
        }
      ],
      "metadata": {
        "colab": {
          "background_save": true
        },
        "id": "2YQWJ1FFFsK9",
        "outputId": "e47f3f11-29ab-4bdd-9aec-2298352d81c4"
      }
    },
    {
      "cell_type": "markdown",
      "source": [
        "##Confusion matrix:"
      ],
      "metadata": {
        "id": "CuqKDpwjmhZi"
      }
    },
    {
      "cell_type": "code",
      "execution_count": null,
      "source": [
        "matrix_multiclass = confusion_matrix(Y_test_multiclass, Y_pred_multiclass)\r\n",
        "ConfusionMatrixDisplay(matrix_multiclass, [1,5,9,7]).plot(cmap=\"Blues\", values_format='')\r\n",
        "plt.show()\r\n",
        "print(\"\\nLabel totals in dataset:\\n\", list(zip([1,5,9,7], np.sum(matrix_multiclass, axis=-1))))"
      ],
      "outputs": [
        {
          "output_type": "display_data",
          "data": {
            "image/png": "[encoded data removed]",
            "text/plain": [
              "<Figure size 432x288 with 2 Axes>"
            ]
          },
          "metadata": {}
        },
        {
          "output_type": "stream",
          "name": "stdout",
          "text": [
            "\n",
            "Label totals in dataset:\n",
            " [(1, 1135), (5, 892), (9, 1028), (7, 1009)]\n"
          ]
        }
      ],
      "metadata": {
        "colab": {
          "background_save": true
        },
        "id": "UizUqH9_jgGL",
        "outputId": "a28c43de-b22d-4ae9-cc4d-05fb3774f259"
      }
    },
    {
      "cell_type": "markdown",
      "source": [
        "<br> <br> <br> <br> \n",
        "\n",
        "### Learning Rate Schedulers"
      ],
      "metadata": {
        "id": "LUfSNE080L_j"
      }
    },
    {
      "cell_type": "code",
      "execution_count": null,
      "source": [
        "# Example schedulers\r\n",
        "\r\n",
        "def s1(epoch):\r\n",
        "    return 1/(epoch+1)\r\n",
        "\r\n",
        "def timebased(epoch, initial_lr=0.1, decay=0.1):\r\n",
        "    return initial_lr/(1+decay*epoch)\r\n",
        "\r\n",
        "def dropbased(epoch, initial_lr=0.1, epoch_drop=10, drop_rate=0.5):\r\n",
        "    return initial_lr* drop_rate**(epoch//epoch_drop)\r\n",
        "    \r\n",
        "def exponential(epoch, initial_lr=0.1, k=0.1):\r\n",
        "    return initial_lr*np.exp(-k*epoch)\r\n",
        "\r\n",
        "example_schedulers = {'s1': s1, 'timebased': timebased, 'dropbased': dropbased, 'exponential': exponential}\r\n",
        "\r\n",
        "# example_schedulers = {\r\n",
        "#     's1': lambda epoch: (1/(epoch+1)),\r\n",
        "#     'timebased': lambda epoch, initial_lr=0.1, decay=0.1: (initial_lr/(1+decay*epoch)),\r\n",
        "#     'dropbased': lambda epoch, initial_lr=0.1, epoch_drop=10, drop_rate=0.5: (initial_lr* drop_rate**(epoch//epoch_drop)),\r\n",
        "#     'exponential': lambda epoch, initial_lr=0.1, k=0.1: (initial_lr*np.exp(-k*epoch)),\r\n",
        "# }"
      ],
      "outputs": [],
      "metadata": {
        "colab": {
          "background_save": true
        },
        "id": "ZI6o3qR5vE1u"
      }
    },
    {
      "cell_type": "code",
      "execution_count": null,
      "source": [
        "for k, schedule in example_schedulers.items():\r\n",
        "  x = np.arange(0, 101)\r\n",
        "  y = np.vectorize(schedule)(x)\r\n",
        "  plt.plot(x, y, label=k)\r\n",
        "\r\n",
        "plt.legend()\r\n",
        "plt.show()"
      ],
      "outputs": [
        {
          "output_type": "display_data",
          "data": {
            "image/png": "[encoded data removed]",
            "text/plain": [
              "<Figure size 432x288 with 1 Axes>"
            ]
          },
          "metadata": {}
        }
      ],
      "metadata": {
        "colab": {
          "background_save": true
        },
        "id": "BgdWLUsJvVzi",
        "outputId": "9dbe7c27-2fea-4d8d-e0a1-cb6bc087bacd"
      }
    },
    {
      "cell_type": "code",
      "execution_count": null,
      "source": [
        "# Just last three\r\n",
        "\r\n",
        "for k, schedule in list(example_schedulers.items())[1:]:\r\n",
        "  x = np.arange(0, 101)\r\n",
        "  y = np.vectorize(schedule)(x)\r\n",
        "  plt.plot(x, y, label=k)\r\n",
        "\r\n",
        "plt.legend()\r\n",
        "plt.show()"
      ],
      "outputs": [
        {
          "output_type": "display_data",
          "data": {
            "image/png": "[encoded data removed]",
            "text/plain": [
              "<Figure size 432x288 with 1 Axes>"
            ]
          },
          "metadata": {}
        }
      ],
      "metadata": {
        "colab": {
          "background_save": true
        },
        "id": "OSi3AFkvvgEe",
        "outputId": "5e1e6ba6-a145-4ec9-b345-3766230fa465"
      }
    },
    {
      "cell_type": "code",
      "execution_count": null,
      "source": [
        "def get_lr(lr):\r\n",
        "  if isinstance(lr, (float, int)): # constant lr arg is passed to train\r\n",
        "    return lambda x: lr # we return a function object which returns the same lr at every epoch\r\n",
        "  elif callable(lr): # function lr arg is passed to train\r\n",
        "    return lr # the function is then used to get lr for a particular epoch\r\n",
        "  else:\r\n",
        "    raise ValueError('param lr can only be a number or a scheduler function')\r\n",
        "    \r\n",
        "print(get_lr(1e-3)(5))\r\n",
        "for k, schedule in example_schedulers.items():\r\n",
        "  print(f'Scheduler {k}: lr = {get_lr(schedule)(5)} for 5th epoch')"
      ],
      "outputs": [
        {
          "output_type": "stream",
          "name": "stdout",
          "text": [
            "0.001\n",
            "Scheduler s1: lr = 0.16666666666666666 for 5th epoch\n",
            "Scheduler timebased: lr = 0.06666666666666667 for 5th epoch\n",
            "Scheduler dropbased: lr = 0.1 for 5th epoch\n",
            "Scheduler exponential: lr = 0.06065306597126335 for 5th epoch\n"
          ]
        }
      ],
      "metadata": {
        "colab": {
          "background_save": true
        },
        "id": "lDz3W6OQwRRO",
        "outputId": "b3ab2b2b-f7cf-4417-c260-9b6bb40c98e0"
      }
    },
    {
      "cell_type": "code",
      "execution_count": null,
      "source": [
        "D_in, H1, H2, D_out = 784, 200, 100, 1 #You can add more layers or more outputs if you wish. \r\n",
        "\r\n",
        "neurons = [D_in, H1, H2, D_out] # list of number of neurons in the layers sequentially.\r\n",
        "activation_functions = ['relu','relu','sigmoid'] # activations in each layer (Note: the input layer does not have any activation)\r\n",
        "nn_bin2 = Neural_Network(neurons, activation_functions) # There we go, creating our neural network.\r\n",
        "losses = nn_bin2.train(X_train_bin, Y_train_bin, batch_size=10, lr=example_schedulers['timebased'],\r\n",
        "                      max_epochs=50, Xval = X_val_bin, Yval = Y_val_bin)"
      ],
      "outputs": [
        {
          "output_type": "stream",
          "name": "stderr",
          "text": [
            "/usr/local/lib/python3.7/dist-packages/ipykernel_launcher.py:32: RuntimeWarning: overflow encountered in exp\n"
          ]
        },
        {
          "output_type": "stream",
          "name": "stdout",
          "text": [
            "Epoch 5..............Loss on train = 0.010471404085629906, Loss on val = 0.010758421895397318\n",
            "Epoch 10..............Loss on train = 0.008715380419610647, Loss on val = 0.009341234274035451\n",
            "Epoch 15..............Loss on train = 0.010346272563243374, Loss on val = 0.010764035457756468\n",
            "Epoch 20..............Loss on train = 0.009592870529917646, Loss on val = 0.010964631612692477\n",
            "Epoch 25..............Loss on train = 0.007273586169794938, Loss on val = 0.006119583181806939\n",
            "Epoch 30..............Loss on train = 0.006492821147202858, Loss on val = 0.007814559237052739\n",
            "Early Stopping .............. Returning best weights\n"
          ]
        },
        {
          "output_type": "display_data",
          "data": {
            "image/png": "[encoded data removed]",
            "text/plain": [
              "<Figure size 432x288 with 1 Axes>"
            ]
          },
          "metadata": {
            "needs_background": "light"
          }
        }
      ],
      "metadata": {
        "colab": {
          "base_uri": "https://localhost:8080/",
          "height": 434
        },
        "id": "0gkBWy6e2KNP",
        "outputId": "27c1642a-56d5-4834-c2a9-cb016a147408"
      }
    },
    {
      "cell_type": "code",
      "execution_count": null,
      "source": [
        "# Testing\r\n",
        "\r\n",
        "Y_pred_bin2 = nn_bin2.predict(X_test_bin)\r\n",
        "bin2_score = (Y_pred_bin2 == Y_test_bin).mean()\r\n",
        "print(\"Model accuracy =\", round(bin2_score*100,2),\"%\")"
      ],
      "outputs": [
        {
          "output_type": "stream",
          "name": "stdout",
          "text": [
            "Model accuracy = 98.4 %\n"
          ]
        },
        {
          "output_type": "stream",
          "name": "stderr",
          "text": [
            "/usr/local/lib/python3.7/dist-packages/ipykernel_launcher.py:32: RuntimeWarning: overflow encountered in exp\n"
          ]
        }
      ],
      "metadata": {
        "colab": {
          "base_uri": "https://localhost:8080/"
        },
        "id": "Ogn7x_lL5TLz",
        "outputId": "137fc07d-4171-4c88-955b-25759be1dfcf"
      }
    }
  ]
}