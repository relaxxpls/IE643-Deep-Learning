{
 "cells": [
  {
   "cell_type": "code",
   "execution_count": 2,
   "source": [
    "import torch\r\n",
    "from torch import nn, optim\r\n",
    "from torch.autograd import Variable\r\n",
    "from torchvision import datasets, transforms\r\n",
    "import matplotlib.pyplot as plt\r\n"
   ],
   "outputs": [],
   "metadata": {}
  },
  {
   "cell_type": "code",
   "execution_count": 3,
   "source": [
    "device = torch.device('cuda' if torch.cuda.is_available() else 'cpu')\r\n",
    "print(\"Using: \", device)\r\n"
   ],
   "outputs": [
    {
     "output_type": "stream",
     "name": "stdout",
     "text": [
      "Using:  cuda\n"
     ]
    }
   ],
   "metadata": {}
  },
  {
   "cell_type": "code",
   "execution_count": 4,
   "source": [
    "train_dataset = datasets.MNIST(\r\n",
    "    root=\"./data\", train=True, transform=transforms.ToTensor(), download=True\r\n",
    ")\r\n",
    "print(train_dataset)\r\n",
    "\r\n",
    "test_dataset = datasets.MNIST(\r\n",
    "    root=\"./data\", train=False, transform=transforms.ToTensor()\r\n",
    ")\r\n",
    "print(test_dataset)\r\n",
    "\r\n",
    "batch_size = 100\r\n",
    "n_epochs = 20\r\n"
   ],
   "outputs": [
    {
     "output_type": "stream",
     "name": "stderr",
     "text": [
      "C:\\Python39\\lib\\site-packages\\torchvision\\datasets\\mnist.py:498: UserWarning: The given NumPy array is not writeable, and PyTorch does not support non-writeable tensors. This means you can write to the underlying (supposedly non-writeable) NumPy array using the tensor. You may want to copy the array to protect its data or make it writeable before converting it to a tensor. This type of warning will be suppressed for the rest of this program. (Triggered internally at  ..\\torch\\csrc\\utils\\tensor_numpy.cpp:180.)\n",
      "  return torch.from_numpy(parsed.astype(m[2], copy=False)).view(*s)\n"
     ]
    }
   ],
   "metadata": {}
  },
  {
   "cell_type": "code",
   "execution_count": 5,
   "source": [
    "train_loader = torch.utils.data.DataLoader(\r\n",
    "    dataset=train_dataset, batch_size=batch_size, shuffle=True\r\n",
    ")\r\n",
    "\r\n",
    "# valid_loader = torch.utils.data.DataLoader(\r\n",
    "#     dataset=valid_dataset, batch_size=batch_size, shuffle=False\r\n",
    "# )\r\n",
    "\r\n",
    "test_loader = torch.utils.data.DataLoader(\r\n",
    "    dataset=test_dataset, batch_size=batch_size, shuffle=False\r\n",
    ")\r\n"
   ],
   "outputs": [],
   "metadata": {}
  },
  {
   "cell_type": "markdown",
   "source": [
    "# RNN Model"
   ],
   "metadata": {}
  },
  {
   "cell_type": "code",
   "execution_count": 64,
   "source": [
    "class RNNModel(nn.Module):\r\n",
    "    def __init__(self, input_dim, hidden_dim, output_dim, n_layers):\r\n",
    "        super().__init__()\r\n",
    "\r\n",
    "        # ? Hidden layer dimentions\r\n",
    "        self.hidden_dim = hidden_dim\r\n",
    "        self.n_layers = n_layers\r\n",
    "\r\n",
    "        # ? shape: (batch, seq, feature)\r\n",
    "        self.rnn = nn.RNN(input_dim, hidden_dim, n_layers, batch_first=True)\r\n",
    "\r\n",
    "        # ? Readout layer\r\n",
    "        self.fc = nn.Linear(hidden_dim, output_dim)\r\n",
    "\r\n",
    "    def forward(self, x):\r\n",
    "        # ? x shape: (batch_size, seq_len, input_size)\r\n",
    "        # ? h0 shape: (n_layers, batch_size, hidden_dim)\r\n",
    "        h0 = Variable(torch.zeros(self.n_layers, x.size(0), self.hidden_dim))\r\n",
    "        h0 = h0.to(device)\r\n",
    "\r\n",
    "        # ? out shape: (seq_len, batch_size, hidden_dim) => (64, 28, 100)\r\n",
    "        # ? hn shape: (n_layers * num_directions, batch_size, hidden_dim)\r\n",
    "        out, hn = self.rnn(x, h0)\r\n",
    "        out = self.fc(out[:, -1, :])\r\n",
    "\r\n",
    "        return out\r\n"
   ],
   "outputs": [],
   "metadata": {}
  },
  {
   "cell_type": "markdown",
   "source": [
    "# LSTM Model"
   ],
   "metadata": {}
  },
  {
   "cell_type": "code",
   "execution_count": 6,
   "source": [
    "class LSTMModel(nn.Module):\r\n",
    "    def __init__(self, input_dim, hidden_dim, output_dim, n_layers):\r\n",
    "        super().__init__()\r\n",
    "\r\n",
    "        self.hidden_dim = hidden_dim\r\n",
    "        self.n_layers = n_layers\r\n",
    "\r\n",
    "        self.lstm = nn.LSTM(input_dim, hidden_dim, n_layers, batch_first=True)\r\n",
    "        self.fc = nn.Linear(hidden_dim, output_dim)\r\n",
    "\r\n",
    "    def forward(self, x):\r\n",
    "        h0 = Variable(torch.zeros(self.n_layers, x.size(0), self.hidden_dim))\r\n",
    "        c0 = Variable(torch.zeros(self.n_layers, x.size(0), self.hidden_dim))\r\n",
    "        h0, c0 = h0.to(device), c0.to(device)\r\n",
    "\r\n",
    "        out, (hn, cn) = self.lstm(x, (h0, c0))\r\n",
    "        out = self.fc(out[:, -1, :])\r\n",
    "\r\n",
    "        return out\r\n"
   ],
   "outputs": [],
   "metadata": {}
  },
  {
   "cell_type": "markdown",
   "source": [
    "# GRU Model"
   ],
   "metadata": {}
  },
  {
   "cell_type": "code",
   "execution_count": 54,
   "source": [
    "class GRUModel(nn.Module):\r\n",
    "    def __init__(self, input_dim, hidden_dim, output_dim, n_layers, dropout=0.2):\r\n",
    "        super().__init__()\r\n",
    "\r\n",
    "        self.hidden_dim = hidden_dim\r\n",
    "        self.n_layers = n_layers\r\n",
    "\r\n",
    "        self.gru = nn.GRU(input_dim, hidden_dim, n_layers, batch_first=True)\r\n",
    "        self.fc = nn.Linear(hidden_dim, output_dim)\r\n",
    "\r\n",
    "    def forward(self, x):\r\n",
    "        h0 = Variable(torch.zeros(self.n_layers, x.size(0), self.hidden_dim))\r\n",
    "        h0 = h0.to(device)\r\n",
    "\r\n",
    "        out, hn = self.gru(x, h0)\r\n",
    "        out = self.fc(out[:, -1, :])\r\n",
    "\r\n",
    "        return out\r\n"
   ],
   "outputs": [],
   "metadata": {}
  },
  {
   "cell_type": "markdown",
   "source": [
    "# coRNN Model"
   ],
   "metadata": {}
  },
  {
   "cell_type": "code",
   "execution_count": 60,
   "source": [
    "class coRNNCell(nn.Module):\r\n",
    "    def __init__(self, input_dim, hidden_dim, dt, gamma, epsilon):\r\n",
    "        super().__init__()\r\n",
    "\r\n",
    "        self.dt = dt\r\n",
    "        self.gamma = gamma\r\n",
    "        self.epsilon = epsilon\r\n",
    "\r\n",
    "        self.i2h = nn.Linear(input_dim + hidden_dim + hidden_dim, hidden_dim)\r\n",
    "\r\n",
    "    def forward(self, x, hy, hz):\r\n",
    "        x, hy, hz = x.to(device), hy.to(device), hz.to(device)\r\n",
    "        \r\n",
    "        combined_layer = torch.cat((x, hz, hy), 1)\r\n",
    "        hz = hz + self.dt * (\r\n",
    "            torch.tanh(self.i2h(combined_layer)) - self.gamma * hy - self.epsilon * hz\r\n",
    "        )\r\n",
    "        hy = hy + self.dt * hz\r\n",
    "\r\n",
    "        return hy, hz\r\n",
    "\r\n",
    "\r\n",
    "class coRNNModel(nn.Module):\r\n",
    "    def __init__(self, input_dim, hidden_dim, output_dim, n_layers, dt, gamma, epsilon):\r\n",
    "        super().__init__()\r\n",
    "\r\n",
    "        self.hidden_dim = hidden_dim\r\n",
    "        self.n_layer = n_layers\r\n",
    "\r\n",
    "        self.cornn = coRNNCell(input_dim, hidden_dim, dt, gamma, epsilon)\r\n",
    "        self.fc = nn.Linear(hidden_dim, output_dim)\r\n",
    "\r\n",
    "    def forward(self, x):\r\n",
    "        hy = Variable(torch.zeros(x.size(0), self.hidden_dim))\r\n",
    "        hz = Variable(torch.zeros(x.size(0), self.hidden_dim))\r\n",
    "        hy, hz = hy.to(device), hz.to(device)\r\n",
    "\r\n",
    "        for t in range(x.size(1)):\r\n",
    "            hy, hz = self.cornn(x[:, t, :], hy, hz)\r\n",
    "\r\n",
    "        out = self.fc(hy)\r\n",
    "\r\n",
    "        return out\r\n"
   ],
   "outputs": [],
   "metadata": {}
  },
  {
   "cell_type": "code",
   "execution_count": 9,
   "source": [
    "input_dim = 28\r\n",
    "hidden_dim = 100\r\n",
    "output_dim = 10\r\n",
    "n_layers = 3\r\n",
    "\r\n",
    "seq_dim = 28\r\n"
   ],
   "outputs": [],
   "metadata": {}
  },
  {
   "cell_type": "code",
   "execution_count": 43,
   "source": [
    "def train(model, train_loader, optimizer, criterion):\r\n",
    "    model.train()\r\n",
    "    total_loss = 0\r\n",
    "\r\n",
    "    for images, labels in train_loader:\r\n",
    "        images = images.view(-1, seq_dim, input_dim)\r\n",
    "        images, labels = images.to(device), labels.to(device)\r\n",
    "\r\n",
    "        optimizer.zero_grad()\r\n",
    "\r\n",
    "        # ? Forward pass\r\n",
    "        # * outputs size = (100, 10)\r\n",
    "        outputs = model(images)\r\n",
    "        loss = criterion(outputs, labels)\r\n",
    "\r\n",
    "        # ? Backward and optimize\r\n",
    "        loss.backward()\r\n",
    "        optimizer.step()\r\n",
    "\r\n",
    "        total_loss += loss.item()\r\n",
    "\r\n",
    "    return total_loss/len(train_loader)\r\n",
    "\r\n",
    "\r\n",
    "def validate(model, valid_loader):\r\n",
    "    model.eval()\r\n",
    "    correct, total = 0, 0\r\n",
    "\r\n",
    "    for images, labels in valid_loader:\r\n",
    "        images = images.view(-1, seq_dim, input_dim).to(device)\r\n",
    "\r\n",
    "        outputs = model(images)\r\n",
    "\r\n",
    "        # Get predictions from the maximum value\r\n",
    "        _, predicted = torch.max(outputs.data, 1)\r\n",
    "\r\n",
    "        total += labels.size(0)\r\n",
    "        correct += (predicted.cpu() == labels.cpu()).sum()\r\n",
    "\r\n",
    "    accuracy = 100 * correct / total\r\n",
    "    \r\n",
    "    return accuracy\r\n",
    "\r\n",
    "def predict(model, image):\r\n",
    "    model.eval()\r\n",
    "    outputs = model(image)\r\n",
    "    _, predicted = torch.max(outputs.data, 1)\r\n",
    "\r\n",
    "    return predicted\r\n"
   ],
   "outputs": [],
   "metadata": {}
  },
  {
   "cell_type": "markdown",
   "source": [
    "# Training RNN"
   ],
   "metadata": {}
  },
  {
   "cell_type": "code",
   "execution_count": 66,
   "source": [
    "rnn_model = RNNModel(input_dim, hidden_dim, output_dim, n_layers)\r\n",
    "rnn_model.to(device)\r\n",
    "\r\n",
    "criterion = nn.CrossEntropyLoss()\r\n",
    "\r\n",
    "learning_rate = 0.1\r\n",
    "optimizer = optim.SGD(rnn_model.parameters(), lr=learning_rate)  \r\n",
    "# optimizer = optim.Adam(model.parameters(), lr=learning_rate)\r\n"
   ],
   "outputs": [],
   "metadata": {}
  },
  {
   "cell_type": "code",
   "execution_count": 67,
   "source": [
    "rnn_valid_accuracy = []\r\n",
    "rnn_train_loss = []\r\n",
    "\r\n",
    "for epoch in range(n_epochs):\r\n",
    "    loss = train(rnn_model, train_loader, optimizer, criterion)\r\n",
    "    rnn_train_loss.append(loss)\r\n",
    "\r\n",
    "    accuracy = validate(rnn_model, test_loader)\r\n",
    "    rnn_valid_accuracy.append(accuracy)\r\n",
    "\r\n",
    "    print(f\"epoch: {epoch+1}, training-loss: {loss}, validation-accuracy: {accuracy}\")\r\n"
   ],
   "outputs": [
    {
     "output_type": "stream",
     "name": "stdout",
     "text": [
      "epoch: 1, training-loss: 1.0073960847159227, validation-accuracy: 87.87000274658203\n",
      "epoch: 2, training-loss: 0.3928817892447114, validation-accuracy: 93.02999877929688\n",
      "epoch: 3, training-loss: 0.22702359613652032, validation-accuracy: 95.41000366210938\n",
      "epoch: 4, training-loss: 0.18066476112852495, validation-accuracy: 95.41000366210938\n",
      "epoch: 5, training-loss: 0.14883647488740584, validation-accuracy: 96.0199966430664\n",
      "epoch: 6, training-loss: 0.11993418326135724, validation-accuracy: 97.06999969482422\n",
      "epoch: 7, training-loss: 0.10349659633046637, validation-accuracy: 96.8499984741211\n",
      "epoch: 8, training-loss: 0.09791822106267015, validation-accuracy: 97.48999786376953\n",
      "epoch: 9, training-loss: 0.08511939519861092, validation-accuracy: 97.73999786376953\n",
      "epoch: 10, training-loss: 0.08340918095239128, validation-accuracy: 97.55000305175781\n",
      "epoch: 11, training-loss: 0.0738005598859551, validation-accuracy: 97.80999755859375\n",
      "epoch: 12, training-loss: 0.06654157261596992, validation-accuracy: 97.93000030517578\n",
      "epoch: 13, training-loss: 0.0659651324021009, validation-accuracy: 98.19999694824219\n",
      "epoch: 14, training-loss: 0.0604573665264373, validation-accuracy: 96.62999725341797\n",
      "epoch: 15, training-loss: 0.05975620320493666, validation-accuracy: 98.02999877929688\n",
      "epoch: 16, training-loss: 0.05190993210844075, validation-accuracy: 97.87999725341797\n",
      "epoch: 17, training-loss: 0.05750625417839425, validation-accuracy: 98.43000030517578\n",
      "epoch: 18, training-loss: 0.04535902529644469, validation-accuracy: 97.69999694824219\n",
      "epoch: 19, training-loss: 0.045892860535144187, validation-accuracy: 98.30999755859375\n",
      "epoch: 20, training-loss: 0.04449953214886288, validation-accuracy: 98.20999908447266\n"
     ]
    }
   ],
   "metadata": {}
  },
  {
   "cell_type": "markdown",
   "source": [
    "# Training LSTM"
   ],
   "metadata": {}
  },
  {
   "cell_type": "code",
   "execution_count": 17,
   "source": [
    "lstm_model = LSTMModel(input_dim, hidden_dim, output_dim, n_layers)\r\n",
    "lstm_model.to(device)\r\n",
    "\r\n",
    "criterion = nn.CrossEntropyLoss()\r\n",
    "\r\n",
    "learning_rate = 0.1\r\n",
    "optimizer = optim.SGD(lstm_model.parameters(), lr=learning_rate)  \r\n"
   ],
   "outputs": [],
   "metadata": {}
  },
  {
   "cell_type": "code",
   "execution_count": 18,
   "source": [
    "lstm_valid_accuracy = []\r\n",
    "lstm_train_loss = []\r\n",
    "\r\n",
    "for epoch in range(n_epochs):\r\n",
    "    loss = train(lstm_model, train_loader, optimizer, criterion)\r\n",
    "    lstm_train_loss.append(loss)\r\n",
    "\r\n",
    "    accuracy = validate(lstm_model, test_loader)\r\n",
    "    lstm_valid_accuracy.append(accuracy)\r\n",
    "\r\n",
    "    print(f\"epoch: {epoch+1}, training-loss: {loss}, validation-accuracy: {accuracy}\")\r\n"
   ],
   "outputs": [
    {
     "output_type": "stream",
     "name": "stdout",
     "text": [
      "epoch: 1, training-loss: 2.3013438113530476, validation-accuracy: 11.350000381469727\n",
      "epoch: 2, training-loss: 2.2997544721762337, validation-accuracy: 11.350000381469727\n",
      "epoch: 3, training-loss: 2.291958270867666, validation-accuracy: 23.68000030517578\n",
      "epoch: 4, training-loss: 1.556946602165699, validation-accuracy: 71.62999725341797\n",
      "epoch: 5, training-loss: 0.5888550641139348, validation-accuracy: 89.19000244140625\n",
      "epoch: 6, training-loss: 0.29293683572361867, validation-accuracy: 93.77999877929688\n",
      "epoch: 7, training-loss: 0.18183116805429259, validation-accuracy: 95.63999938964844\n",
      "epoch: 8, training-loss: 0.14183121002124002, validation-accuracy: 95.97000122070312\n",
      "epoch: 9, training-loss: 0.11391151280763248, validation-accuracy: 96.77999877929688\n",
      "epoch: 10, training-loss: 0.09769660762976855, validation-accuracy: 97.08999633789062\n",
      "epoch: 11, training-loss: 0.08393469657128055, validation-accuracy: 97.4800033569336\n",
      "epoch: 12, training-loss: 0.0737841555227836, validation-accuracy: 97.79000091552734\n",
      "epoch: 13, training-loss: 0.06633277282662069, validation-accuracy: 97.81999969482422\n",
      "epoch: 14, training-loss: 0.059564275646892685, validation-accuracy: 97.9800033569336\n",
      "epoch: 15, training-loss: 0.05405438984472615, validation-accuracy: 97.98999786376953\n",
      "epoch: 16, training-loss: 0.04849293533906651, validation-accuracy: 97.94000244140625\n",
      "epoch: 17, training-loss: 0.045580831052114565, validation-accuracy: 98.38999938964844\n",
      "epoch: 18, training-loss: 0.04236788298236206, validation-accuracy: 98.37000274658203\n",
      "epoch: 19, training-loss: 0.03763106640602928, validation-accuracy: 98.44000244140625\n",
      "epoch: 20, training-loss: 0.036278708350728266, validation-accuracy: 98.29000091552734\n"
     ]
    }
   ],
   "metadata": {}
  },
  {
   "cell_type": "markdown",
   "source": [
    "# Training GRU"
   ],
   "metadata": {}
  },
  {
   "cell_type": "code",
   "execution_count": 41,
   "source": [
    "gru_model = GRUModel(input_dim, hidden_dim, output_dim, n_layers)\r\n",
    "gru_model.to(device)\r\n",
    "\r\n",
    "criterion = nn.CrossEntropyLoss()\r\n",
    "\r\n",
    "learning_rate = 0.1\r\n",
    "optimizer = optim.SGD(gru_model.parameters(), lr=learning_rate)  \r\n"
   ],
   "outputs": [],
   "metadata": {}
  },
  {
   "cell_type": "code",
   "execution_count": 44,
   "source": [
    "gru_valid_accuracy = []\r\n",
    "gru_train_loss = []\r\n",
    "\r\n",
    "for epoch in range(n_epochs):\r\n",
    "    loss = train(gru_model, train_loader, optimizer, criterion)\r\n",
    "    gru_train_loss.append(loss)\r\n",
    "\r\n",
    "    accuracy = validate(gru_model, test_loader)\r\n",
    "    gru_valid_accuracy.append(accuracy)\r\n",
    "\r\n",
    "    print(f\"epoch: {epoch+1}, training-loss: {loss}, validation-accuracy: {accuracy}\")\r\n"
   ],
   "outputs": [
    {
     "output_type": "stream",
     "name": "stdout",
     "text": [
      "epoch: 1, training-loss: 0.7077771230787039, validation-accuracy: 87.9000015258789\n",
      "epoch: 2, training-loss: 0.2980658301835259, validation-accuracy: 93.41999816894531\n",
      "epoch: 3, training-loss: 0.18355992045874397, validation-accuracy: 95.62999725341797\n",
      "epoch: 4, training-loss: 0.135502834621196, validation-accuracy: 95.31999969482422\n",
      "epoch: 5, training-loss: 0.10699059219254801, validation-accuracy: 96.80999755859375\n",
      "epoch: 6, training-loss: 0.08839867534969623, validation-accuracy: 97.33999633789062\n",
      "epoch: 7, training-loss: 0.07516795765298108, validation-accuracy: 97.54000091552734\n",
      "epoch: 8, training-loss: 0.06758966789503272, validation-accuracy: 98.0199966430664\n",
      "epoch: 9, training-loss: 0.060658116959190614, validation-accuracy: 98.12000274658203\n",
      "epoch: 10, training-loss: 0.05426666558293315, validation-accuracy: 98.22000122070312\n",
      "epoch: 11, training-loss: 0.049327762852578116, validation-accuracy: 98.29000091552734\n",
      "epoch: 12, training-loss: 0.04564874380477704, validation-accuracy: 98.04000091552734\n",
      "epoch: 13, training-loss: 0.04090337371104397, validation-accuracy: 98.51000213623047\n",
      "epoch: 14, training-loss: 0.03759238600769701, validation-accuracy: 97.95999908447266\n",
      "epoch: 15, training-loss: 0.03579336397446847, validation-accuracy: 98.4800033569336\n",
      "epoch: 16, training-loss: 0.0333946245664265, validation-accuracy: 98.79000091552734\n",
      "epoch: 17, training-loss: 0.03010988241857073, validation-accuracy: 98.80000305175781\n",
      "epoch: 18, training-loss: 0.02819448560437498, validation-accuracy: 98.68000030517578\n",
      "epoch: 19, training-loss: 0.026545372708157326, validation-accuracy: 98.7300033569336\n",
      "epoch: 20, training-loss: 0.026211045519836867, validation-accuracy: 98.72000122070312\n"
     ]
    }
   ],
   "metadata": {}
  },
  {
   "cell_type": "markdown",
   "source": [
    "# Training coRNN"
   ],
   "metadata": {}
  },
  {
   "cell_type": "code",
   "execution_count": 61,
   "source": [
    "cornn_model = coRNNModel(input_dim, hidden_dim, output_dim, n_layers, dt=0.042, gamma=2.7, epsilon=4.7)\r\n",
    "cornn_model.to(device)\r\n",
    "\r\n",
    "criterion = nn.CrossEntropyLoss()\r\n",
    "\r\n",
    "learning_rate = 0.0021\r\n",
    "# optimizer = optim.SGD(cornn_model.parameters(), lr=learning_rate)  \r\n",
    "optimizer = optim.Adam(cornn_model.parameters(), lr=learning_rate)  \r\n"
   ],
   "outputs": [],
   "metadata": {}
  },
  {
   "cell_type": "code",
   "execution_count": 62,
   "source": [
    "cornn_valid_accuracy = []\r\n",
    "cornn_train_loss = []\r\n",
    "\r\n",
    "for epoch in range(n_epochs):\r\n",
    "    loss = train(cornn_model, train_loader, optimizer, criterion)\r\n",
    "    cornn_train_loss.append(loss)\r\n",
    "\r\n",
    "    accuracy = validate(cornn_model, test_loader)\r\n",
    "    cornn_valid_accuracy.append(accuracy)\r\n",
    "\r\n",
    "    print(f\"epoch: {epoch+1}, training-loss: {loss}, validation-accuracy: {accuracy}\")\r\n"
   ],
   "outputs": [
    {
     "output_type": "stream",
     "name": "stdout",
     "text": [
      "epoch: 1, training-loss: 1.5704412242770196, validation-accuracy: 64.93000030517578\n",
      "epoch: 2, training-loss: 0.8587624691923459, validation-accuracy: 78.6500015258789\n",
      "epoch: 3, training-loss: 0.5902871764202913, validation-accuracy: 83.01000213623047\n",
      "epoch: 4, training-loss: 0.4600094723204772, validation-accuracy: 87.9000015258789\n",
      "epoch: 5, training-loss: 0.3833655276894569, validation-accuracy: 89.69000244140625\n",
      "epoch: 6, training-loss: 0.33149237078924976, validation-accuracy: 91.37999725341797\n",
      "epoch: 7, training-loss: 0.2873911603167653, validation-accuracy: 92.2699966430664\n",
      "epoch: 8, training-loss: 0.2509701771909992, validation-accuracy: 93.19999694824219\n",
      "epoch: 9, training-loss: 0.22407505427797636, validation-accuracy: 93.68000030517578\n",
      "epoch: 10, training-loss: 0.20211464758962394, validation-accuracy: 94.56999969482422\n",
      "epoch: 11, training-loss: 0.1853072544063131, validation-accuracy: 94.80000305175781\n",
      "epoch: 12, training-loss: 0.171715658052514, validation-accuracy: 94.7699966430664\n",
      "epoch: 13, training-loss: 0.16170786287325123, validation-accuracy: 95.3499984741211\n",
      "epoch: 14, training-loss: 0.15265460753813387, validation-accuracy: 95.30000305175781\n",
      "epoch: 15, training-loss: 0.1415400285149614, validation-accuracy: 95.58000183105469\n",
      "epoch: 16, training-loss: 0.1332745416664208, validation-accuracy: 95.94000244140625\n",
      "epoch: 17, training-loss: 0.12751488589371243, validation-accuracy: 95.80999755859375\n",
      "epoch: 18, training-loss: 0.12117632118364176, validation-accuracy: 96.05000305175781\n",
      "epoch: 19, training-loss: 0.11569878629098336, validation-accuracy: 96.2300033569336\n",
      "epoch: 20, training-loss: 0.11157155289004246, validation-accuracy: 96.79000091552734\n"
     ]
    }
   ],
   "metadata": {}
  },
  {
   "cell_type": "markdown",
   "source": [
    "# Plots"
   ],
   "metadata": {}
  },
  {
   "cell_type": "code",
   "execution_count": 69,
   "source": [
    "plt.plot(rnn_train_loss, label=\"RNN model\")\r\n",
    "plt.plot(lstm_train_loss, label=\"LSTM model\")\r\n",
    "plt.plot(gru_train_loss, label=\"GRU model\")\r\n",
    "plt.plot(cornn_train_loss, label=\"coRNN model\")\r\n",
    "plt.title(\"Training loss\")\r\n",
    "plt.xlabel(\"Epochs\")\r\n",
    "plt.ylabel(\"Loss\")\r\n",
    "plt.legend()\r\n",
    "plt.show()\r\n",
    "\r\n",
    "plt.plot(rnn_valid_accuracy, label=\"RNN model\")\r\n",
    "plt.plot(lstm_valid_accuracy, label=\"LSTM model\")\r\n",
    "plt.plot(gru_valid_accuracy, label=\"GRU model\")\r\n",
    "plt.plot(cornn_valid_accuracy, label=\"coRNN model\")\r\n",
    "plt.title(\"Testing accuracy\")\r\n",
    "plt.xlabel(\"Epochs\")\r\n",
    "plt.ylabel(\"Accuracy\")\r\n",
    "plt.legend()\r\n",
    "plt.show()\r\n"
   ],
   "outputs": [
    {
     "output_type": "display_data",
     "data": {
      "image/png": "[encoded data removed]",
      "text/plain": [
       "<Figure size 432x288 with 1 Axes>"
      ]
     },
     "metadata": {
      "needs_background": "light"
     }
    },
    {
     "output_type": "display_data",
     "data": {
      "image/png": "[encoded data removed]",
      "text/plain": [
       "<Figure size 432x288 with 1 Axes>"
      ]
     },
     "metadata": {
      "needs_background": "light"
     }
    }
   ],
   "metadata": {}
  }
 ],
 "metadata": {
  "orig_nbformat": 4,
  "language_info": {
   "name": "python",
   "version": "3.9.6",
   "mimetype": "text/x-python",
   "codemirror_mode": {
    "name": "ipython",
    "version": 3
   },
   "pygments_lexer": "ipython3",
   "nbconvert_exporter": "python",
   "file_extension": ".py"
  },
  "kernelspec": {
   "name": "python3",
   "display_name": "Python 3.9.6 64-bit"
  },
  "interpreter": {
   "hash": "63fd5069d213b44bf678585dea6b12cceca9941eaf7f819626cde1f2670de90d"
  }
 },
 "nbformat": 4,
 "nbformat_minor": 2
}