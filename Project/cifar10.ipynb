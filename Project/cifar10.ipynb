{
 "cells": [
  {
   "cell_type": "code",
   "execution_count": 22,
   "source": [
    "import matplotlib.pyplot as plt\r\n",
    "import numpy as np\r\n",
    "import torch\r\n",
    "import torch.nn as nn\r\n",
    "import torch.optim as optim\r\n",
    "import torchvision.transforms as vT\r\n",
    "import torchvision.datasets as datasets\r\n",
    "from torch.autograd import Variable\r\n",
    "from torch.utils.data import DataLoader, random_split\r\n"
   ],
   "outputs": [],
   "metadata": {}
  },
  {
   "cell_type": "code",
   "execution_count": 2,
   "source": [
    "device = torch.device('cuda' if torch.cuda.is_available() else 'cpu')\r\n",
    "print(device)\r\n"
   ],
   "outputs": [
    {
     "output_type": "stream",
     "name": "stdout",
     "text": [
      "cuda\n"
     ]
    }
   ],
   "metadata": {}
  },
  {
   "cell_type": "code",
   "execution_count": 38,
   "source": [
    "batch_size = 100\r\n",
    "n_epochs = 20\r\n",
    "\r\n",
    "input_dim = 32 * 3\r\n",
    "hidden_dim = 128\r\n",
    "output_dim = 10\r\n",
    "n_layers = 3\r\n"
   ],
   "outputs": [],
   "metadata": {}
  },
  {
   "cell_type": "code",
   "execution_count": 23,
   "source": [
    "transforms_train = vT.Compose([\r\n",
    "    vT.RandomCrop(32, padding=4),\r\n",
    "    vT.RandomHorizontalFlip(),\r\n",
    "    vT.ToTensor(),\r\n",
    "    vT.Normalize((0.4914, 0.4822, 0.4465), (0.2023, 0.1994, 0.2010)),\r\n",
    "])\r\n",
    "\r\n",
    "transforms_test = vT.Compose([\r\n",
    "    vT.ToTensor(),\r\n",
    "    vT.Normalize((0.4914, 0.4822, 0.4465), (0.2023, 0.1994, 0.2010)),\r\n",
    "])\r\n",
    "\r\n",
    "train_dataset = datasets.CIFAR10(root='./data', train=True, transform=transforms_train, download=True)\r\n",
    "train_dataset, valid_dataset = random_split(train_dataset, [47000, 3000])\r\n",
    "test_dataset = datasets.CIFAR10(root='./data', train=False, transform=transforms_test, download=True)\r\n",
    "\r\n",
    "train_loader = DataLoader(train_dataset, batch_size=batch_size, shuffle=True)\r\n",
    "valid_loader = DataLoader(valid_dataset, batch_size=batch_size, shuffle=True)\r\n",
    "test_loader = DataLoader(test_dataset, batch_size=batch_size, shuffle=False)\r\n",
    "\r\n",
    "classes = [\r\n",
    "    'plane', 'car', 'bird', 'cat', 'deer', 'dog', 'frog', 'horse', 'ship', 'truck'\r\n",
    "]\r\n"
   ],
   "outputs": [
    {
     "output_type": "stream",
     "name": "stdout",
     "text": [
      "Files already downloaded and verified\n",
      "Files already downloaded and verified\n"
     ]
    }
   ],
   "metadata": {}
  },
  {
   "cell_type": "markdown",
   "source": [
    "# Visualize CIFAR10"
   ],
   "metadata": {}
  },
  {
   "cell_type": "code",
   "execution_count": 5,
   "source": [
    "image, label = train_dataset[1]\r\n",
    "image = image.numpy().transpose((1, 2, 0))\r\n",
    "\r\n",
    "plt.imshow(image)\r\n",
    "plt.title(classes[label])\r\n",
    "plt.axis('off')\r\n",
    "\r\n",
    "print(image.shape)\r\n"
   ],
   "outputs": [
    {
     "output_type": "stream",
     "name": "stderr",
     "text": [
      "Clipping input data to the valid range for imshow with RGB data ([0..1] for floats or [0..255] for integers).\n"
     ]
    },
    {
     "output_type": "stream",
     "name": "stdout",
     "text": [
      "(32, 32, 3)\n"
     ]
    },
    {
     "output_type": "display_data",
     "data": {
      "image/png": "[encoded data removed]",
      "text/plain": [
       "<Figure size 432x288 with 1 Axes>"
      ]
     },
     "metadata": {
      "needs_background": "light"
     }
    }
   ],
   "metadata": {}
  },
  {
   "cell_type": "markdown",
   "source": [
    "# RNN Model"
   ],
   "metadata": {}
  },
  {
   "cell_type": "code",
   "execution_count": 79,
   "source": [
    "class RNNModel(nn.Module):\r\n",
    "    def __init__(self, input_size, hidden_size, output_size, num_layers=1):\r\n",
    "        super().__init__()\r\n",
    "\r\n",
    "        self.hidden_size = hidden_size\r\n",
    "        self.num_layers = num_layers\r\n",
    "\r\n",
    "        self.rnn = nn.RNN(input_size, hidden_size, num_layers)\r\n",
    "        self.fc = nn.Linear(hidden_size, output_size)\r\n",
    "\r\n",
    "    def forward(self, x):\r\n",
    "        h0 = torch.zeros(self.num_layers, x.size(1), self.hidden_size)\r\n",
    "        h0 = h0.to(device)\r\n",
    "\r\n",
    "        out, hn = self.rnn(x, h0)\r\n",
    "        out = self.fc(out[-1])\r\n",
    "\r\n",
    "        return out\r\n"
   ],
   "outputs": [],
   "metadata": {}
  },
  {
   "cell_type": "markdown",
   "source": [
    "# LSTM Model"
   ],
   "metadata": {}
  },
  {
   "cell_type": "code",
   "execution_count": 78,
   "source": [
    "class LSTMModel(nn.Module):\r\n",
    "    def __init__(self, input_size, hidden_size, output_size, num_layers=1):\r\n",
    "        super().__init__()\r\n",
    "\r\n",
    "        self.hidden_size = hidden_size\r\n",
    "        self.num_layers = num_layers\r\n",
    "\r\n",
    "        self.lstm = nn.LSTM(input_size, hidden_size, num_layers)\r\n",
    "        self.fc = nn.Linear(hidden_size, output_size)\r\n",
    "\r\n",
    "    def forward(self, x):\r\n",
    "        h0 = torch.zeros(self.num_layers, x.size(1), self.hidden_size)\r\n",
    "        c0 = torch.zeros(self.num_layers, x.size(1), self.hidden_size)\r\n",
    "        h0, c0 = h0.to(device), c0.to(device)\r\n",
    "\r\n",
    "        out, (hn, cn) = self.lstm(x, (h0, c0))\r\n",
    "        out = self.fc(out[-1])\r\n",
    "\r\n",
    "        return out\r\n"
   ],
   "outputs": [],
   "metadata": {}
  },
  {
   "cell_type": "markdown",
   "source": [
    "# GRU Model"
   ],
   "metadata": {}
  },
  {
   "cell_type": "code",
   "execution_count": 80,
   "source": [
    "class GRUModel(nn.Module):\r\n",
    "    def __init__(self, input_size, hidden_size, output_size, num_layers=1):\r\n",
    "        super().__init__()\r\n",
    "\r\n",
    "        self.hidden_size = hidden_size\r\n",
    "        self.num_layers = num_layers\r\n",
    "\r\n",
    "        self.gru = nn.GRU(input_size, hidden_size, num_layers)\r\n",
    "        self.fc = nn.Linear(hidden_size, output_size)\r\n",
    "\r\n",
    "    def forward(self, x):\r\n",
    "        h0 = torch.zeros(self.num_layers, x.size(1), self.hidden_size)\r\n",
    "        h0 = h0.to(device)\r\n",
    "\r\n",
    "        out, hn = self.gru(x, h0)\r\n",
    "        out = self.fc(out[-1])\r\n",
    "\r\n",
    "        return out\r\n"
   ],
   "outputs": [],
   "metadata": {}
  },
  {
   "cell_type": "markdown",
   "source": [
    "# coRNN Model"
   ],
   "metadata": {}
  },
  {
   "cell_type": "code",
   "execution_count": 117,
   "source": [
    "class coRNNCell(nn.Module):\r\n",
    "    def __init__(self, input_size, hidden_size, dt, gamma, epsilon):\r\n",
    "        super().__init__()\r\n",
    "\r\n",
    "        self.dt = dt\r\n",
    "        self.gamma = gamma\r\n",
    "        self.epsilon = epsilon\r\n",
    "\r\n",
    "        self.i2h = nn.Linear(input_size + hidden_size + hidden_size, hidden_size)\r\n",
    "\r\n",
    "    def forward(self, x, hy, hz):\r\n",
    "        x, hy, hz = x.to(device), hy.to(device), hz.to(device)\r\n",
    "        \r\n",
    "        combined_layer = torch.cat((x, hz, hy), 1)\r\n",
    "        hz += self.dt * (torch.tanh(self.i2h(combined_layer)) - self.gamma * hy - self.epsilon * hz)\r\n",
    "        hy += self.dt * hz\r\n",
    "\r\n",
    "        return hy, hz\r\n",
    "\r\n",
    "\r\n",
    "class coRNNModel(nn.Module):\r\n",
    "    def __init__(self, input_size, hidden_size, output_size, num_layers=1, dt=0.042, gamma=2.7, epsilon=4.7):\r\n",
    "        super().__init__()\r\n",
    "\r\n",
    "        self.hidden_size = hidden_size\r\n",
    "        self.num_layers = num_layers\r\n",
    "\r\n",
    "        for l in range(num_layers):\r\n",
    "            cornn_cell = coRNNCell(input_size if l == 0 else hidden_size, hidden_size, dt, gamma, epsilon)\r\n",
    "            setattr(self, f\"cornn_{l}\", cornn_cell)\r\n",
    "\r\n",
    "        self.fc = nn.Linear(hidden_size, output_size)\r\n",
    "\r\n",
    "    def forward(self, x):\r\n",
    "        hy = torch.zeros(self.num_layers, x.size(1), self.hidden_size)\r\n",
    "        hz = torch.zeros(self.num_layers, x.size(1), self.hidden_size)\r\n",
    "        hy, hz = hy.to(device), hz.to(device)\r\n",
    "\r\n",
    "        for t in range(x.size(0)):\r\n",
    "            for l in range(self.num_layers):\r\n",
    "                cornn = getattr(self, f\"cornn_{l}\")\r\n",
    "\r\n",
    "                if l == 0:\r\n",
    "                    hy[l], hz[l] = cornn(x[t], hy[l], hz[l])\r\n",
    "                else:\r\n",
    "                    hy[l], hz[l] = cornn(hy[l-1], hy[l], hz[l])\r\n",
    "\r\n",
    "        out = self.fc(hy[-1])\r\n",
    "\r\n",
    "        return out\r\n"
   ],
   "outputs": [],
   "metadata": {}
  },
  {
   "cell_type": "code",
   "execution_count": 72,
   "source": [
    "def train(model, train_loader, optimizer, criterion):\r\n",
    "    model.train()\r\n",
    "    total_loss = 0\r\n",
    "\r\n",
    "    for images, labels in train_loader:\r\n",
    "        images = images.permute(0, 2, 1, 3).reshape(batch_size, 32, 96).permute(1, 0, 2)\r\n",
    "        images, labels = images.to(device), labels.to(device)\r\n",
    "\r\n",
    "        optimizer.zero_grad()\r\n",
    "\r\n",
    "        # ? Forward pass\r\n",
    "        # * outputs size = (100, 10)\r\n",
    "        outputs = model(images)\r\n",
    "        loss = criterion(outputs, labels)\r\n",
    "\r\n",
    "        # ? Backward and optimize\r\n",
    "        loss.backward()\r\n",
    "        optimizer.step()\r\n",
    "\r\n",
    "        total_loss += loss.item()\r\n",
    "\r\n",
    "    return total_loss/len(train_loader)\r\n",
    "\r\n",
    "\r\n",
    "def validate(model, valid_loader):\r\n",
    "    model.eval()\r\n",
    "    correct, total = 0, 0\r\n",
    "\r\n",
    "    for images, labels in valid_loader:\r\n",
    "        images = images.permute(0, 2, 1, 3).reshape(batch_size, 32, 96).permute(1, 0, 2)\r\n",
    "        images = images.to(device)\r\n",
    "\r\n",
    "        outputs = model(images)\r\n",
    "\r\n",
    "        # ? Get predictions from the maximum value\r\n",
    "        _, predicted = torch.max(outputs.data, 1)\r\n",
    "\r\n",
    "        total += labels.size(0)\r\n",
    "        correct += (predicted.cpu() == labels.cpu()).sum()\r\n",
    "\r\n",
    "    accuracy = 100 * correct / total\r\n",
    "    \r\n",
    "    return accuracy\r\n",
    "\r\n",
    "def predict(model, image):\r\n",
    "    image = image.permute(0, 2, 1, 3).reshape(batch_size, 32, 96).permute(1, 0, 2)\r\n",
    "\r\n",
    "    model.eval()\r\n",
    "    outputs = model(image)\r\n",
    "    _, predicted = torch.max(outputs.data, 1)\r\n",
    "\r\n",
    "    return predicted\r\n"
   ],
   "outputs": [],
   "metadata": {}
  },
  {
   "cell_type": "markdown",
   "source": [
    "# Training RNN"
   ],
   "metadata": {}
  },
  {
   "cell_type": "code",
   "execution_count": 76,
   "source": [
    "rnn_model = RNNModel(input_dim, hidden_dim, output_dim)\r\n",
    "rnn_model.to(device)\r\n",
    "\r\n",
    "criterion = nn.CrossEntropyLoss()\r\n",
    "\r\n",
    "learning_rate = 0.001\r\n",
    "optimizer = optim.SGD(rnn_model.parameters(), lr=learning_rate)  \r\n",
    "# optimizer = optim.Adam(model.parameters(), lr=learning_rate)\r\n"
   ],
   "outputs": [],
   "metadata": {}
  },
  {
   "cell_type": "code",
   "execution_count": 77,
   "source": [
    "rnn_train_loss = []\r\n",
    "rnn_valid_accuracy = []\r\n",
    "rnn_test_accuracy = []\r\n",
    "\r\n",
    "for epoch in range(n_epochs):\r\n",
    "    loss = train(rnn_model, train_loader, optimizer, criterion)\r\n",
    "    rnn_train_loss.append(loss)\r\n",
    "\r\n",
    "    valid_accuracy = validate(rnn_model, valid_loader)\r\n",
    "    test_accuracy = validate(rnn_model, valid_loader)\r\n",
    "    rnn_valid_accuracy.append(valid_accuracy)\r\n",
    "    rnn_test_accuracy.append(test_accuracy)\r\n",
    "\r\n",
    "    print(f\"Epoch: {epoch+1}, train loss: {loss:.3f}, valid accuracy: {valid_accuracy:.3f}, test accuracy: {test_accuracy:.3f}\")\r\n"
   ],
   "outputs": [
    {
     "output_type": "stream",
     "name": "stdout",
     "text": [
      "Epoch: 1, train loss: 2.188, valid accuracy: 18.600, test accuracy: 17.533\n",
      "Epoch: 2, train loss: 2.155, valid accuracy: 24.367, test accuracy: 23.367\n",
      "Epoch: 3, train loss: 2.090, valid accuracy: 24.700, test accuracy: 25.133\n",
      "Epoch: 4, train loss: 2.110, valid accuracy: 22.167, test accuracy: 22.967\n",
      "Epoch: 5, train loss: 2.121, valid accuracy: 27.000, test accuracy: 26.833\n",
      "Epoch: 6, train loss: 2.087, valid accuracy: 21.333, test accuracy: 21.067\n",
      "Epoch: 7, train loss: 2.140, valid accuracy: 21.867, test accuracy: 21.633\n",
      "Epoch: 8, train loss: 2.136, valid accuracy: 19.967, test accuracy: 20.267\n",
      "Epoch: 9, train loss: 2.110, valid accuracy: 23.600, test accuracy: 22.867\n",
      "Epoch: 10, train loss: 2.149, valid accuracy: 22.767, test accuracy: 22.833\n",
      "Epoch: 11, train loss: 2.137, valid accuracy: 23.967, test accuracy: 23.700\n",
      "Epoch: 12, train loss: 2.137, valid accuracy: 19.233, test accuracy: 21.333\n",
      "Epoch: 13, train loss: 2.135, valid accuracy: 21.867, test accuracy: 21.200\n",
      "Epoch: 14, train loss: 2.103, valid accuracy: 23.467, test accuracy: 23.367\n",
      "Epoch: 15, train loss: 2.127, valid accuracy: 21.467, test accuracy: 21.133\n",
      "Epoch: 16, train loss: 2.142, valid accuracy: 19.500, test accuracy: 19.967\n",
      "Epoch: 17, train loss: 2.152, valid accuracy: 22.200, test accuracy: 21.467\n",
      "Epoch: 18, train loss: 2.154, valid accuracy: 19.000, test accuracy: 20.867\n",
      "Epoch: 19, train loss: 2.148, valid accuracy: 22.133, test accuracy: 21.567\n",
      "Epoch: 20, train loss: 2.108, valid accuracy: 23.167, test accuracy: 22.667\n"
     ]
    }
   ],
   "metadata": {}
  },
  {
   "cell_type": "markdown",
   "source": [
    "# Training LSTM"
   ],
   "metadata": {}
  },
  {
   "cell_type": "code",
   "execution_count": 81,
   "source": [
    "lstm_model = LSTMModel(input_dim, hidden_dim, output_dim, n_layers)\r\n",
    "lstm_model.to(device)\r\n",
    "\r\n",
    "criterion = nn.CrossEntropyLoss()\r\n",
    "\r\n",
    "learning_rate = 1e-3\r\n",
    "optimizer = optim.SGD(lstm_model.parameters(), lr=learning_rate)  \r\n"
   ],
   "outputs": [],
   "metadata": {}
  },
  {
   "cell_type": "code",
   "execution_count": 82,
   "source": [
    "lstm_train_loss = []\r\n",
    "lstm_valid_accuracy = []\r\n",
    "lstm_test_accuracy = []\r\n",
    "\r\n",
    "for epoch in range(n_epochs):\r\n",
    "    loss = train(lstm_model, train_loader, optimizer, criterion)\r\n",
    "    lstm_train_loss.append(loss)\r\n",
    "\r\n",
    "    valid_accuracy = validate(lstm_model, valid_loader)\r\n",
    "    test_accuracy = validate(lstm_model, valid_loader)\r\n",
    "    lstm_valid_accuracy.append(valid_accuracy)\r\n",
    "    lstm_test_accuracy.append(test_accuracy)\r\n",
    "\r\n",
    "    print(f\"Epoch: {epoch+1}, train loss: {loss:.3f}, valid accuracy: {valid_accuracy:.3f}, test accuracy: {test_accuracy:.3f}\")\r\n"
   ],
   "outputs": [
    {
     "output_type": "stream",
     "name": "stdout",
     "text": [
      "Epoch: 1, train loss: 2.275, valid accuracy: 20.300, test accuracy: 20.633\n",
      "Epoch: 2, train loss: 2.021, valid accuracy: 24.633, test accuracy: 25.400\n",
      "Epoch: 3, train loss: 1.865, valid accuracy: 31.967, test accuracy: 31.333\n",
      "Epoch: 4, train loss: 1.766, valid accuracy: 35.967, test accuracy: 35.867\n",
      "Epoch: 5, train loss: 1.698, valid accuracy: 36.667, test accuracy: 36.300\n",
      "Epoch: 6, train loss: 1.648, valid accuracy: 38.367, test accuracy: 38.433\n",
      "Epoch: 7, train loss: 1.597, valid accuracy: 40.433, test accuracy: 40.967\n",
      "Epoch: 8, train loss: 1.560, valid accuracy: 42.867, test accuracy: 44.633\n",
      "Epoch: 9, train loss: 1.522, valid accuracy: 46.033, test accuracy: 44.467\n",
      "Epoch: 10, train loss: 1.485, valid accuracy: 44.800, test accuracy: 45.000\n",
      "Epoch: 11, train loss: 1.454, valid accuracy: 45.367, test accuracy: 45.900\n",
      "Epoch: 12, train loss: 1.426, valid accuracy: 47.300, test accuracy: 47.733\n",
      "Epoch: 13, train loss: 1.402, valid accuracy: 48.500, test accuracy: 48.800\n",
      "Epoch: 14, train loss: 1.375, valid accuracy: 50.200, test accuracy: 50.433\n",
      "Epoch: 15, train loss: 1.346, valid accuracy: 51.467, test accuracy: 50.200\n",
      "Epoch: 16, train loss: 1.325, valid accuracy: 52.033, test accuracy: 50.800\n",
      "Epoch: 17, train loss: 1.303, valid accuracy: 52.100, test accuracy: 51.900\n",
      "Epoch: 18, train loss: 1.284, valid accuracy: 52.767, test accuracy: 52.167\n",
      "Epoch: 19, train loss: 1.264, valid accuracy: 52.367, test accuracy: 54.400\n",
      "Epoch: 20, train loss: 1.246, valid accuracy: 54.100, test accuracy: 53.233\n"
     ]
    }
   ],
   "metadata": {}
  },
  {
   "cell_type": "markdown",
   "source": [
    "# Training GRU"
   ],
   "metadata": {}
  },
  {
   "cell_type": "code",
   "execution_count": 87,
   "source": [
    "gru_model = GRUModel(input_dim, hidden_dim, output_dim, n_layers)\r\n",
    "gru_model.to(device)\r\n",
    "\r\n",
    "criterion = nn.CrossEntropyLoss()\r\n",
    "\r\n",
    "learning_rate = 0.1\r\n",
    "optimizer = optim.SGD(gru_model.parameters(), lr=learning_rate)\r\n"
   ],
   "outputs": [],
   "metadata": {}
  },
  {
   "cell_type": "code",
   "execution_count": 89,
   "source": [
    "gru_train_loss = []\r\n",
    "gru_valid_accuracy = []\r\n",
    "gru_test_accuracy = []\r\n",
    "\r\n",
    "for epoch in range(n_epochs):\r\n",
    "    loss = train(gru_model, train_loader, optimizer, criterion)\r\n",
    "    gru_train_loss.append(loss)\r\n",
    "\r\n",
    "    valid_accuracy = validate(gru_model, valid_loader)\r\n",
    "    test_accuracy = validate(gru_model, valid_loader)\r\n",
    "    gru_valid_accuracy.append(valid_accuracy)\r\n",
    "    gru_test_accuracy.append(test_accuracy)\r\n",
    "\r\n",
    "    print(f\"Epoch: {epoch+1}, train loss: {loss:.3f}, valid accuracy: {valid_accuracy:.3f}, test accuracy: {test_accuracy:.3f}\")\r\n"
   ],
   "outputs": [
    {
     "output_type": "stream",
     "name": "stdout",
     "text": [
      "Epoch: 1, train loss: 2.279, valid accuracy: 17.200, test accuracy: 17.100\n",
      "Epoch: 2, train loss: 2.272, valid accuracy: 17.567, test accuracy: 17.600\n",
      "Epoch: 3, train loss: 2.264, valid accuracy: 17.900, test accuracy: 18.867\n",
      "Epoch: 4, train loss: 2.256, valid accuracy: 18.933, test accuracy: 18.533\n",
      "Epoch: 5, train loss: 2.248, valid accuracy: 18.867, test accuracy: 19.133\n",
      "Epoch: 6, train loss: 2.239, valid accuracy: 20.200, test accuracy: 19.767\n",
      "Epoch: 7, train loss: 2.228, valid accuracy: 20.867, test accuracy: 21.033\n",
      "Epoch: 8, train loss: 2.216, valid accuracy: 21.467, test accuracy: 21.400\n",
      "Epoch: 9, train loss: 2.203, valid accuracy: 22.467, test accuracy: 21.100\n",
      "Epoch: 10, train loss: 2.188, valid accuracy: 21.567, test accuracy: 21.867\n",
      "Epoch: 11, train loss: 2.174, valid accuracy: 21.100, test accuracy: 21.800\n",
      "Epoch: 12, train loss: 2.160, valid accuracy: 22.100, test accuracy: 22.467\n",
      "Epoch: 13, train loss: 2.148, valid accuracy: 22.667, test accuracy: 23.367\n",
      "Epoch: 14, train loss: 2.138, valid accuracy: 22.500, test accuracy: 23.500\n",
      "Epoch: 15, train loss: 2.130, valid accuracy: 23.800, test accuracy: 22.800\n",
      "Epoch: 16, train loss: 2.123, valid accuracy: 23.067, test accuracy: 24.067\n",
      "Epoch: 17, train loss: 2.116, valid accuracy: 23.067, test accuracy: 22.867\n",
      "Epoch: 18, train loss: 2.111, valid accuracy: 23.900, test accuracy: 23.400\n",
      "Epoch: 19, train loss: 2.108, valid accuracy: 24.133, test accuracy: 23.533\n",
      "Epoch: 20, train loss: 2.104, valid accuracy: 23.767, test accuracy: 23.000\n"
     ]
    }
   ],
   "metadata": {}
  },
  {
   "cell_type": "markdown",
   "source": [
    "# Training coRNN"
   ],
   "metadata": {}
  },
  {
   "cell_type": "code",
   "execution_count": 120,
   "source": [
    "cornn_model = coRNNModel(input_dim, hidden_dim, output_dim, 1, dt=0.042, gamma=2.7, epsilon=4.7)\r\n",
    "cornn_model.to(device)\r\n",
    "\r\n",
    "criterion = nn.CrossEntropyLoss()\r\n",
    "\r\n",
    "learning_rate = 0.0021\r\n",
    "optimizer = optim.Adam(cornn_model.parameters(), lr=learning_rate)  \r\n"
   ],
   "outputs": [],
   "metadata": {}
  },
  {
   "cell_type": "code",
   "execution_count": 121,
   "source": [
    "cornn_train_loss = []\r\n",
    "cornn_valid_accuracy = []\r\n",
    "cornn_test_accuracy = []\r\n",
    "\r\n",
    "for epoch in range(n_epochs):\r\n",
    "    loss = train(cornn_model, train_loader, optimizer, criterion)\r\n",
    "    cornn_train_loss.append(loss)\r\n",
    "\r\n",
    "    valid_accuracy = validate(cornn_model, valid_loader)\r\n",
    "    test_accuracy = validate(cornn_model, valid_loader)\r\n",
    "    cornn_valid_accuracy.append(valid_accuracy)\r\n",
    "    cornn_test_accuracy.append(test_accuracy)\r\n",
    "\r\n",
    "    print(f\"Epoch: {epoch+1}, train loss: {loss:.3f}, valid accuracy: {valid_accuracy:.3f}, test accuracy: {test_accuracy:.3f}\")\r\n"
   ],
   "outputs": [],
   "metadata": {}
  },
  {
   "cell_type": "code",
   "execution_count": 91,
   "source": [
    "cornn_train_loss = []\r\n",
    "cornn_valid_accuracy = []\r\n",
    "cornn_test_accuracy = []\r\n",
    "\r\n",
    "for epoch in range(n_epochs):\r\n",
    "    loss = train(cornn_model, train_loader, optimizer, criterion)\r\n",
    "    cornn_train_loss.append(loss)\r\n",
    "\r\n",
    "    valid_accuracy = validate(cornn_model, valid_loader)\r\n",
    "    test_accuracy = validate(cornn_model, valid_loader)\r\n",
    "    cornn_valid_accuracy.append(valid_accuracy)\r\n",
    "    cornn_test_accuracy.append(test_accuracy)\r\n",
    "\r\n",
    "    print(f\"Epoch: {epoch+1}, train loss: {loss:.3f}, valid accuracy: {valid_accuracy:.3f}, test accuracy: {test_accuracy:.3f}\")\r\n"
   ],
   "outputs": [
    {
     "output_type": "stream",
     "name": "stdout",
     "text": [
      "Epoch: 1, train loss: 1.985, valid accuracy: 30.700, test accuracy: 31.100\n",
      "Epoch: 2, train loss: 1.824, valid accuracy: 36.433, test accuracy: 35.033\n",
      "Epoch: 3, train loss: 1.736, valid accuracy: 39.333, test accuracy: 40.033\n",
      "Epoch: 4, train loss: 1.680, valid accuracy: 41.000, test accuracy: 41.667\n",
      "Epoch: 5, train loss: 1.638, valid accuracy: 43.100, test accuracy: 43.400\n",
      "Epoch: 6, train loss: 1.601, valid accuracy: 43.167, test accuracy: 42.533\n",
      "Epoch: 7, train loss: 1.576, valid accuracy: 44.633, test accuracy: 44.567\n",
      "Epoch: 8, train loss: 1.546, valid accuracy: 46.033, test accuracy: 45.500\n",
      "Epoch: 9, train loss: 1.526, valid accuracy: 45.667, test accuracy: 46.900\n",
      "Epoch: 10, train loss: 1.510, valid accuracy: 47.167, test accuracy: 46.400\n",
      "Epoch: 11, train loss: 1.490, valid accuracy: 47.900, test accuracy: 47.167\n",
      "Epoch: 12, train loss: 1.473, valid accuracy: 47.100, test accuracy: 46.667\n",
      "Epoch: 13, train loss: 1.463, valid accuracy: 47.500, test accuracy: 48.067\n",
      "Epoch: 14, train loss: 1.449, valid accuracy: 47.967, test accuracy: 48.233\n",
      "Epoch: 15, train loss: 1.437, valid accuracy: 49.167, test accuracy: 48.967\n",
      "Epoch: 16, train loss: 1.425, valid accuracy: 48.533, test accuracy: 48.333\n",
      "Epoch: 17, train loss: 1.416, valid accuracy: 48.533, test accuracy: 48.233\n",
      "Epoch: 18, train loss: 1.410, valid accuracy: 50.233, test accuracy: 49.933\n",
      "Epoch: 19, train loss: 1.401, valid accuracy: 48.400, test accuracy: 48.800\n",
      "Epoch: 20, train loss: 1.396, valid accuracy: 48.500, test accuracy: 48.900\n"
     ]
    }
   ],
   "metadata": {}
  },
  {
   "cell_type": "markdown",
   "source": [
    "# Plots"
   ],
   "metadata": {}
  },
  {
   "cell_type": "code",
   "execution_count": 98,
   "source": [
    "plt.plot(rnn_train_loss, label=\"RNN model\")\r\n",
    "plt.plot(lstm_train_loss, label=\"LSTM model\")\r\n",
    "plt.plot(gru_train_loss, label=\"GRU model\")\r\n",
    "plt.plot(cornn_train_loss, label=\"coRNN model\")\r\n",
    "plt.title(\"Training loss\")\r\n",
    "plt.xlabel(\"Epochs\")\r\n",
    "plt.ylabel(\"Loss\")\r\n",
    "plt.legend()\r\n",
    "plt.savefig(\"./plots/cifar10/Training loss comparison.png\", dpi=300)\r\n",
    "plt.show()\r\n",
    "\r\n",
    "\r\n",
    "plt.plot(rnn_valid_accuracy, label=\"RNN model\")\r\n",
    "plt.plot(lstm_valid_accuracy, label=\"LSTM model\")\r\n",
    "plt.plot(gru_valid_accuracy, label=\"GRU model\")\r\n",
    "plt.plot(cornn_valid_accuracy, label=\"coRNN model\")\r\n",
    "plt.title(\"Validation accuracy\")\r\n",
    "plt.xlabel(\"Epochs\")\r\n",
    "plt.ylabel(\"Accuracy (%)\")\r\n",
    "plt.legend()\r\n",
    "plt.savefig(\"./plots/cifar10/Validation accuracy comparison.png\", dpi=300)\r\n",
    "plt.show()\r\n",
    "\r\n",
    "\r\n",
    "plt.plot(rnn_test_accuracy, label=\"RNN model\")\r\n",
    "plt.plot(lstm_test_accuracy, label=\"LSTM model\")\r\n",
    "plt.plot(gru_test_accuracy, label=\"GRU model\")\r\n",
    "plt.plot(cornn_test_accuracy, label=\"coRNN model\")\r\n",
    "plt.title(\"Testing accuracy\")\r\n",
    "plt.xlabel(\"Epochs\")\r\n",
    "plt.ylabel(\"Accuracy (%)\")\r\n",
    "plt.legend()\r\n",
    "plt.savefig(\"./plots/cifar10/Testing accuracy comparison.png\", dpi=300)\r\n",
    "plt.show()\r\n"
   ],
   "outputs": [
    {
     "output_type": "display_data",
     "data": {
      "image/png": "[encoded data removed]",
      "text/plain": [
       "<Figure size 432x288 with 1 Axes>"
      ]
     },
     "metadata": {
      "needs_background": "light"
     }
    },
    {
     "output_type": "display_data",
     "data": {
      "image/png": "[encoded data removed]",
      "text/plain": [
       "<Figure size 432x288 with 1 Axes>"
      ]
     },
     "metadata": {
      "needs_background": "light"
     }
    },
    {
     "output_type": "display_data",
     "data": {
      "image/png": "[encoded data removed]",
      "text/plain": [
       "<Figure size 432x288 with 1 Axes>"
      ]
     },
     "metadata": {
      "needs_background": "light"
     }
    }
   ],
   "metadata": {}
  },
  {
   "cell_type": "code",
   "execution_count": null,
   "source": [],
   "outputs": [],
   "metadata": {}
  }
 ],
 "metadata": {
  "orig_nbformat": 4,
  "language_info": {
   "name": "python",
   "version": "3.9.6",
   "mimetype": "text/x-python",
   "codemirror_mode": {
    "name": "ipython",
    "version": 3
   },
   "pygments_lexer": "ipython3",
   "nbconvert_exporter": "python",
   "file_extension": ".py"
  },
  "kernelspec": {
   "name": "python3",
   "display_name": "Python 3.9.6 64-bit"
  },
  "interpreter": {
   "hash": "63fd5069d213b44bf678585dea6b12cceca9941eaf7f819626cde1f2670de90d"
  }
 },
 "nbformat": 4,
 "nbformat_minor": 2
}